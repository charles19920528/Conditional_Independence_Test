{
 "cells": [
  {
   "cell_type": "code",
   "execution_count": 1,
   "id": "ccef8569",
   "metadata": {},
   "outputs": [],
   "source": [
    "import pandas as pd\n",
    "import numpy as np"
   ]
  },
  {
   "cell_type": "code",
   "execution_count": 2,
   "id": "a4ac5003",
   "metadata": {},
   "outputs": [],
   "source": [
    "review_dt = pd.read_json(\"data/amazon_data/AMAZON_FASHION.json\", lines=True)"
   ]
  },
  {
   "cell_type": "code",
   "execution_count": 3,
   "id": "4e87c3b3",
   "metadata": {},
   "outputs": [
    {
     "data": {
      "text/html": [
       "<div>\n",
       "<style scoped>\n",
       "    .dataframe tbody tr th:only-of-type {\n",
       "        vertical-align: middle;\n",
       "    }\n",
       "\n",
       "    .dataframe tbody tr th {\n",
       "        vertical-align: top;\n",
       "    }\n",
       "\n",
       "    .dataframe thead th {\n",
       "        text-align: right;\n",
       "    }\n",
       "</style>\n",
       "<table border=\"1\" class=\"dataframe\">\n",
       "  <thead>\n",
       "    <tr style=\"text-align: right;\">\n",
       "      <th></th>\n",
       "      <th>overall</th>\n",
       "      <th>verified</th>\n",
       "      <th>reviewTime</th>\n",
       "      <th>reviewerID</th>\n",
       "      <th>asin</th>\n",
       "      <th>reviewerName</th>\n",
       "      <th>reviewText</th>\n",
       "      <th>summary</th>\n",
       "      <th>unixReviewTime</th>\n",
       "      <th>vote</th>\n",
       "      <th>style</th>\n",
       "      <th>image</th>\n",
       "    </tr>\n",
       "  </thead>\n",
       "  <tbody>\n",
       "    <tr>\n",
       "      <th>0</th>\n",
       "      <td>5</td>\n",
       "      <td>True</td>\n",
       "      <td>10 20, 2014</td>\n",
       "      <td>A1D4G1SNUZWQOT</td>\n",
       "      <td>7106116521</td>\n",
       "      <td>Tracy</td>\n",
       "      <td>Exactly what I needed.</td>\n",
       "      <td>perfect replacements!!</td>\n",
       "      <td>1413763200</td>\n",
       "      <td>NaN</td>\n",
       "      <td>NaN</td>\n",
       "      <td>NaN</td>\n",
       "    </tr>\n",
       "    <tr>\n",
       "      <th>1</th>\n",
       "      <td>2</td>\n",
       "      <td>True</td>\n",
       "      <td>09 28, 2014</td>\n",
       "      <td>A3DDWDH9PX2YX2</td>\n",
       "      <td>7106116521</td>\n",
       "      <td>Sonja Lau</td>\n",
       "      <td>I agree with the other review, the opening is ...</td>\n",
       "      <td>I agree with the other review, the opening is ...</td>\n",
       "      <td>1411862400</td>\n",
       "      <td>3.0</td>\n",
       "      <td>NaN</td>\n",
       "      <td>NaN</td>\n",
       "    </tr>\n",
       "    <tr>\n",
       "      <th>2</th>\n",
       "      <td>4</td>\n",
       "      <td>False</td>\n",
       "      <td>08 25, 2014</td>\n",
       "      <td>A2MWC41EW7XL15</td>\n",
       "      <td>7106116521</td>\n",
       "      <td>Kathleen</td>\n",
       "      <td>Love these... I am going to order another pack...</td>\n",
       "      <td>My New 'Friends' !!</td>\n",
       "      <td>1408924800</td>\n",
       "      <td>NaN</td>\n",
       "      <td>NaN</td>\n",
       "      <td>NaN</td>\n",
       "    </tr>\n",
       "    <tr>\n",
       "      <th>3</th>\n",
       "      <td>2</td>\n",
       "      <td>True</td>\n",
       "      <td>08 24, 2014</td>\n",
       "      <td>A2UH2QQ275NV45</td>\n",
       "      <td>7106116521</td>\n",
       "      <td>Jodi Stoner</td>\n",
       "      <td>too tiny an opening</td>\n",
       "      <td>Two Stars</td>\n",
       "      <td>1408838400</td>\n",
       "      <td>NaN</td>\n",
       "      <td>NaN</td>\n",
       "      <td>NaN</td>\n",
       "    </tr>\n",
       "    <tr>\n",
       "      <th>4</th>\n",
       "      <td>3</td>\n",
       "      <td>False</td>\n",
       "      <td>07 27, 2014</td>\n",
       "      <td>A89F3LQADZBS5</td>\n",
       "      <td>7106116521</td>\n",
       "      <td>Alexander D.</td>\n",
       "      <td>Okay</td>\n",
       "      <td>Three Stars</td>\n",
       "      <td>1406419200</td>\n",
       "      <td>NaN</td>\n",
       "      <td>NaN</td>\n",
       "      <td>NaN</td>\n",
       "    </tr>\n",
       "  </tbody>\n",
       "</table>\n",
       "</div>"
      ],
      "text/plain": [
       "   overall  verified   reviewTime      reviewerID        asin  reviewerName  \\\n",
       "0        5      True  10 20, 2014  A1D4G1SNUZWQOT  7106116521         Tracy   \n",
       "1        2      True  09 28, 2014  A3DDWDH9PX2YX2  7106116521     Sonja Lau   \n",
       "2        4     False  08 25, 2014  A2MWC41EW7XL15  7106116521      Kathleen   \n",
       "3        2      True  08 24, 2014  A2UH2QQ275NV45  7106116521   Jodi Stoner   \n",
       "4        3     False  07 27, 2014   A89F3LQADZBS5  7106116521  Alexander D.   \n",
       "\n",
       "                                          reviewText  \\\n",
       "0                             Exactly what I needed.   \n",
       "1  I agree with the other review, the opening is ...   \n",
       "2  Love these... I am going to order another pack...   \n",
       "3                                too tiny an opening   \n",
       "4                                               Okay   \n",
       "\n",
       "                                             summary  unixReviewTime  vote  \\\n",
       "0                             perfect replacements!!      1413763200   NaN   \n",
       "1  I agree with the other review, the opening is ...      1411862400   3.0   \n",
       "2                                My New 'Friends' !!      1408924800   NaN   \n",
       "3                                          Two Stars      1408838400   NaN   \n",
       "4                                        Three Stars      1406419200   NaN   \n",
       "\n",
       "  style image  \n",
       "0   NaN   NaN  \n",
       "1   NaN   NaN  \n",
       "2   NaN   NaN  \n",
       "3   NaN   NaN  \n",
       "4   NaN   NaN  "
      ]
     },
     "execution_count": 3,
     "metadata": {},
     "output_type": "execute_result"
    }
   ],
   "source": [
    "review_dt.head()"
   ]
  },
  {
   "cell_type": "markdown",
   "id": "07913814",
   "metadata": {},
   "source": [
    "# Metadata"
   ]
  },
  {
   "cell_type": "code",
   "execution_count": 4,
   "id": "62190a7c",
   "metadata": {},
   "outputs": [],
   "source": [
    "meta_dt = pd.read_json(\"data/amazon_data/meta_AMAZON_FASHION.json\", lines=True)"
   ]
  },
  {
   "cell_type": "code",
   "execution_count": 5,
   "id": "39d32c1c",
   "metadata": {},
   "outputs": [
    {
     "data": {
      "text/plain": [
       "(186637, 16)"
      ]
     },
     "execution_count": 5,
     "metadata": {},
     "output_type": "execute_result"
    }
   ],
   "source": [
    "meta_dt.shape"
   ]
  },
  {
   "cell_type": "code",
   "execution_count": 6,
   "id": "2d90e9e4",
   "metadata": {},
   "outputs": [
    {
     "data": {
      "text/html": [
       "<div>\n",
       "<style scoped>\n",
       "    .dataframe tbody tr th:only-of-type {\n",
       "        vertical-align: middle;\n",
       "    }\n",
       "\n",
       "    .dataframe tbody tr th {\n",
       "        vertical-align: top;\n",
       "    }\n",
       "\n",
       "    .dataframe thead th {\n",
       "        text-align: right;\n",
       "    }\n",
       "</style>\n",
       "<table border=\"1\" class=\"dataframe\">\n",
       "  <thead>\n",
       "    <tr style=\"text-align: right;\">\n",
       "      <th></th>\n",
       "      <th>title</th>\n",
       "      <th>brand</th>\n",
       "      <th>feature</th>\n",
       "      <th>rank</th>\n",
       "      <th>date</th>\n",
       "      <th>asin</th>\n",
       "      <th>imageURL</th>\n",
       "      <th>imageURLHighRes</th>\n",
       "      <th>description</th>\n",
       "      <th>price</th>\n",
       "      <th>also_view</th>\n",
       "      <th>also_buy</th>\n",
       "      <th>fit</th>\n",
       "      <th>details</th>\n",
       "      <th>similar_item</th>\n",
       "      <th>tech1</th>\n",
       "    </tr>\n",
       "  </thead>\n",
       "  <tbody>\n",
       "    <tr>\n",
       "      <th>0</th>\n",
       "      <td>Slime Time Fall Fest [With CDROM and Collector...</td>\n",
       "      <td>Group Publishing (CO)</td>\n",
       "      <td>[Product Dimensions:\\n                    \\n8....</td>\n",
       "      <td>13,052,976inClothing,Shoesamp;Jewelry(</td>\n",
       "      <td>8.70 inches</td>\n",
       "      <td>0764443682</td>\n",
       "      <td>[https://images-na.ssl-images-amazon.com/image...</td>\n",
       "      <td>[https://images-na.ssl-images-amazon.com/image...</td>\n",
       "      <td>NaN</td>\n",
       "      <td>NaN</td>\n",
       "      <td>NaN</td>\n",
       "      <td>NaN</td>\n",
       "      <td>NaN</td>\n",
       "      <td>NaN</td>\n",
       "      <td>NaN</td>\n",
       "      <td>NaN</td>\n",
       "    </tr>\n",
       "    <tr>\n",
       "      <th>1</th>\n",
       "      <td>XCC Qi promise new spider snake preparing men'...</td>\n",
       "      <td>NaN</td>\n",
       "      <td>NaN</td>\n",
       "      <td>11,654,581inClothing,Shoesamp;Jewelry(</td>\n",
       "      <td>5 star</td>\n",
       "      <td>1291691480</td>\n",
       "      <td>[https://images-na.ssl-images-amazon.com/image...</td>\n",
       "      <td>[https://images-na.ssl-images-amazon.com/image...</td>\n",
       "      <td>NaN</td>\n",
       "      <td>NaN</td>\n",
       "      <td>NaN</td>\n",
       "      <td>NaN</td>\n",
       "      <td>NaN</td>\n",
       "      <td>NaN</td>\n",
       "      <td>NaN</td>\n",
       "      <td>NaN</td>\n",
       "    </tr>\n",
       "    <tr>\n",
       "      <th>2</th>\n",
       "      <td>Magical Things I Really Do Do Too!</td>\n",
       "      <td>Christopher Manos</td>\n",
       "      <td>[Package Dimensions:\\n                    \\n8....</td>\n",
       "      <td>19,308,073inClothing,ShoesJewelry(</td>\n",
       "      <td>5 star</td>\n",
       "      <td>1940280001</td>\n",
       "      <td>[https://images-na.ssl-images-amazon.com/image...</td>\n",
       "      <td>[https://images-na.ssl-images-amazon.com/image...</td>\n",
       "      <td>[For the professional or amateur magician.  Ro...</td>\n",
       "      <td>NaN</td>\n",
       "      <td>NaN</td>\n",
       "      <td>NaN</td>\n",
       "      <td>NaN</td>\n",
       "      <td>NaN</td>\n",
       "      <td>NaN</td>\n",
       "      <td>NaN</td>\n",
       "    </tr>\n",
       "    <tr>\n",
       "      <th>3</th>\n",
       "      <td>Ashes to Ashes, Oranges to Oranges</td>\n",
       "      <td>Flickerlamp Publishing</td>\n",
       "      <td>[Package Dimensions:\\n                    \\n8....</td>\n",
       "      <td>19,734,184inClothing,ShoesJewelry(</td>\n",
       "      <td>5 star</td>\n",
       "      <td>1940735033</td>\n",
       "      <td>[https://images-na.ssl-images-amazon.com/image...</td>\n",
       "      <td>[https://images-na.ssl-images-amazon.com/image...</td>\n",
       "      <td>NaN</td>\n",
       "      <td>NaN</td>\n",
       "      <td>NaN</td>\n",
       "      <td>NaN</td>\n",
       "      <td>NaN</td>\n",
       "      <td>NaN</td>\n",
       "      <td>NaN</td>\n",
       "      <td>NaN</td>\n",
       "    </tr>\n",
       "    <tr>\n",
       "      <th>4</th>\n",
       "      <td>Aether &amp; Empire #1 - 2016 First Printing Comic...</td>\n",
       "      <td>NaN</td>\n",
       "      <td>[Package Dimensions:\\n                    \\n10...</td>\n",
       "      <td>10,558,646inClothing,Shoesamp;Jewelry(</td>\n",
       "      <td>5 star</td>\n",
       "      <td>1940967805</td>\n",
       "      <td>[https://images-na.ssl-images-amazon.com/image...</td>\n",
       "      <td>[https://images-na.ssl-images-amazon.com/image...</td>\n",
       "      <td>NaN</td>\n",
       "      <td>$4.50</td>\n",
       "      <td>NaN</td>\n",
       "      <td>NaN</td>\n",
       "      <td>NaN</td>\n",
       "      <td>NaN</td>\n",
       "      <td>NaN</td>\n",
       "      <td>NaN</td>\n",
       "    </tr>\n",
       "  </tbody>\n",
       "</table>\n",
       "</div>"
      ],
      "text/plain": [
       "                                               title                   brand  \\\n",
       "0  Slime Time Fall Fest [With CDROM and Collector...   Group Publishing (CO)   \n",
       "1  XCC Qi promise new spider snake preparing men'...                     NaN   \n",
       "2                 Magical Things I Really Do Do Too!       Christopher Manos   \n",
       "3                 Ashes to Ashes, Oranges to Oranges  Flickerlamp Publishing   \n",
       "4  Aether & Empire #1 - 2016 First Printing Comic...                     NaN   \n",
       "\n",
       "                                             feature  \\\n",
       "0  [Product Dimensions:\\n                    \\n8....   \n",
       "1                                                NaN   \n",
       "2  [Package Dimensions:\\n                    \\n8....   \n",
       "3  [Package Dimensions:\\n                    \\n8....   \n",
       "4  [Package Dimensions:\\n                    \\n10...   \n",
       "\n",
       "                                     rank         date        asin  \\\n",
       "0  13,052,976inClothing,Shoesamp;Jewelry(  8.70 inches  0764443682   \n",
       "1  11,654,581inClothing,Shoesamp;Jewelry(       5 star  1291691480   \n",
       "2      19,308,073inClothing,ShoesJewelry(       5 star  1940280001   \n",
       "3      19,734,184inClothing,ShoesJewelry(       5 star  1940735033   \n",
       "4  10,558,646inClothing,Shoesamp;Jewelry(       5 star  1940967805   \n",
       "\n",
       "                                            imageURL  \\\n",
       "0  [https://images-na.ssl-images-amazon.com/image...   \n",
       "1  [https://images-na.ssl-images-amazon.com/image...   \n",
       "2  [https://images-na.ssl-images-amazon.com/image...   \n",
       "3  [https://images-na.ssl-images-amazon.com/image...   \n",
       "4  [https://images-na.ssl-images-amazon.com/image...   \n",
       "\n",
       "                                     imageURLHighRes  \\\n",
       "0  [https://images-na.ssl-images-amazon.com/image...   \n",
       "1  [https://images-na.ssl-images-amazon.com/image...   \n",
       "2  [https://images-na.ssl-images-amazon.com/image...   \n",
       "3  [https://images-na.ssl-images-amazon.com/image...   \n",
       "4  [https://images-na.ssl-images-amazon.com/image...   \n",
       "\n",
       "                                         description  price also_view  \\\n",
       "0                                                NaN    NaN       NaN   \n",
       "1                                                NaN    NaN       NaN   \n",
       "2  [For the professional or amateur magician.  Ro...    NaN       NaN   \n",
       "3                                                NaN    NaN       NaN   \n",
       "4                                                NaN  $4.50       NaN   \n",
       "\n",
       "  also_buy  fit details similar_item tech1  \n",
       "0      NaN  NaN     NaN          NaN   NaN  \n",
       "1      NaN  NaN     NaN          NaN   NaN  \n",
       "2      NaN  NaN     NaN          NaN   NaN  \n",
       "3      NaN  NaN     NaN          NaN   NaN  \n",
       "4      NaN  NaN     NaN          NaN   NaN  "
      ]
     },
     "execution_count": 6,
     "metadata": {},
     "output_type": "execute_result"
    }
   ],
   "source": [
    "meta_dt.head()"
   ]
  },
  {
   "cell_type": "code",
   "execution_count": 7,
   "id": "13f75340",
   "metadata": {},
   "outputs": [],
   "source": [
    "meta_dt = meta_dt.applymap(lambda x: np.nan if type(x) == list and len(x) ==0 else x)"
   ]
  },
  {
   "cell_type": "code",
   "execution_count": 8,
   "id": "750ab6a9",
   "metadata": {},
   "outputs": [],
   "source": [
    "meta_dt = meta_dt.replace(r'^\\s*$', np.nan, regex=True)"
   ]
  },
  {
   "cell_type": "code",
   "execution_count": 9,
   "id": "3d5d0740",
   "metadata": {},
   "outputs": [
    {
     "data": {
      "text/html": [
       "<div>\n",
       "<style scoped>\n",
       "    .dataframe tbody tr th:only-of-type {\n",
       "        vertical-align: middle;\n",
       "    }\n",
       "\n",
       "    .dataframe tbody tr th {\n",
       "        vertical-align: top;\n",
       "    }\n",
       "\n",
       "    .dataframe thead th {\n",
       "        text-align: right;\n",
       "    }\n",
       "</style>\n",
       "<table border=\"1\" class=\"dataframe\">\n",
       "  <thead>\n",
       "    <tr style=\"text-align: right;\">\n",
       "      <th></th>\n",
       "      <th>title</th>\n",
       "      <th>brand</th>\n",
       "      <th>feature</th>\n",
       "      <th>rank</th>\n",
       "      <th>date</th>\n",
       "      <th>asin</th>\n",
       "      <th>imageURL</th>\n",
       "      <th>imageURLHighRes</th>\n",
       "      <th>description</th>\n",
       "      <th>price</th>\n",
       "      <th>also_view</th>\n",
       "      <th>also_buy</th>\n",
       "      <th>fit</th>\n",
       "      <th>details</th>\n",
       "      <th>similar_item</th>\n",
       "      <th>tech1</th>\n",
       "    </tr>\n",
       "  </thead>\n",
       "  <tbody>\n",
       "    <tr>\n",
       "      <th>0</th>\n",
       "      <td>Slime Time Fall Fest [With CDROM and Collector...</td>\n",
       "      <td>Group Publishing (CO)</td>\n",
       "      <td>[Product Dimensions:\\n                    \\n8....</td>\n",
       "      <td>13,052,976inClothing,Shoesamp;Jewelry(</td>\n",
       "      <td>8.70 inches</td>\n",
       "      <td>0764443682</td>\n",
       "      <td>[https://images-na.ssl-images-amazon.com/image...</td>\n",
       "      <td>[https://images-na.ssl-images-amazon.com/image...</td>\n",
       "      <td>NaN</td>\n",
       "      <td>NaN</td>\n",
       "      <td>NaN</td>\n",
       "      <td>NaN</td>\n",
       "      <td>NaN</td>\n",
       "      <td>NaN</td>\n",
       "      <td>NaN</td>\n",
       "      <td>NaN</td>\n",
       "    </tr>\n",
       "    <tr>\n",
       "      <th>1</th>\n",
       "      <td>XCC Qi promise new spider snake preparing men'...</td>\n",
       "      <td>NaN</td>\n",
       "      <td>NaN</td>\n",
       "      <td>11,654,581inClothing,Shoesamp;Jewelry(</td>\n",
       "      <td>5 star</td>\n",
       "      <td>1291691480</td>\n",
       "      <td>[https://images-na.ssl-images-amazon.com/image...</td>\n",
       "      <td>[https://images-na.ssl-images-amazon.com/image...</td>\n",
       "      <td>NaN</td>\n",
       "      <td>NaN</td>\n",
       "      <td>NaN</td>\n",
       "      <td>NaN</td>\n",
       "      <td>NaN</td>\n",
       "      <td>NaN</td>\n",
       "      <td>NaN</td>\n",
       "      <td>NaN</td>\n",
       "    </tr>\n",
       "    <tr>\n",
       "      <th>2</th>\n",
       "      <td>Magical Things I Really Do Do Too!</td>\n",
       "      <td>Christopher Manos</td>\n",
       "      <td>[Package Dimensions:\\n                    \\n8....</td>\n",
       "      <td>19,308,073inClothing,ShoesJewelry(</td>\n",
       "      <td>5 star</td>\n",
       "      <td>1940280001</td>\n",
       "      <td>[https://images-na.ssl-images-amazon.com/image...</td>\n",
       "      <td>[https://images-na.ssl-images-amazon.com/image...</td>\n",
       "      <td>[For the professional or amateur magician.  Ro...</td>\n",
       "      <td>NaN</td>\n",
       "      <td>NaN</td>\n",
       "      <td>NaN</td>\n",
       "      <td>NaN</td>\n",
       "      <td>NaN</td>\n",
       "      <td>NaN</td>\n",
       "      <td>NaN</td>\n",
       "    </tr>\n",
       "    <tr>\n",
       "      <th>3</th>\n",
       "      <td>Ashes to Ashes, Oranges to Oranges</td>\n",
       "      <td>Flickerlamp Publishing</td>\n",
       "      <td>[Package Dimensions:\\n                    \\n8....</td>\n",
       "      <td>19,734,184inClothing,ShoesJewelry(</td>\n",
       "      <td>5 star</td>\n",
       "      <td>1940735033</td>\n",
       "      <td>[https://images-na.ssl-images-amazon.com/image...</td>\n",
       "      <td>[https://images-na.ssl-images-amazon.com/image...</td>\n",
       "      <td>NaN</td>\n",
       "      <td>NaN</td>\n",
       "      <td>NaN</td>\n",
       "      <td>NaN</td>\n",
       "      <td>NaN</td>\n",
       "      <td>NaN</td>\n",
       "      <td>NaN</td>\n",
       "      <td>NaN</td>\n",
       "    </tr>\n",
       "    <tr>\n",
       "      <th>4</th>\n",
       "      <td>Aether &amp; Empire #1 - 2016 First Printing Comic...</td>\n",
       "      <td>NaN</td>\n",
       "      <td>[Package Dimensions:\\n                    \\n10...</td>\n",
       "      <td>10,558,646inClothing,Shoesamp;Jewelry(</td>\n",
       "      <td>5 star</td>\n",
       "      <td>1940967805</td>\n",
       "      <td>[https://images-na.ssl-images-amazon.com/image...</td>\n",
       "      <td>[https://images-na.ssl-images-amazon.com/image...</td>\n",
       "      <td>NaN</td>\n",
       "      <td>$4.50</td>\n",
       "      <td>NaN</td>\n",
       "      <td>NaN</td>\n",
       "      <td>NaN</td>\n",
       "      <td>NaN</td>\n",
       "      <td>NaN</td>\n",
       "      <td>NaN</td>\n",
       "    </tr>\n",
       "  </tbody>\n",
       "</table>\n",
       "</div>"
      ],
      "text/plain": [
       "                                               title                   brand  \\\n",
       "0  Slime Time Fall Fest [With CDROM and Collector...   Group Publishing (CO)   \n",
       "1  XCC Qi promise new spider snake preparing men'...                     NaN   \n",
       "2                 Magical Things I Really Do Do Too!       Christopher Manos   \n",
       "3                 Ashes to Ashes, Oranges to Oranges  Flickerlamp Publishing   \n",
       "4  Aether & Empire #1 - 2016 First Printing Comic...                     NaN   \n",
       "\n",
       "                                             feature  \\\n",
       "0  [Product Dimensions:\\n                    \\n8....   \n",
       "1                                                NaN   \n",
       "2  [Package Dimensions:\\n                    \\n8....   \n",
       "3  [Package Dimensions:\\n                    \\n8....   \n",
       "4  [Package Dimensions:\\n                    \\n10...   \n",
       "\n",
       "                                     rank         date        asin  \\\n",
       "0  13,052,976inClothing,Shoesamp;Jewelry(  8.70 inches  0764443682   \n",
       "1  11,654,581inClothing,Shoesamp;Jewelry(       5 star  1291691480   \n",
       "2      19,308,073inClothing,ShoesJewelry(       5 star  1940280001   \n",
       "3      19,734,184inClothing,ShoesJewelry(       5 star  1940735033   \n",
       "4  10,558,646inClothing,Shoesamp;Jewelry(       5 star  1940967805   \n",
       "\n",
       "                                            imageURL  \\\n",
       "0  [https://images-na.ssl-images-amazon.com/image...   \n",
       "1  [https://images-na.ssl-images-amazon.com/image...   \n",
       "2  [https://images-na.ssl-images-amazon.com/image...   \n",
       "3  [https://images-na.ssl-images-amazon.com/image...   \n",
       "4  [https://images-na.ssl-images-amazon.com/image...   \n",
       "\n",
       "                                     imageURLHighRes  \\\n",
       "0  [https://images-na.ssl-images-amazon.com/image...   \n",
       "1  [https://images-na.ssl-images-amazon.com/image...   \n",
       "2  [https://images-na.ssl-images-amazon.com/image...   \n",
       "3  [https://images-na.ssl-images-amazon.com/image...   \n",
       "4  [https://images-na.ssl-images-amazon.com/image...   \n",
       "\n",
       "                                         description  price also_view  \\\n",
       "0                                                NaN    NaN       NaN   \n",
       "1                                                NaN    NaN       NaN   \n",
       "2  [For the professional or amateur magician.  Ro...    NaN       NaN   \n",
       "3                                                NaN    NaN       NaN   \n",
       "4                                                NaN  $4.50       NaN   \n",
       "\n",
       "  also_buy  fit details similar_item tech1  \n",
       "0      NaN  NaN     NaN          NaN   NaN  \n",
       "1      NaN  NaN     NaN          NaN   NaN  \n",
       "2      NaN  NaN     NaN          NaN   NaN  \n",
       "3      NaN  NaN     NaN          NaN   NaN  \n",
       "4      NaN  NaN     NaN          NaN   NaN  "
      ]
     },
     "execution_count": 9,
     "metadata": {},
     "output_type": "execute_result"
    }
   ],
   "source": [
    "meta_dt.head()"
   ]
  },
  {
   "cell_type": "code",
   "execution_count": 10,
   "id": "73b256e7",
   "metadata": {},
   "outputs": [
    {
     "data": {
      "text/plain": [
       "0.19545116225810144"
      ]
     },
     "execution_count": 10,
     "metadata": {},
     "output_type": "execute_result"
    }
   ],
   "source": [
    "meta_dt[\"imageURL\"].isna().sum()/279456"
   ]
  },
  {
   "cell_type": "code",
   "execution_count": 11,
   "id": "d705fc1d",
   "metadata": {},
   "outputs": [],
   "source": [
    "from PIL import Image\n",
    "import requests\n",
    "from io import BytesIO\n",
    "\n",
    "response = requests.get(meta_dt[\"imageURL\"][120][0])\n",
    "img = Image.open(BytesIO(response.content))"
   ]
  },
  {
   "cell_type": "code",
   "execution_count": 12,
   "id": "44763039",
   "metadata": {},
   "outputs": [
    {
     "data": {
      "image/png": "[encoded data removed]",
      "text/plain": [
       "<PIL.JpegImagePlugin.JpegImageFile image mode=RGB size=38x50 at 0x7F8D7D2584D0>"
      ]
     },
     "execution_count": 12,
     "metadata": {},
     "output_type": "execute_result"
    }
   ],
   "source": [
    "img"
   ]
  },
  {
   "cell_type": "markdown",
   "id": "3acca4ab",
   "metadata": {},
   "source": [
    "## Create data to use"
   ]
  },
  {
   "cell_type": "code",
   "execution_count": 13,
   "id": "103ebe9f",
   "metadata": {},
   "outputs": [
    {
     "data": {
      "text/plain": [
       "(883636, 12)"
      ]
     },
     "execution_count": 13,
     "metadata": {},
     "output_type": "execute_result"
    }
   ],
   "source": [
    "review_dt.shape"
   ]
  },
  {
   "cell_type": "code",
   "execution_count": 14,
   "id": "759b883b",
   "metadata": {},
   "outputs": [],
   "source": [
    "k = 5"
   ]
  },
  {
   "cell_type": "code",
   "execution_count": 15,
   "id": "59d24877",
   "metadata": {},
   "outputs": [],
   "source": [
    "more_than_k_reviewer_boolean = review_dt[\"reviewerID\"].value_counts()>= k"
   ]
  },
  {
   "cell_type": "code",
   "execution_count": 16,
   "id": "f6c6e581",
   "metadata": {},
   "outputs": [
    {
     "data": {
      "text/plain": [
       "3718"
      ]
     },
     "execution_count": 16,
     "metadata": {},
     "output_type": "execute_result"
    }
   ],
   "source": [
    "more_than_k_reviewer_boolean.sum()"
   ]
  },
  {
   "cell_type": "code",
   "execution_count": 17,
   "id": "64b7c678",
   "metadata": {},
   "outputs": [
    {
     "data": {
      "text/plain": [
       "Index(['A3G5KDMFNRUXHB', 'A3JBQHQZEZPQK4', 'A1RRX286ZRI830', 'A2PBHVTPTIIGKR',\n",
       "       'A2GP4EJIAA2OE0'],\n",
       "      dtype='object')"
      ]
     },
     "execution_count": 17,
     "metadata": {},
     "output_type": "execute_result"
    }
   ],
   "source": [
    "more_than_k_reviewer_index = more_than_k_reviewer_boolean.index[more_than_k_reviewer_boolean]\n",
    "more_than_k_reviewer_index[:5]"
   ]
  },
  {
   "cell_type": "code",
   "execution_count": 18,
   "id": "d4a5f29c",
   "metadata": {},
   "outputs": [],
   "source": [
    "more_than_k_asin_boolean = review_dt[\"asin\"].value_counts() >= 10"
   ]
  },
  {
   "cell_type": "code",
   "execution_count": 19,
   "id": "af690e8d",
   "metadata": {},
   "outputs": [
    {
     "data": {
      "text/plain": [
       "13475"
      ]
     },
     "execution_count": 19,
     "metadata": {},
     "output_type": "execute_result"
    }
   ],
   "source": [
    "more_than_k_asin_boolean.sum()"
   ]
  },
  {
   "cell_type": "code",
   "execution_count": 20,
   "id": "9a733d46",
   "metadata": {},
   "outputs": [
    {
     "data": {
      "text/plain": [
       "Index(['B000V0IBDM', 'B000KPIHQ4', 'B00I0VHS10', 'B00RLSCLJM', 'B000PHANNM'], dtype='object')"
      ]
     },
     "execution_count": 20,
     "metadata": {},
     "output_type": "execute_result"
    }
   ],
   "source": [
    "more_than_k_asin_index = more_than_k_asin_boolean.index[more_than_k_asin_boolean]\n",
    "more_than_k_asin_index[:5]"
   ]
  },
  {
   "cell_type": "code",
   "execution_count": 21,
   "id": "5611cabe",
   "metadata": {},
   "outputs": [],
   "source": [
    "keep_boolean = review_dt[\"reviewerID\"].apply(lambda x: x in more_than_k_reviewer_index) & \\\n",
    "    review_dt[\"asin\"].apply(lambda x: x in more_than_k_asin_index)"
   ]
  },
  {
   "cell_type": "code",
   "execution_count": 22,
   "id": "dc2971ae",
   "metadata": {},
   "outputs": [
    {
     "data": {
      "text/plain": [
       "15279"
      ]
     },
     "execution_count": 22,
     "metadata": {},
     "output_type": "execute_result"
    }
   ],
   "source": [
    "sum(keep_boolean)"
   ]
  },
  {
   "cell_type": "code",
   "execution_count": 23,
   "id": "97765469",
   "metadata": {},
   "outputs": [],
   "source": [
    "review_dt = review_dt[keep_boolean]"
   ]
  },
  {
   "cell_type": "code",
   "execution_count": 24,
   "id": "70665857",
   "metadata": {},
   "outputs": [],
   "source": [
    "review_dt = review_dt.drop([\"reviewTime\", \"reviewerName\", \"unixReviewTime\", \"image\", \"style\"], axis=1)"
   ]
  },
  {
   "cell_type": "code",
   "execution_count": 25,
   "id": "b42ce3c9",
   "metadata": {},
   "outputs": [
    {
     "data": {
      "text/plain": [
       "(15279, 7)"
      ]
     },
     "execution_count": 25,
     "metadata": {},
     "output_type": "execute_result"
    }
   ],
   "source": [
    "review_dt.shape"
   ]
  },
  {
   "cell_type": "code",
   "execution_count": 26,
   "id": "1d544d20",
   "metadata": {},
   "outputs": [
    {
     "data": {
      "text/html": [
       "<div>\n",
       "<style scoped>\n",
       "    .dataframe tbody tr th:only-of-type {\n",
       "        vertical-align: middle;\n",
       "    }\n",
       "\n",
       "    .dataframe tbody tr th {\n",
       "        vertical-align: top;\n",
       "    }\n",
       "\n",
       "    .dataframe thead th {\n",
       "        text-align: right;\n",
       "    }\n",
       "</style>\n",
       "<table border=\"1\" class=\"dataframe\">\n",
       "  <thead>\n",
       "    <tr style=\"text-align: right;\">\n",
       "      <th></th>\n",
       "      <th>overall</th>\n",
       "      <th>verified</th>\n",
       "      <th>reviewerID</th>\n",
       "      <th>asin</th>\n",
       "      <th>reviewText</th>\n",
       "      <th>summary</th>\n",
       "      <th>vote</th>\n",
       "    </tr>\n",
       "  </thead>\n",
       "  <tbody>\n",
       "    <tr>\n",
       "      <th>114</th>\n",
       "      <td>4</td>\n",
       "      <td>True</td>\n",
       "      <td>AAQO19HKS86MQ</td>\n",
       "      <td>B00008JOQI</td>\n",
       "      <td>Nice shirt</td>\n",
       "      <td>Four Stars</td>\n",
       "      <td>NaN</td>\n",
       "    </tr>\n",
       "    <tr>\n",
       "      <th>1345</th>\n",
       "      <td>5</td>\n",
       "      <td>True</td>\n",
       "      <td>A3FOL5CECUQJKV</td>\n",
       "      <td>B0006HB4XE</td>\n",
       "      <td>Since it was Gem Avenue, I knew I couldn't go ...</td>\n",
       "      <td>Perfect size, length, presentation</td>\n",
       "      <td>NaN</td>\n",
       "    </tr>\n",
       "    <tr>\n",
       "      <th>1519</th>\n",
       "      <td>5</td>\n",
       "      <td>True</td>\n",
       "      <td>AQG16QCMT344N</td>\n",
       "      <td>B0007MV6PO</td>\n",
       "      <td>We gave this to an elder farmer friend and he ...</td>\n",
       "      <td>Great hat for fishing and farming, and looks s...</td>\n",
       "      <td>NaN</td>\n",
       "    </tr>\n",
       "    <tr>\n",
       "      <th>1962</th>\n",
       "      <td>5</td>\n",
       "      <td>True</td>\n",
       "      <td>A2R0KB6P9AWB3N</td>\n",
       "      <td>B0008F6WMM</td>\n",
       "      <td>The helmet is a bit big for my 6 yr old. But i...</td>\n",
       "      <td>But it is really nice, and looks awesome</td>\n",
       "      <td>NaN</td>\n",
       "    </tr>\n",
       "    <tr>\n",
       "      <th>2218</th>\n",
       "      <td>3</td>\n",
       "      <td>True</td>\n",
       "      <td>A1KPFFU7NOVNCY</td>\n",
       "      <td>B0009A1EA6</td>\n",
       "      <td>My babies are big for their age, I have a 3 mo...</td>\n",
       "      <td>but the picture looks like a light cute yellow...</td>\n",
       "      <td>NaN</td>\n",
       "    </tr>\n",
       "  </tbody>\n",
       "</table>\n",
       "</div>"
      ],
      "text/plain": [
       "      overall  verified      reviewerID        asin  \\\n",
       "114         4      True   AAQO19HKS86MQ  B00008JOQI   \n",
       "1345        5      True  A3FOL5CECUQJKV  B0006HB4XE   \n",
       "1519        5      True   AQG16QCMT344N  B0007MV6PO   \n",
       "1962        5      True  A2R0KB6P9AWB3N  B0008F6WMM   \n",
       "2218        3      True  A1KPFFU7NOVNCY  B0009A1EA6   \n",
       "\n",
       "                                             reviewText  \\\n",
       "114                                          Nice shirt   \n",
       "1345  Since it was Gem Avenue, I knew I couldn't go ...   \n",
       "1519  We gave this to an elder farmer friend and he ...   \n",
       "1962  The helmet is a bit big for my 6 yr old. But i...   \n",
       "2218  My babies are big for their age, I have a 3 mo...   \n",
       "\n",
       "                                                summary  vote  \n",
       "114                                          Four Stars   NaN  \n",
       "1345                 Perfect size, length, presentation   NaN  \n",
       "1519  Great hat for fishing and farming, and looks s...   NaN  \n",
       "1962           But it is really nice, and looks awesome   NaN  \n",
       "2218  but the picture looks like a light cute yellow...   NaN  "
      ]
     },
     "execution_count": 26,
     "metadata": {},
     "output_type": "execute_result"
    }
   ],
   "source": [
    "review_dt.head()"
   ]
  },
  {
   "cell_type": "code",
   "execution_count": 28,
   "id": "0a88bd4c",
   "metadata": {},
   "outputs": [],
   "source": [
    "# process metadata"
   ]
  },
  {
   "cell_type": "code",
   "execution_count": 29,
   "id": "cf7f4da7",
   "metadata": {},
   "outputs": [],
   "source": [
    "meta_dt = meta_dt[meta_dt[\"rank\"].notna()]"
   ]
  },
  {
   "cell_type": "code",
   "execution_count": 30,
   "id": "6b471fe0",
   "metadata": {},
   "outputs": [],
   "source": [
    "# fashion_meta_dt = fashion_meta_dt.reset_index(drop=True)"
   ]
  },
  {
   "cell_type": "code",
   "execution_count": 31,
   "id": "eec6bb25",
   "metadata": {},
   "outputs": [],
   "source": [
    "meta_dt[\"rank\"] = meta_dt[\"rank\"].apply(lambda x: x[0] if type(x) == list else x)"
   ]
  },
  {
   "cell_type": "code",
   "execution_count": 32,
   "id": "f61a50a2",
   "metadata": {},
   "outputs": [],
   "source": [
    "meta_dt[\"rank\"] = meta_dt[\"rank\"].str.split(\"in\").str[0].str.replace(\",\", \"\")"
   ]
  },
  {
   "cell_type": "code",
   "execution_count": 33,
   "id": "cc1ed075",
   "metadata": {},
   "outputs": [],
   "source": [
    "meta_dt[\"rank\"] = meta_dt[\"rank\"].str.split(\"#\").apply(lambda x: x[0] if len(x)==1 else x[1])"
   ]
  },
  {
   "cell_type": "code",
   "execution_count": 34,
   "id": "5ae3234a",
   "metadata": {},
   "outputs": [],
   "source": [
    "meta_dt[\"rank\"] = meta_dt[\"rank\"].astype(float)"
   ]
  },
  {
   "cell_type": "code",
   "execution_count": 35,
   "id": "417c1212",
   "metadata": {},
   "outputs": [
    {
     "data": {
      "text/plain": [
       "count    1.802220e+05\n",
       "mean     8.654162e+06\n",
       "std      6.419970e+06\n",
       "min      1.540000e+02\n",
       "25%      3.865276e+06\n",
       "50%      6.685636e+06\n",
       "75%      1.155554e+07\n",
       "max      2.712322e+07\n",
       "Name: rank, dtype: float64"
      ]
     },
     "execution_count": 35,
     "metadata": {},
     "output_type": "execute_result"
    }
   ],
   "source": [
    "meta_dt[\"rank\"].astype(float).describe()"
   ]
  },
  {
   "cell_type": "code",
   "execution_count": 36,
   "id": "0bb964ac",
   "metadata": {},
   "outputs": [],
   "source": [
    "meta_dt = meta_dt[['title', 'brand', 'rank', 'asin', 'imageURL', 'description', 'price']]"
   ]
  },
  {
   "cell_type": "code",
   "execution_count": 37,
   "id": "92a972e4",
   "metadata": {},
   "outputs": [
    {
     "data": {
      "text/html": [
       "<div>\n",
       "<style scoped>\n",
       "    .dataframe tbody tr th:only-of-type {\n",
       "        vertical-align: middle;\n",
       "    }\n",
       "\n",
       "    .dataframe tbody tr th {\n",
       "        vertical-align: top;\n",
       "    }\n",
       "\n",
       "    .dataframe thead th {\n",
       "        text-align: right;\n",
       "    }\n",
       "</style>\n",
       "<table border=\"1\" class=\"dataframe\">\n",
       "  <thead>\n",
       "    <tr style=\"text-align: right;\">\n",
       "      <th></th>\n",
       "      <th>brand</th>\n",
       "      <th>rank</th>\n",
       "    </tr>\n",
       "  </thead>\n",
       "  <tbody>\n",
       "    <tr>\n",
       "      <th>2896</th>\n",
       "      <td>NaN</td>\n",
       "      <td>154.0</td>\n",
       "    </tr>\n",
       "    <tr>\n",
       "      <th>3252</th>\n",
       "      <td>NaN</td>\n",
       "      <td>155.0</td>\n",
       "    </tr>\n",
       "    <tr>\n",
       "      <th>3251</th>\n",
       "      <td>NaN</td>\n",
       "      <td>155.0</td>\n",
       "    </tr>\n",
       "    <tr>\n",
       "      <th>3741</th>\n",
       "      <td>NaN</td>\n",
       "      <td>194.0</td>\n",
       "    </tr>\n",
       "    <tr>\n",
       "      <th>28038</th>\n",
       "      <td>Portwest</td>\n",
       "      <td>536.0</td>\n",
       "    </tr>\n",
       "    <tr>\n",
       "      <th>140451</th>\n",
       "      <td>Mookiraer</td>\n",
       "      <td>608.0</td>\n",
       "    </tr>\n",
       "    <tr>\n",
       "      <th>142355</th>\n",
       "      <td>ABUSA</td>\n",
       "      <td>685.0</td>\n",
       "    </tr>\n",
       "    <tr>\n",
       "      <th>2017</th>\n",
       "      <td>NaN</td>\n",
       "      <td>1066.0</td>\n",
       "    </tr>\n",
       "    <tr>\n",
       "      <th>2016</th>\n",
       "      <td>NaN</td>\n",
       "      <td>1066.0</td>\n",
       "    </tr>\n",
       "    <tr>\n",
       "      <th>162232</th>\n",
       "      <td>Lonxu</td>\n",
       "      <td>1084.0</td>\n",
       "    </tr>\n",
       "  </tbody>\n",
       "</table>\n",
       "</div>"
      ],
      "text/plain": [
       "            brand    rank\n",
       "2896          NaN   154.0\n",
       "3252          NaN   155.0\n",
       "3251          NaN   155.0\n",
       "3741          NaN   194.0\n",
       "28038    Portwest   536.0\n",
       "140451  Mookiraer   608.0\n",
       "142355      ABUSA   685.0\n",
       "2017          NaN  1066.0\n",
       "2016          NaN  1066.0\n",
       "162232      Lonxu  1084.0"
      ]
     },
     "execution_count": 37,
     "metadata": {},
     "output_type": "execute_result"
    }
   ],
   "source": [
    "brand_rank_dt = meta_dt[[\"brand\", \"rank\"]].sort_values(by=\"rank\")\n",
    "brand_rank_dt.sort_values(by=\"rank\").head(10)"
   ]
  },
  {
   "cell_type": "code",
   "execution_count": 38,
   "id": "8ebce07a",
   "metadata": {},
   "outputs": [
    {
     "data": {
      "text/plain": [
       "0.24237043613361448"
      ]
     },
     "execution_count": 38,
     "metadata": {},
     "output_type": "execute_result"
    }
   ],
   "source": [
    "brand_rank_dt.iloc[:int(brand_rank_dt.shape[0]*0.1)][\"brand\"].isna().sum()/int(brand_rank_dt.shape[0]*0.1)"
   ]
  },
  {
   "cell_type": "code",
   "execution_count": 39,
   "id": "c6ff7b7b",
   "metadata": {},
   "outputs": [],
   "source": [
    "final_data = review_dt.merge(meta_dt, on=\"asin\", how=\"left\")"
   ]
  },
  {
   "cell_type": "code",
   "execution_count": 40,
   "id": "32f72ec3",
   "metadata": {},
   "outputs": [
    {
     "data": {
      "text/html": [
       "<div>\n",
       "<style scoped>\n",
       "    .dataframe tbody tr th:only-of-type {\n",
       "        vertical-align: middle;\n",
       "    }\n",
       "\n",
       "    .dataframe tbody tr th {\n",
       "        vertical-align: top;\n",
       "    }\n",
       "\n",
       "    .dataframe thead th {\n",
       "        text-align: right;\n",
       "    }\n",
       "</style>\n",
       "<table border=\"1\" class=\"dataframe\">\n",
       "  <thead>\n",
       "    <tr style=\"text-align: right;\">\n",
       "      <th></th>\n",
       "      <th>overall</th>\n",
       "      <th>verified</th>\n",
       "      <th>reviewerID</th>\n",
       "      <th>asin</th>\n",
       "      <th>reviewText</th>\n",
       "      <th>summary</th>\n",
       "      <th>vote</th>\n",
       "      <th>title</th>\n",
       "      <th>brand</th>\n",
       "      <th>rank</th>\n",
       "      <th>imageURL</th>\n",
       "      <th>description</th>\n",
       "      <th>price</th>\n",
       "    </tr>\n",
       "  </thead>\n",
       "  <tbody>\n",
       "    <tr>\n",
       "      <th>0</th>\n",
       "      <td>4</td>\n",
       "      <td>True</td>\n",
       "      <td>AAQO19HKS86MQ</td>\n",
       "      <td>B00008JOQI</td>\n",
       "      <td>Nice shirt</td>\n",
       "      <td>Four Stars</td>\n",
       "      <td>NaN</td>\n",
       "      <td>Paul Fredrick Men's Pinpoint Button Down Colla...</td>\n",
       "      <td>NaN</td>\n",
       "      <td>3904648.0</td>\n",
       "      <td>NaN</td>\n",
       "      <td>NaN</td>\n",
       "      <td>NaN</td>\n",
       "    </tr>\n",
       "    <tr>\n",
       "      <th>1</th>\n",
       "      <td>4</td>\n",
       "      <td>True</td>\n",
       "      <td>AAQO19HKS86MQ</td>\n",
       "      <td>B00008JOQI</td>\n",
       "      <td>Nice shirt</td>\n",
       "      <td>Four Stars</td>\n",
       "      <td>NaN</td>\n",
       "      <td>Paul Fredrick Men's Pinpoint Button Down Colla...</td>\n",
       "      <td>NaN</td>\n",
       "      <td>3904648.0</td>\n",
       "      <td>NaN</td>\n",
       "      <td>NaN</td>\n",
       "      <td>NaN</td>\n",
       "    </tr>\n",
       "    <tr>\n",
       "      <th>2</th>\n",
       "      <td>5</td>\n",
       "      <td>True</td>\n",
       "      <td>A3FOL5CECUQJKV</td>\n",
       "      <td>B0006HB4XE</td>\n",
       "      <td>Since it was Gem Avenue, I knew I couldn't go ...</td>\n",
       "      <td>Perfect size, length, presentation</td>\n",
       "      <td>NaN</td>\n",
       "      <td>BOX1MM Nickel Free Italian Sterling Silver 1mm...</td>\n",
       "      <td>NaN</td>\n",
       "      <td>641202.0</td>\n",
       "      <td>[https://images-na.ssl-images-amazon.com/image...</td>\n",
       "      <td>NaN</td>\n",
       "      <td>NaN</td>\n",
       "    </tr>\n",
       "    <tr>\n",
       "      <th>3</th>\n",
       "      <td>5</td>\n",
       "      <td>True</td>\n",
       "      <td>AQG16QCMT344N</td>\n",
       "      <td>B0007MV6PO</td>\n",
       "      <td>We gave this to an elder farmer friend and he ...</td>\n",
       "      <td>Great hat for fishing and farming, and looks s...</td>\n",
       "      <td>NaN</td>\n",
       "      <td>Henschel Breezer Hat with CoolMax Band Khaki,M...</td>\n",
       "      <td>Henschel</td>\n",
       "      <td>1164241.0</td>\n",
       "      <td>[https://images-na.ssl-images-amazon.com/image...</td>\n",
       "      <td>NaN</td>\n",
       "      <td>NaN</td>\n",
       "    </tr>\n",
       "    <tr>\n",
       "      <th>4</th>\n",
       "      <td>5</td>\n",
       "      <td>True</td>\n",
       "      <td>A2R0KB6P9AWB3N</td>\n",
       "      <td>B0008F6WMM</td>\n",
       "      <td>The helmet is a bit big for my 6 yr old. But i...</td>\n",
       "      <td>But it is really nice, and looks awesome</td>\n",
       "      <td>NaN</td>\n",
       "      <td>Aeromax Jr. Astronaut Helmet with sounds</td>\n",
       "      <td>Aeromax</td>\n",
       "      <td>16931.0</td>\n",
       "      <td>[https://images-na.ssl-images-amazon.com/image...</td>\n",
       "      <td>[The Aeromax Award winning Jr. Astronaut Helme...</td>\n",
       "      <td>$41.63</td>\n",
       "    </tr>\n",
       "  </tbody>\n",
       "</table>\n",
       "</div>"
      ],
      "text/plain": [
       "   overall  verified      reviewerID        asin  \\\n",
       "0        4      True   AAQO19HKS86MQ  B00008JOQI   \n",
       "1        4      True   AAQO19HKS86MQ  B00008JOQI   \n",
       "2        5      True  A3FOL5CECUQJKV  B0006HB4XE   \n",
       "3        5      True   AQG16QCMT344N  B0007MV6PO   \n",
       "4        5      True  A2R0KB6P9AWB3N  B0008F6WMM   \n",
       "\n",
       "                                          reviewText  \\\n",
       "0                                         Nice shirt   \n",
       "1                                         Nice shirt   \n",
       "2  Since it was Gem Avenue, I knew I couldn't go ...   \n",
       "3  We gave this to an elder farmer friend and he ...   \n",
       "4  The helmet is a bit big for my 6 yr old. But i...   \n",
       "\n",
       "                                             summary  vote  \\\n",
       "0                                         Four Stars   NaN   \n",
       "1                                         Four Stars   NaN   \n",
       "2                 Perfect size, length, presentation   NaN   \n",
       "3  Great hat for fishing and farming, and looks s...   NaN   \n",
       "4           But it is really nice, and looks awesome   NaN   \n",
       "\n",
       "                                               title     brand       rank  \\\n",
       "0  Paul Fredrick Men's Pinpoint Button Down Colla...       NaN  3904648.0   \n",
       "1  Paul Fredrick Men's Pinpoint Button Down Colla...       NaN  3904648.0   \n",
       "2  BOX1MM Nickel Free Italian Sterling Silver 1mm...       NaN   641202.0   \n",
       "3  Henschel Breezer Hat with CoolMax Band Khaki,M...  Henschel  1164241.0   \n",
       "4           Aeromax Jr. Astronaut Helmet with sounds   Aeromax    16931.0   \n",
       "\n",
       "                                            imageURL  \\\n",
       "0                                                NaN   \n",
       "1                                                NaN   \n",
       "2  [https://images-na.ssl-images-amazon.com/image...   \n",
       "3  [https://images-na.ssl-images-amazon.com/image...   \n",
       "4  [https://images-na.ssl-images-amazon.com/image...   \n",
       "\n",
       "                                         description   price  \n",
       "0                                                NaN     NaN  \n",
       "1                                                NaN     NaN  \n",
       "2                                                NaN     NaN  \n",
       "3                                                NaN     NaN  \n",
       "4  [The Aeromax Award winning Jr. Astronaut Helme...  $41.63  "
      ]
     },
     "execution_count": 40,
     "metadata": {},
     "output_type": "execute_result"
    }
   ],
   "source": [
    "final_data.head()"
   ]
  },
  {
   "cell_type": "code",
   "execution_count": 41,
   "id": "eac9b5de",
   "metadata": {},
   "outputs": [
    {
     "data": {
      "text/plain": [
       "overall        0.000000\n",
       "verified       0.000000\n",
       "reviewerID     0.000000\n",
       "asin           0.000000\n",
       "reviewText     0.001636\n",
       "summary        0.000393\n",
       "vote           0.886526\n",
       "title          0.028270\n",
       "brand          0.469145\n",
       "rank           0.028205\n",
       "imageURL       0.120346\n",
       "description    0.639683\n",
       "price          0.562005\n",
       "dtype: float64"
      ]
     },
     "execution_count": 41,
     "metadata": {},
     "output_type": "execute_result"
    }
   ],
   "source": [
    "final_data.isna().mean()"
   ]
  },
  {
   "cell_type": "code",
   "execution_count": 45,
   "id": "f2c6041b",
   "metadata": {},
   "outputs": [
    {
     "data": {
      "text/plain": [
       "5    910\n",
       "4    363\n",
       "3    264\n",
       "1    166\n",
       "2    136\n",
       "Name: overall, dtype: int64"
      ]
     },
     "execution_count": 45,
     "metadata": {},
     "output_type": "execute_result"
    }
   ],
   "source": [
    "final_data.loc[final_data[\"imageURL\"].isna(), \"overall\"].value_counts()"
   ]
  },
  {
   "cell_type": "code",
   "execution_count": 140,
   "id": "cec9533e",
   "metadata": {},
   "outputs": [
    {
     "data": {
      "text/plain": [
       "(50, 38, 3)"
      ]
     },
     "execution_count": 140,
     "metadata": {},
     "output_type": "execute_result"
    }
   ],
   "source": [
    "np.asarray(img).shape"
   ]
  },
  {
   "cell_type": "code",
   "execution_count": null,
   "id": "2376ed1b",
   "metadata": {},
   "outputs": [],
   "source": []
  }
 ],
 "metadata": {
  "hide_input": false,
  "kernelspec": {
   "display_name": "Python 3 (ipykernel)",
   "language": "python",
   "name": "python3"
  },
  "language_info": {
   "codemirror_mode": {
    "name": "ipython",
    "version": 3
   },
   "file_extension": ".py",
   "mimetype": "text/x-python",
   "name": "python",
   "nbconvert_exporter": "python",
   "pygments_lexer": "ipython3",
   "version": "3.7.9"
  },
  "toc": {
   "base_numbering": 1,
   "nav_menu": {},
   "number_sections": true,
   "sideBar": true,
   "skip_h1_title": false,
   "title_cell": "Table of Contents",
   "title_sidebar": "Contents",
   "toc_cell": false,
   "toc_position": {},
   "toc_section_display": true,
   "toc_window_display": false
  }
 },
 "nbformat": 4,
 "nbformat_minor": 5
}
