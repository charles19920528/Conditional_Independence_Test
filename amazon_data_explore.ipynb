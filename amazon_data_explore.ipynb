{
 "cells": [
  {
   "cell_type": "code",
   "execution_count": 1,
   "id": "17f3136d",
   "metadata": {},
   "outputs": [],
   "source": [
    "import pandas as pd"
   ]
  },
  {
   "cell_type": "code",
   "execution_count": 2,
   "id": "c433e08d",
   "metadata": {},
   "outputs": [],
   "source": [
    "fashion_review_dt = pd.read_json(\"data/amazon_data/AMAZON_FASHION.json\", lines=True)"
   ]
  },
  {
   "cell_type": "code",
   "execution_count": 3,
   "id": "c57fd288",
   "metadata": {},
   "outputs": [
    {
     "data": {
      "text/html": [
       "<div>\n",
       "<style scoped>\n",
       "    .dataframe tbody tr th:only-of-type {\n",
       "        vertical-align: middle;\n",
       "    }\n",
       "\n",
       "    .dataframe tbody tr th {\n",
       "        vertical-align: top;\n",
       "    }\n",
       "\n",
       "    .dataframe thead th {\n",
       "        text-align: right;\n",
       "    }\n",
       "</style>\n",
       "<table border=\"1\" class=\"dataframe\">\n",
       "  <thead>\n",
       "    <tr style=\"text-align: right;\">\n",
       "      <th></th>\n",
       "      <th>overall</th>\n",
       "      <th>verified</th>\n",
       "      <th>reviewTime</th>\n",
       "      <th>reviewerID</th>\n",
       "      <th>asin</th>\n",
       "      <th>reviewerName</th>\n",
       "      <th>reviewText</th>\n",
       "      <th>summary</th>\n",
       "      <th>unixReviewTime</th>\n",
       "      <th>vote</th>\n",
       "      <th>style</th>\n",
       "      <th>image</th>\n",
       "    </tr>\n",
       "  </thead>\n",
       "  <tbody>\n",
       "    <tr>\n",
       "      <th>0</th>\n",
       "      <td>5</td>\n",
       "      <td>True</td>\n",
       "      <td>10 20, 2014</td>\n",
       "      <td>A1D4G1SNUZWQOT</td>\n",
       "      <td>7106116521</td>\n",
       "      <td>Tracy</td>\n",
       "      <td>Exactly what I needed.</td>\n",
       "      <td>perfect replacements!!</td>\n",
       "      <td>1413763200</td>\n",
       "      <td>NaN</td>\n",
       "      <td>NaN</td>\n",
       "      <td>NaN</td>\n",
       "    </tr>\n",
       "    <tr>\n",
       "      <th>1</th>\n",
       "      <td>2</td>\n",
       "      <td>True</td>\n",
       "      <td>09 28, 2014</td>\n",
       "      <td>A3DDWDH9PX2YX2</td>\n",
       "      <td>7106116521</td>\n",
       "      <td>Sonja Lau</td>\n",
       "      <td>I agree with the other review, the opening is ...</td>\n",
       "      <td>I agree with the other review, the opening is ...</td>\n",
       "      <td>1411862400</td>\n",
       "      <td>3.0</td>\n",
       "      <td>NaN</td>\n",
       "      <td>NaN</td>\n",
       "    </tr>\n",
       "    <tr>\n",
       "      <th>2</th>\n",
       "      <td>4</td>\n",
       "      <td>False</td>\n",
       "      <td>08 25, 2014</td>\n",
       "      <td>A2MWC41EW7XL15</td>\n",
       "      <td>7106116521</td>\n",
       "      <td>Kathleen</td>\n",
       "      <td>Love these... I am going to order another pack...</td>\n",
       "      <td>My New 'Friends' !!</td>\n",
       "      <td>1408924800</td>\n",
       "      <td>NaN</td>\n",
       "      <td>NaN</td>\n",
       "      <td>NaN</td>\n",
       "    </tr>\n",
       "    <tr>\n",
       "      <th>3</th>\n",
       "      <td>2</td>\n",
       "      <td>True</td>\n",
       "      <td>08 24, 2014</td>\n",
       "      <td>A2UH2QQ275NV45</td>\n",
       "      <td>7106116521</td>\n",
       "      <td>Jodi Stoner</td>\n",
       "      <td>too tiny an opening</td>\n",
       "      <td>Two Stars</td>\n",
       "      <td>1408838400</td>\n",
       "      <td>NaN</td>\n",
       "      <td>NaN</td>\n",
       "      <td>NaN</td>\n",
       "    </tr>\n",
       "    <tr>\n",
       "      <th>4</th>\n",
       "      <td>3</td>\n",
       "      <td>False</td>\n",
       "      <td>07 27, 2014</td>\n",
       "      <td>A89F3LQADZBS5</td>\n",
       "      <td>7106116521</td>\n",
       "      <td>Alexander D.</td>\n",
       "      <td>Okay</td>\n",
       "      <td>Three Stars</td>\n",
       "      <td>1406419200</td>\n",
       "      <td>NaN</td>\n",
       "      <td>NaN</td>\n",
       "      <td>NaN</td>\n",
       "    </tr>\n",
       "  </tbody>\n",
       "</table>\n",
       "</div>"
      ],
      "text/plain": [
       "   overall  verified   reviewTime      reviewerID        asin  reviewerName  \\\n",
       "0        5      True  10 20, 2014  A1D4G1SNUZWQOT  7106116521         Tracy   \n",
       "1        2      True  09 28, 2014  A3DDWDH9PX2YX2  7106116521     Sonja Lau   \n",
       "2        4     False  08 25, 2014  A2MWC41EW7XL15  7106116521      Kathleen   \n",
       "3        2      True  08 24, 2014  A2UH2QQ275NV45  7106116521   Jodi Stoner   \n",
       "4        3     False  07 27, 2014   A89F3LQADZBS5  7106116521  Alexander D.   \n",
       "\n",
       "                                          reviewText  \\\n",
       "0                             Exactly what I needed.   \n",
       "1  I agree with the other review, the opening is ...   \n",
       "2  Love these... I am going to order another pack...   \n",
       "3                                too tiny an opening   \n",
       "4                                               Okay   \n",
       "\n",
       "                                             summary  unixReviewTime  vote  \\\n",
       "0                             perfect replacements!!      1413763200   NaN   \n",
       "1  I agree with the other review, the opening is ...      1411862400   3.0   \n",
       "2                                My New 'Friends' !!      1408924800   NaN   \n",
       "3                                          Two Stars      1408838400   NaN   \n",
       "4                                        Three Stars      1406419200   NaN   \n",
       "\n",
       "  style image  \n",
       "0   NaN   NaN  \n",
       "1   NaN   NaN  \n",
       "2   NaN   NaN  \n",
       "3   NaN   NaN  \n",
       "4   NaN   NaN  "
      ]
     },
     "execution_count": 3,
     "metadata": {},
     "output_type": "execute_result"
    }
   ],
   "source": [
    "fashion_review_dt.head()"
   ]
  },
  {
   "cell_type": "markdown",
   "id": "2ab9c2ed",
   "metadata": {},
   "source": [
    "# Metadata"
   ]
  },
  {
   "cell_type": "code",
   "execution_count": 30,
   "id": "44531051",
   "metadata": {},
   "outputs": [],
   "source": [
    "fashion_meta_dt = pd.read_json(\"data/amazon_data/meta_AMAZON_FASHION.json\", lines=True)"
   ]
  },
  {
   "cell_type": "code",
   "execution_count": 6,
   "id": "e1d5ba80",
   "metadata": {},
   "outputs": [
    {
     "data": {
      "text/plain": [
       "(186637, 16)"
      ]
     },
     "execution_count": 6,
     "metadata": {},
     "output_type": "execute_result"
    }
   ],
   "source": [
    "fashion_meta_dt.shape"
   ]
  },
  {
   "cell_type": "code",
   "execution_count": 31,
   "id": "5f50a9de",
   "metadata": {},
   "outputs": [
    {
     "data": {
      "text/html": [
       "<div>\n",
       "<style scoped>\n",
       "    .dataframe tbody tr th:only-of-type {\n",
       "        vertical-align: middle;\n",
       "    }\n",
       "\n",
       "    .dataframe tbody tr th {\n",
       "        vertical-align: top;\n",
       "    }\n",
       "\n",
       "    .dataframe thead th {\n",
       "        text-align: right;\n",
       "    }\n",
       "</style>\n",
       "<table border=\"1\" class=\"dataframe\">\n",
       "  <thead>\n",
       "    <tr style=\"text-align: right;\">\n",
       "      <th></th>\n",
       "      <th>title</th>\n",
       "      <th>brand</th>\n",
       "      <th>feature</th>\n",
       "      <th>rank</th>\n",
       "      <th>date</th>\n",
       "      <th>asin</th>\n",
       "      <th>imageURL</th>\n",
       "      <th>imageURLHighRes</th>\n",
       "      <th>description</th>\n",
       "      <th>price</th>\n",
       "      <th>also_view</th>\n",
       "      <th>also_buy</th>\n",
       "      <th>fit</th>\n",
       "      <th>details</th>\n",
       "      <th>similar_item</th>\n",
       "      <th>tech1</th>\n",
       "    </tr>\n",
       "  </thead>\n",
       "  <tbody>\n",
       "    <tr>\n",
       "      <th>1</th>\n",
       "      <td>XCC Qi promise new spider snake preparing men'...</td>\n",
       "      <td>NaN</td>\n",
       "      <td>NaN</td>\n",
       "      <td>11,654,581inClothing,Shoesamp;Jewelry(</td>\n",
       "      <td>5 star</td>\n",
       "      <td>1291691480</td>\n",
       "      <td>[https://images-na.ssl-images-amazon.com/image...</td>\n",
       "      <td>[https://images-na.ssl-images-amazon.com/image...</td>\n",
       "      <td>NaN</td>\n",
       "      <td>NaN</td>\n",
       "      <td>NaN</td>\n",
       "      <td>NaN</td>\n",
       "      <td>NaN</td>\n",
       "      <td>NaN</td>\n",
       "      <td>NaN</td>\n",
       "      <td>NaN</td>\n",
       "    </tr>\n",
       "    <tr>\n",
       "      <th>4</th>\n",
       "      <td>Aether &amp; Empire #1 - 2016 First Printing Comic...</td>\n",
       "      <td>NaN</td>\n",
       "      <td>[Package Dimensions:\\n                    \\n10...</td>\n",
       "      <td>10,558,646inClothing,Shoesamp;Jewelry(</td>\n",
       "      <td>5 star</td>\n",
       "      <td>1940967805</td>\n",
       "      <td>[https://images-na.ssl-images-amazon.com/image...</td>\n",
       "      <td>[https://images-na.ssl-images-amazon.com/image...</td>\n",
       "      <td>NaN</td>\n",
       "      <td>$4.50</td>\n",
       "      <td>NaN</td>\n",
       "      <td>NaN</td>\n",
       "      <td>NaN</td>\n",
       "      <td>NaN</td>\n",
       "      <td>NaN</td>\n",
       "      <td>NaN</td>\n",
       "    </tr>\n",
       "    <tr>\n",
       "      <th>5</th>\n",
       "      <td>365 Affirmations for a Year of Love, Peace &amp; P...</td>\n",
       "      <td>NaN</td>\n",
       "      <td>NaN</td>\n",
       "      <td>16,179,013inClothing,Shoesamp;Jewelry(</td>\n",
       "      <td>5 star</td>\n",
       "      <td>1942705034</td>\n",
       "      <td>[https://images-na.ssl-images-amazon.com/image...</td>\n",
       "      <td>[https://images-na.ssl-images-amazon.com/image...</td>\n",
       "      <td>NaN</td>\n",
       "      <td>NaN</td>\n",
       "      <td>NaN</td>\n",
       "      <td>NaN</td>\n",
       "      <td>NaN</td>\n",
       "      <td>NaN</td>\n",
       "      <td>NaN</td>\n",
       "      <td>NaN</td>\n",
       "    </tr>\n",
       "    <tr>\n",
       "      <th>6</th>\n",
       "      <td>Blessed by Pope Benedetto XVI Wood Religious B...</td>\n",
       "      <td>NaN</td>\n",
       "      <td>[Package Dimensions:\\n                    \\n4....</td>\n",
       "      <td>7,787,039inClothing,ShoesJewelry(</td>\n",
       "      <td>5 star</td>\n",
       "      <td>3293015344</td>\n",
       "      <td>NaN</td>\n",
       "      <td>NaN</td>\n",
       "      <td>NaN</td>\n",
       "      <td>NaN</td>\n",
       "      <td>NaN</td>\n",
       "      <td>NaN</td>\n",
       "      <td>NaN</td>\n",
       "      <td>NaN</td>\n",
       "      <td>NaN</td>\n",
       "      <td>NaN</td>\n",
       "    </tr>\n",
       "    <tr>\n",
       "      <th>9</th>\n",
       "      <td>Dante's Peak - Laserdisc</td>\n",
       "      <td>NaN</td>\n",
       "      <td>[Package Dimensions:\\n                    \\n12...</td>\n",
       "      <td>16,714,561inClothing,ShoesJewelry(</td>\n",
       "      <td>5 star</td>\n",
       "      <td>630456984X</td>\n",
       "      <td>NaN</td>\n",
       "      <td>NaN</td>\n",
       "      <td>NaN</td>\n",
       "      <td>NaN</td>\n",
       "      <td>NaN</td>\n",
       "      <td>NaN</td>\n",
       "      <td>NaN</td>\n",
       "      <td>NaN</td>\n",
       "      <td>NaN</td>\n",
       "      <td>NaN</td>\n",
       "    </tr>\n",
       "    <tr>\n",
       "      <th>...</th>\n",
       "      <td>...</td>\n",
       "      <td>...</td>\n",
       "      <td>...</td>\n",
       "      <td>...</td>\n",
       "      <td>...</td>\n",
       "      <td>...</td>\n",
       "      <td>...</td>\n",
       "      <td>...</td>\n",
       "      <td>...</td>\n",
       "      <td>...</td>\n",
       "      <td>...</td>\n",
       "      <td>...</td>\n",
       "      <td>...</td>\n",
       "      <td>...</td>\n",
       "      <td>...</td>\n",
       "      <td>...</td>\n",
       "    </tr>\n",
       "    <tr>\n",
       "      <th>186624</th>\n",
       "      <td>ROMWE Women's Bohemian Short Sleeve V neck Lon...</td>\n",
       "      <td>NaN</td>\n",
       "      <td>[Package Dimensions:\\n                    \\n12...</td>\n",
       "      <td>1,896,584inClothing,ShoesJewelry(</td>\n",
       "      <td>5 star</td>\n",
       "      <td>B01HJEOBUO</td>\n",
       "      <td>[https://images-na.ssl-images-amazon.com/image...</td>\n",
       "      <td>[https://images-na.ssl-images-amazon.com/image...</td>\n",
       "      <td>NaN</td>\n",
       "      <td>NaN</td>\n",
       "      <td>NaN</td>\n",
       "      <td>[B07BL4WSDQ, B07BNSY569, B079L52Q1W]</td>\n",
       "      <td>NaN</td>\n",
       "      <td>NaN</td>\n",
       "      <td>NaN</td>\n",
       "      <td>NaN</td>\n",
       "    </tr>\n",
       "    <tr>\n",
       "      <th>186625</th>\n",
       "      <td>P.S. From Aeropostale Girls Ditsy Heart Jersey...</td>\n",
       "      <td>NaN</td>\n",
       "      <td>[Product Dimensions:\\n                    \\n5....</td>\n",
       "      <td>10,073,579inClothing,ShoesJewelry(</td>\n",
       "      <td>5 star5 star (0%)</td>\n",
       "      <td>B01HJG4CQ0</td>\n",
       "      <td>NaN</td>\n",
       "      <td>NaN</td>\n",
       "      <td>NaN</td>\n",
       "      <td>NaN</td>\n",
       "      <td>NaN</td>\n",
       "      <td>NaN</td>\n",
       "      <td>NaN</td>\n",
       "      <td>NaN</td>\n",
       "      <td>NaN</td>\n",
       "      <td>NaN</td>\n",
       "    </tr>\n",
       "    <tr>\n",
       "      <th>186628</th>\n",
       "      <td>ROMWE Women's Bohemian Short Sleeve V neck Lon...</td>\n",
       "      <td>NaN</td>\n",
       "      <td>[Package Dimensions:\\n                    \\n11...</td>\n",
       "      <td>1,736,074inClothing,ShoesJewelry(</td>\n",
       "      <td>5 star</td>\n",
       "      <td>B01HJEOC9E</td>\n",
       "      <td>[https://images-na.ssl-images-amazon.com/image...</td>\n",
       "      <td>[https://images-na.ssl-images-amazon.com/image...</td>\n",
       "      <td>NaN</td>\n",
       "      <td>NaN</td>\n",
       "      <td>NaN</td>\n",
       "      <td>[B07BRM7365]</td>\n",
       "      <td>NaN</td>\n",
       "      <td>NaN</td>\n",
       "      <td>NaN</td>\n",
       "      <td>NaN</td>\n",
       "    </tr>\n",
       "    <tr>\n",
       "      <th>186631</th>\n",
       "      <td>JOVIVI Hand Carved Natural Gemstone Healing Re...</td>\n",
       "      <td>NaN</td>\n",
       "      <td>NaN</td>\n",
       "      <td>NaN</td>\n",
       "      <td>5 star</td>\n",
       "      <td>B01HJH7JY6</td>\n",
       "      <td>[https://images-na.ssl-images-amazon.com/image...</td>\n",
       "      <td>[https://images-na.ssl-images-amazon.com/image...</td>\n",
       "      <td>NaN</td>\n",
       "      <td>NaN</td>\n",
       "      <td>NaN</td>\n",
       "      <td>NaN</td>\n",
       "      <td>NaN</td>\n",
       "      <td>NaN</td>\n",
       "      <td>NaN</td>\n",
       "      <td>NaN</td>\n",
       "    </tr>\n",
       "    <tr>\n",
       "      <th>186636</th>\n",
       "      <td>Aeropostale Women's Sun &amp; Waves Crop Cami L Gr...</td>\n",
       "      <td>NaN</td>\n",
       "      <td>[Product Dimensions:\\n                    \\n5 ...</td>\n",
       "      <td>9,379,125inClothing,ShoesJewelry(</td>\n",
       "      <td>5 star</td>\n",
       "      <td>B01HJFNU7S</td>\n",
       "      <td>[https://images-na.ssl-images-amazon.com/image...</td>\n",
       "      <td>[https://images-na.ssl-images-amazon.com/image...</td>\n",
       "      <td>NaN</td>\n",
       "      <td>NaN</td>\n",
       "      <td>NaN</td>\n",
       "      <td>NaN</td>\n",
       "      <td>NaN</td>\n",
       "      <td>NaN</td>\n",
       "      <td>NaN</td>\n",
       "      <td>NaN</td>\n",
       "    </tr>\n",
       "  </tbody>\n",
       "</table>\n",
       "<p>46680 rows × 16 columns</p>\n",
       "</div>"
      ],
      "text/plain": [
       "                                                    title brand  \\\n",
       "1       XCC Qi promise new spider snake preparing men'...   NaN   \n",
       "4       Aether & Empire #1 - 2016 First Printing Comic...   NaN   \n",
       "5       365 Affirmations for a Year of Love, Peace & P...   NaN   \n",
       "6       Blessed by Pope Benedetto XVI Wood Religious B...   NaN   \n",
       "9                                Dante's Peak - Laserdisc   NaN   \n",
       "...                                                   ...   ...   \n",
       "186624  ROMWE Women's Bohemian Short Sleeve V neck Lon...   NaN   \n",
       "186625  P.S. From Aeropostale Girls Ditsy Heart Jersey...   NaN   \n",
       "186628  ROMWE Women's Bohemian Short Sleeve V neck Lon...   NaN   \n",
       "186631  JOVIVI Hand Carved Natural Gemstone Healing Re...   NaN   \n",
       "186636  Aeropostale Women's Sun & Waves Crop Cami L Gr...   NaN   \n",
       "\n",
       "                                                  feature  \\\n",
       "1                                                     NaN   \n",
       "4       [Package Dimensions:\\n                    \\n10...   \n",
       "5                                                     NaN   \n",
       "6       [Package Dimensions:\\n                    \\n4....   \n",
       "9       [Package Dimensions:\\n                    \\n12...   \n",
       "...                                                   ...   \n",
       "186624  [Package Dimensions:\\n                    \\n12...   \n",
       "186625  [Product Dimensions:\\n                    \\n5....   \n",
       "186628  [Package Dimensions:\\n                    \\n11...   \n",
       "186631                                                NaN   \n",
       "186636  [Product Dimensions:\\n                    \\n5 ...   \n",
       "\n",
       "                                          rank               date        asin  \\\n",
       "1       11,654,581inClothing,Shoesamp;Jewelry(             5 star  1291691480   \n",
       "4       10,558,646inClothing,Shoesamp;Jewelry(             5 star  1940967805   \n",
       "5       16,179,013inClothing,Shoesamp;Jewelry(             5 star  1942705034   \n",
       "6            7,787,039inClothing,ShoesJewelry(             5 star  3293015344   \n",
       "9           16,714,561inClothing,ShoesJewelry(             5 star  630456984X   \n",
       "...                                        ...                ...         ...   \n",
       "186624       1,896,584inClothing,ShoesJewelry(             5 star  B01HJEOBUO   \n",
       "186625      10,073,579inClothing,ShoesJewelry(  5 star5 star (0%)  B01HJG4CQ0   \n",
       "186628       1,736,074inClothing,ShoesJewelry(             5 star  B01HJEOC9E   \n",
       "186631                                     NaN             5 star  B01HJH7JY6   \n",
       "186636       9,379,125inClothing,ShoesJewelry(             5 star  B01HJFNU7S   \n",
       "\n",
       "                                                 imageURL  \\\n",
       "1       [https://images-na.ssl-images-amazon.com/image...   \n",
       "4       [https://images-na.ssl-images-amazon.com/image...   \n",
       "5       [https://images-na.ssl-images-amazon.com/image...   \n",
       "6                                                     NaN   \n",
       "9                                                     NaN   \n",
       "...                                                   ...   \n",
       "186624  [https://images-na.ssl-images-amazon.com/image...   \n",
       "186625                                                NaN   \n",
       "186628  [https://images-na.ssl-images-amazon.com/image...   \n",
       "186631  [https://images-na.ssl-images-amazon.com/image...   \n",
       "186636  [https://images-na.ssl-images-amazon.com/image...   \n",
       "\n",
       "                                          imageURLHighRes description  price  \\\n",
       "1       [https://images-na.ssl-images-amazon.com/image...         NaN    NaN   \n",
       "4       [https://images-na.ssl-images-amazon.com/image...         NaN  $4.50   \n",
       "5       [https://images-na.ssl-images-amazon.com/image...         NaN    NaN   \n",
       "6                                                     NaN         NaN    NaN   \n",
       "9                                                     NaN         NaN    NaN   \n",
       "...                                                   ...         ...    ...   \n",
       "186624  [https://images-na.ssl-images-amazon.com/image...         NaN    NaN   \n",
       "186625                                                NaN         NaN    NaN   \n",
       "186628  [https://images-na.ssl-images-amazon.com/image...         NaN    NaN   \n",
       "186631  [https://images-na.ssl-images-amazon.com/image...         NaN    NaN   \n",
       "186636  [https://images-na.ssl-images-amazon.com/image...         NaN    NaN   \n",
       "\n",
       "       also_view                              also_buy  fit details  \\\n",
       "1            NaN                                   NaN  NaN     NaN   \n",
       "4            NaN                                   NaN  NaN     NaN   \n",
       "5            NaN                                   NaN  NaN     NaN   \n",
       "6            NaN                                   NaN  NaN     NaN   \n",
       "9            NaN                                   NaN  NaN     NaN   \n",
       "...          ...                                   ...  ...     ...   \n",
       "186624       NaN  [B07BL4WSDQ, B07BNSY569, B079L52Q1W]  NaN     NaN   \n",
       "186625       NaN                                   NaN  NaN     NaN   \n",
       "186628       NaN                          [B07BRM7365]  NaN     NaN   \n",
       "186631       NaN                                   NaN  NaN     NaN   \n",
       "186636       NaN                                   NaN  NaN     NaN   \n",
       "\n",
       "       similar_item tech1  \n",
       "1               NaN   NaN  \n",
       "4               NaN   NaN  \n",
       "5               NaN   NaN  \n",
       "6               NaN   NaN  \n",
       "9               NaN   NaN  \n",
       "...             ...   ...  \n",
       "186624          NaN   NaN  \n",
       "186625          NaN   NaN  \n",
       "186628          NaN   NaN  \n",
       "186631          NaN   NaN  \n",
       "186636          NaN   NaN  \n",
       "\n",
       "[46680 rows x 16 columns]"
      ]
     },
     "execution_count": 31,
     "metadata": {},
     "output_type": "execute_result"
    }
   ],
   "source": [
    "fashion_meta_dt[fashion_meta_dt[\"brand\"].isna()]"
   ]
  },
  {
   "cell_type": "code",
   "execution_count": 7,
   "id": "1bc3f186",
   "metadata": {},
   "outputs": [
    {
     "data": {
      "text/html": [
       "<div>\n",
       "<style scoped>\n",
       "    .dataframe tbody tr th:only-of-type {\n",
       "        vertical-align: middle;\n",
       "    }\n",
       "\n",
       "    .dataframe tbody tr th {\n",
       "        vertical-align: top;\n",
       "    }\n",
       "\n",
       "    .dataframe thead th {\n",
       "        text-align: right;\n",
       "    }\n",
       "</style>\n",
       "<table border=\"1\" class=\"dataframe\">\n",
       "  <thead>\n",
       "    <tr style=\"text-align: right;\">\n",
       "      <th></th>\n",
       "      <th>title</th>\n",
       "      <th>brand</th>\n",
       "      <th>feature</th>\n",
       "      <th>rank</th>\n",
       "      <th>date</th>\n",
       "      <th>asin</th>\n",
       "      <th>imageURL</th>\n",
       "      <th>imageURLHighRes</th>\n",
       "      <th>description</th>\n",
       "      <th>price</th>\n",
       "      <th>also_view</th>\n",
       "      <th>also_buy</th>\n",
       "      <th>fit</th>\n",
       "      <th>details</th>\n",
       "      <th>similar_item</th>\n",
       "      <th>tech1</th>\n",
       "    </tr>\n",
       "  </thead>\n",
       "  <tbody>\n",
       "    <tr>\n",
       "      <th>0</th>\n",
       "      <td>Slime Time Fall Fest [With CDROM and Collector...</td>\n",
       "      <td>Group Publishing (CO)</td>\n",
       "      <td>[Product Dimensions:\\n                    \\n8....</td>\n",
       "      <td>13,052,976inClothing,Shoesamp;Jewelry(</td>\n",
       "      <td>8.70 inches</td>\n",
       "      <td>0764443682</td>\n",
       "      <td>[https://images-na.ssl-images-amazon.com/image...</td>\n",
       "      <td>[https://images-na.ssl-images-amazon.com/image...</td>\n",
       "      <td>NaN</td>\n",
       "      <td>NaN</td>\n",
       "      <td>NaN</td>\n",
       "      <td>NaN</td>\n",
       "      <td>NaN</td>\n",
       "      <td>NaN</td>\n",
       "      <td>NaN</td>\n",
       "      <td>NaN</td>\n",
       "    </tr>\n",
       "    <tr>\n",
       "      <th>1</th>\n",
       "      <td>XCC Qi promise new spider snake preparing men'...</td>\n",
       "      <td>NaN</td>\n",
       "      <td>NaN</td>\n",
       "      <td>11,654,581inClothing,Shoesamp;Jewelry(</td>\n",
       "      <td>5 star</td>\n",
       "      <td>1291691480</td>\n",
       "      <td>[https://images-na.ssl-images-amazon.com/image...</td>\n",
       "      <td>[https://images-na.ssl-images-amazon.com/image...</td>\n",
       "      <td>NaN</td>\n",
       "      <td>NaN</td>\n",
       "      <td>NaN</td>\n",
       "      <td>NaN</td>\n",
       "      <td>NaN</td>\n",
       "      <td>NaN</td>\n",
       "      <td>NaN</td>\n",
       "      <td>NaN</td>\n",
       "    </tr>\n",
       "    <tr>\n",
       "      <th>2</th>\n",
       "      <td>Magical Things I Really Do Do Too!</td>\n",
       "      <td>Christopher Manos</td>\n",
       "      <td>[Package Dimensions:\\n                    \\n8....</td>\n",
       "      <td>19,308,073inClothing,ShoesJewelry(</td>\n",
       "      <td>5 star</td>\n",
       "      <td>1940280001</td>\n",
       "      <td>[https://images-na.ssl-images-amazon.com/image...</td>\n",
       "      <td>[https://images-na.ssl-images-amazon.com/image...</td>\n",
       "      <td>[For the professional or amateur magician.  Ro...</td>\n",
       "      <td>NaN</td>\n",
       "      <td>NaN</td>\n",
       "      <td>NaN</td>\n",
       "      <td>NaN</td>\n",
       "      <td>NaN</td>\n",
       "      <td>NaN</td>\n",
       "      <td>NaN</td>\n",
       "    </tr>\n",
       "    <tr>\n",
       "      <th>3</th>\n",
       "      <td>Ashes to Ashes, Oranges to Oranges</td>\n",
       "      <td>Flickerlamp Publishing</td>\n",
       "      <td>[Package Dimensions:\\n                    \\n8....</td>\n",
       "      <td>19,734,184inClothing,ShoesJewelry(</td>\n",
       "      <td>5 star</td>\n",
       "      <td>1940735033</td>\n",
       "      <td>[https://images-na.ssl-images-amazon.com/image...</td>\n",
       "      <td>[https://images-na.ssl-images-amazon.com/image...</td>\n",
       "      <td>NaN</td>\n",
       "      <td>NaN</td>\n",
       "      <td>NaN</td>\n",
       "      <td>NaN</td>\n",
       "      <td>NaN</td>\n",
       "      <td>NaN</td>\n",
       "      <td>NaN</td>\n",
       "      <td>NaN</td>\n",
       "    </tr>\n",
       "    <tr>\n",
       "      <th>4</th>\n",
       "      <td>Aether &amp; Empire #1 - 2016 First Printing Comic...</td>\n",
       "      <td>NaN</td>\n",
       "      <td>[Package Dimensions:\\n                    \\n10...</td>\n",
       "      <td>10,558,646inClothing,Shoesamp;Jewelry(</td>\n",
       "      <td>5 star</td>\n",
       "      <td>1940967805</td>\n",
       "      <td>[https://images-na.ssl-images-amazon.com/image...</td>\n",
       "      <td>[https://images-na.ssl-images-amazon.com/image...</td>\n",
       "      <td>NaN</td>\n",
       "      <td>$4.50</td>\n",
       "      <td>NaN</td>\n",
       "      <td>NaN</td>\n",
       "      <td>NaN</td>\n",
       "      <td>NaN</td>\n",
       "      <td>NaN</td>\n",
       "      <td>NaN</td>\n",
       "    </tr>\n",
       "  </tbody>\n",
       "</table>\n",
       "</div>"
      ],
      "text/plain": [
       "                                               title                   brand  \\\n",
       "0  Slime Time Fall Fest [With CDROM and Collector...   Group Publishing (CO)   \n",
       "1  XCC Qi promise new spider snake preparing men'...                     NaN   \n",
       "2                 Magical Things I Really Do Do Too!       Christopher Manos   \n",
       "3                 Ashes to Ashes, Oranges to Oranges  Flickerlamp Publishing   \n",
       "4  Aether & Empire #1 - 2016 First Printing Comic...                     NaN   \n",
       "\n",
       "                                             feature  \\\n",
       "0  [Product Dimensions:\\n                    \\n8....   \n",
       "1                                                NaN   \n",
       "2  [Package Dimensions:\\n                    \\n8....   \n",
       "3  [Package Dimensions:\\n                    \\n8....   \n",
       "4  [Package Dimensions:\\n                    \\n10...   \n",
       "\n",
       "                                     rank         date        asin  \\\n",
       "0  13,052,976inClothing,Shoesamp;Jewelry(  8.70 inches  0764443682   \n",
       "1  11,654,581inClothing,Shoesamp;Jewelry(       5 star  1291691480   \n",
       "2      19,308,073inClothing,ShoesJewelry(       5 star  1940280001   \n",
       "3      19,734,184inClothing,ShoesJewelry(       5 star  1940735033   \n",
       "4  10,558,646inClothing,Shoesamp;Jewelry(       5 star  1940967805   \n",
       "\n",
       "                                            imageURL  \\\n",
       "0  [https://images-na.ssl-images-amazon.com/image...   \n",
       "1  [https://images-na.ssl-images-amazon.com/image...   \n",
       "2  [https://images-na.ssl-images-amazon.com/image...   \n",
       "3  [https://images-na.ssl-images-amazon.com/image...   \n",
       "4  [https://images-na.ssl-images-amazon.com/image...   \n",
       "\n",
       "                                     imageURLHighRes  \\\n",
       "0  [https://images-na.ssl-images-amazon.com/image...   \n",
       "1  [https://images-na.ssl-images-amazon.com/image...   \n",
       "2  [https://images-na.ssl-images-amazon.com/image...   \n",
       "3  [https://images-na.ssl-images-amazon.com/image...   \n",
       "4  [https://images-na.ssl-images-amazon.com/image...   \n",
       "\n",
       "                                         description  price also_view  \\\n",
       "0                                                NaN    NaN       NaN   \n",
       "1                                                NaN    NaN       NaN   \n",
       "2  [For the professional or amateur magician.  Ro...    NaN       NaN   \n",
       "3                                                NaN    NaN       NaN   \n",
       "4                                                NaN  $4.50       NaN   \n",
       "\n",
       "  also_buy  fit details similar_item tech1  \n",
       "0      NaN  NaN     NaN          NaN   NaN  \n",
       "1      NaN  NaN     NaN          NaN   NaN  \n",
       "2      NaN  NaN     NaN          NaN   NaN  \n",
       "3      NaN  NaN     NaN          NaN   NaN  \n",
       "4      NaN  NaN     NaN          NaN   NaN  "
      ]
     },
     "execution_count": 7,
     "metadata": {},
     "output_type": "execute_result"
    }
   ],
   "source": [
    "fashion_meta_dt.head()"
   ]
  },
  {
   "cell_type": "code",
   "execution_count": 8,
   "id": "d388811b",
   "metadata": {},
   "outputs": [
    {
     "data": {
      "text/plain": [
       "imageURL  imageURLHighRes\n",
       "False     False              132017\n",
       "True      True                54620\n",
       "dtype: int64"
      ]
     },
     "execution_count": 8,
     "metadata": {},
     "output_type": "execute_result"
    }
   ],
   "source": [
    "fashion_meta_dt[[\"imageURL\", \"imageURLHighRes\"]].isna().value_counts()"
   ]
  },
  {
   "cell_type": "code",
   "execution_count": 9,
   "id": "4ee06e1d",
   "metadata": {},
   "outputs": [],
   "source": [
    "url = fashion_meta_dt.loc[1, [\"imageURL\", \"imageURLHighRes\"]]"
   ]
  },
  {
   "cell_type": "code",
   "execution_count": 10,
   "id": "4ee2a778",
   "metadata": {},
   "outputs": [
    {
     "data": {
      "text/plain": [
       "['https://images-na.ssl-images-amazon.com/images/I/41BCH7-4vHL.jpg',\n",
       " 'https://images-na.ssl-images-amazon.com/images/I/41FpbB--SoL.jpg',\n",
       " 'https://images-na.ssl-images-amazon.com/images/I/51twQYJo0NL.jpg']"
      ]
     },
     "execution_count": 10,
     "metadata": {},
     "output_type": "execute_result"
    }
   ],
   "source": [
    "url[1]"
   ]
  },
  {
   "cell_type": "code",
   "execution_count": 11,
   "id": "d2387f0a",
   "metadata": {},
   "outputs": [],
   "source": [
    "from PIL import Image\n",
    "import requests\n",
    "from io import BytesIO\n",
    "\n",
    "response = requests.get(url[1][0])\n",
    "img = Image.open(BytesIO(response.content))"
   ]
  },
  {
   "cell_type": "code",
   "execution_count": 12,
   "id": "eb8bb325",
   "metadata": {},
   "outputs": [
    {
     "data": {
      "image/png": "[encoded data removed]",
      "text/plain": [
       "<PIL.JpegImagePlugin.JpegImageFile image mode=RGB size=500x500 at 0x7FF0EA0C9A80>"
      ]
     },
     "execution_count": 12,
     "metadata": {},
     "output_type": "execute_result"
    }
   ],
   "source": [
    "img"
   ]
  },
  {
   "cell_type": "markdown",
   "id": "c86b6aba",
   "metadata": {},
   "source": [
    "## Create data to use"
   ]
  },
  {
   "cell_type": "code",
   "execution_count": 13,
   "id": "df60a302",
   "metadata": {},
   "outputs": [
    {
     "data": {
      "text/plain": [
       "(883636, 12)"
      ]
     },
     "execution_count": 13,
     "metadata": {},
     "output_type": "execute_result"
    }
   ],
   "source": [
    "fashion_review_dt.shape"
   ]
  },
  {
   "cell_type": "code",
   "execution_count": 14,
   "id": "1e43e41d",
   "metadata": {},
   "outputs": [],
   "source": [
    "k = 5"
   ]
  },
  {
   "cell_type": "code",
   "execution_count": 15,
   "id": "5cb783df",
   "metadata": {},
   "outputs": [],
   "source": [
    "more_than_k_reviewer_boolean = fashion_review_dt[\"reviewerID\"].value_counts()>=5"
   ]
  },
  {
   "cell_type": "code",
   "execution_count": 16,
   "id": "e6829c36",
   "metadata": {},
   "outputs": [
    {
     "data": {
      "text/plain": [
       "3718"
      ]
     },
     "execution_count": 16,
     "metadata": {},
     "output_type": "execute_result"
    }
   ],
   "source": [
    "more_than_k_reviewer_boolean.sum()"
   ]
  },
  {
   "cell_type": "code",
   "execution_count": 17,
   "id": "e3e7f220",
   "metadata": {},
   "outputs": [
    {
     "data": {
      "text/plain": [
       "Index(['A3G5KDMFNRUXHB', 'A3JBQHQZEZPQK4', 'A1RRX286ZRI830', 'A2PBHVTPTIIGKR',\n",
       "       'A2GP4EJIAA2OE0'],\n",
       "      dtype='object')"
      ]
     },
     "execution_count": 17,
     "metadata": {},
     "output_type": "execute_result"
    }
   ],
   "source": [
    "more_than_k_reviewer_index = more_than_k_reviewer_boolean.index[more_than_k_reviewer_boolean]\n",
    "more_than_k_reviewer_index[:5]"
   ]
  },
  {
   "cell_type": "code",
   "execution_count": 18,
   "id": "019b5571",
   "metadata": {},
   "outputs": [],
   "source": [
    "more_than_k_asin_boolean = fashion_review_dt[\"asin\"].value_counts()>=5"
   ]
  },
  {
   "cell_type": "code",
   "execution_count": 19,
   "id": "23e54267",
   "metadata": {},
   "outputs": [
    {
     "data": {
      "text/plain": [
       "30120"
      ]
     },
     "execution_count": 19,
     "metadata": {},
     "output_type": "execute_result"
    }
   ],
   "source": [
    "more_than_k_asin_boolean.sum()"
   ]
  },
  {
   "cell_type": "code",
   "execution_count": 20,
   "id": "cea21768",
   "metadata": {},
   "outputs": [
    {
     "data": {
      "text/plain": [
       "Index(['B000V0IBDM', 'B000KPIHQ4', 'B00I0VHS10', 'B00RLSCLJM', 'B000PHANNM'], dtype='object')"
      ]
     },
     "execution_count": 20,
     "metadata": {},
     "output_type": "execute_result"
    }
   ],
   "source": [
    "more_than_k_asin_index = more_than_k_asin_boolean.index[more_than_k_asin_boolean]\n",
    "more_than_k_asin_index[:5]"
   ]
  },
  {
   "cell_type": "code",
   "execution_count": 21,
   "id": "11038098",
   "metadata": {},
   "outputs": [],
   "source": [
    "keep_boolean = fashion_review_dt[\"reviewerID\"].apply(lambda x: x in more_than_k_reviewer_index) & \\\n",
    "    fashion_review_dt[\"asin\"].apply(lambda x: x in more_than_k_asin_boolean)"
   ]
  },
  {
   "cell_type": "code",
   "execution_count": 22,
   "id": "778be898",
   "metadata": {},
   "outputs": [],
   "source": [
    "fashion_review_dt = fashion_review_dt[keep_boolean]"
   ]
  },
  {
   "cell_type": "code",
   "execution_count": 23,
   "id": "738d1401",
   "metadata": {},
   "outputs": [],
   "source": [
    "fashion_review_dt = fashion_review_dt.drop([\"reviewTime\", \"reviewerName\", \"unixReviewTime\", \"image\", \"style\"], axis=1)"
   ]
  },
  {
   "cell_type": "code",
   "execution_count": 24,
   "id": "4b4090a2",
   "metadata": {},
   "outputs": [
    {
     "data": {
      "text/plain": [
       "(24097, 7)"
      ]
     },
     "execution_count": 24,
     "metadata": {},
     "output_type": "execute_result"
    }
   ],
   "source": [
    "fashion_review_dt.shape"
   ]
  },
  {
   "cell_type": "code",
   "execution_count": 25,
   "id": "11ad60e6",
   "metadata": {},
   "outputs": [
    {
     "data": {
      "text/html": [
       "<div>\n",
       "<style scoped>\n",
       "    .dataframe tbody tr th:only-of-type {\n",
       "        vertical-align: middle;\n",
       "    }\n",
       "\n",
       "    .dataframe tbody tr th {\n",
       "        vertical-align: top;\n",
       "    }\n",
       "\n",
       "    .dataframe thead th {\n",
       "        text-align: right;\n",
       "    }\n",
       "</style>\n",
       "<table border=\"1\" class=\"dataframe\">\n",
       "  <thead>\n",
       "    <tr style=\"text-align: right;\">\n",
       "      <th></th>\n",
       "      <th>overall</th>\n",
       "      <th>verified</th>\n",
       "      <th>reviewerID</th>\n",
       "      <th>asin</th>\n",
       "      <th>reviewText</th>\n",
       "      <th>summary</th>\n",
       "      <th>vote</th>\n",
       "    </tr>\n",
       "  </thead>\n",
       "  <tbody>\n",
       "    <tr>\n",
       "      <th>114</th>\n",
       "      <td>4</td>\n",
       "      <td>True</td>\n",
       "      <td>AAQO19HKS86MQ</td>\n",
       "      <td>B00008JOQI</td>\n",
       "      <td>Nice shirt</td>\n",
       "      <td>Four Stars</td>\n",
       "      <td>NaN</td>\n",
       "    </tr>\n",
       "    <tr>\n",
       "      <th>1345</th>\n",
       "      <td>5</td>\n",
       "      <td>True</td>\n",
       "      <td>A3FOL5CECUQJKV</td>\n",
       "      <td>B0006HB4XE</td>\n",
       "      <td>Since it was Gem Avenue, I knew I couldn't go ...</td>\n",
       "      <td>Perfect size, length, presentation</td>\n",
       "      <td>NaN</td>\n",
       "    </tr>\n",
       "    <tr>\n",
       "      <th>1519</th>\n",
       "      <td>5</td>\n",
       "      <td>True</td>\n",
       "      <td>AQG16QCMT344N</td>\n",
       "      <td>B0007MV6PO</td>\n",
       "      <td>We gave this to an elder farmer friend and he ...</td>\n",
       "      <td>Great hat for fishing and farming, and looks s...</td>\n",
       "      <td>NaN</td>\n",
       "    </tr>\n",
       "    <tr>\n",
       "      <th>1962</th>\n",
       "      <td>5</td>\n",
       "      <td>True</td>\n",
       "      <td>A2R0KB6P9AWB3N</td>\n",
       "      <td>B0008F6WMM</td>\n",
       "      <td>The helmet is a bit big for my 6 yr old. But i...</td>\n",
       "      <td>But it is really nice, and looks awesome</td>\n",
       "      <td>NaN</td>\n",
       "    </tr>\n",
       "    <tr>\n",
       "      <th>2218</th>\n",
       "      <td>3</td>\n",
       "      <td>True</td>\n",
       "      <td>A1KPFFU7NOVNCY</td>\n",
       "      <td>B0009A1EA6</td>\n",
       "      <td>My babies are big for their age, I have a 3 mo...</td>\n",
       "      <td>but the picture looks like a light cute yellow...</td>\n",
       "      <td>NaN</td>\n",
       "    </tr>\n",
       "  </tbody>\n",
       "</table>\n",
       "</div>"
      ],
      "text/plain": [
       "      overall  verified      reviewerID        asin  \\\n",
       "114         4      True   AAQO19HKS86MQ  B00008JOQI   \n",
       "1345        5      True  A3FOL5CECUQJKV  B0006HB4XE   \n",
       "1519        5      True   AQG16QCMT344N  B0007MV6PO   \n",
       "1962        5      True  A2R0KB6P9AWB3N  B0008F6WMM   \n",
       "2218        3      True  A1KPFFU7NOVNCY  B0009A1EA6   \n",
       "\n",
       "                                             reviewText  \\\n",
       "114                                          Nice shirt   \n",
       "1345  Since it was Gem Avenue, I knew I couldn't go ...   \n",
       "1519  We gave this to an elder farmer friend and he ...   \n",
       "1962  The helmet is a bit big for my 6 yr old. But i...   \n",
       "2218  My babies are big for their age, I have a 3 mo...   \n",
       "\n",
       "                                                summary  vote  \n",
       "114                                          Four Stars   NaN  \n",
       "1345                 Perfect size, length, presentation   NaN  \n",
       "1519  Great hat for fishing and farming, and looks s...   NaN  \n",
       "1962           But it is really nice, and looks awesome   NaN  \n",
       "2218  but the picture looks like a light cute yellow...   NaN  "
      ]
     },
     "execution_count": 25,
     "metadata": {},
     "output_type": "execute_result"
    }
   ],
   "source": [
    "fashion_review_dt.head()"
   ]
  },
  {
   "cell_type": "code",
   "execution_count": 26,
   "id": "6501fa12",
   "metadata": {},
   "outputs": [
    {
     "data": {
      "text/plain": [
       "Index(['overall', 'verified', 'reviewerID', 'asin', 'reviewText', 'summary',\n",
       "       'vote'],\n",
       "      dtype='object')"
      ]
     },
     "execution_count": 26,
     "metadata": {},
     "output_type": "execute_result"
    }
   ],
   "source": [
    "fashion_review_dt.columns"
   ]
  },
  {
   "cell_type": "code",
   "execution_count": 27,
   "id": "7004759c",
   "metadata": {},
   "outputs": [
    {
     "data": {
      "text/plain": [
       "2.0      963\n",
       "3.0      503\n",
       "4.0      276\n",
       "5.0      197\n",
       "6.0      119\n",
       "        ... \n",
       "80.0       1\n",
       "100.0      1\n",
       "82.0       1\n",
       "97.0       1\n",
       "66.0       1\n",
       "Name: vote, Length: 71, dtype: int64"
      ]
     },
     "execution_count": 27,
     "metadata": {},
     "output_type": "execute_result"
    }
   ],
   "source": [
    "fashion_review_dt[\"vote\"].value_counts()"
   ]
  },
  {
   "cell_type": "code",
   "execution_count": 28,
   "id": "45a40b5a",
   "metadata": {},
   "outputs": [],
   "source": [
    "# process metadata"
   ]
  },
  {
   "cell_type": "code",
   "execution_count": 29,
   "id": "86b96924",
   "metadata": {},
   "outputs": [],
   "source": [
    "fashion_meta_dt = fashion_meta_dt[fashion_meta_dt[\"rank\"].notna() & fashion_meta_dt[\"brand\"].notna()]"
   ]
  },
  {
   "cell_type": "code",
   "execution_count": null,
   "id": "e81d7589",
   "metadata": {},
   "outputs": [],
   "source": [
    "fashion_meta_dt = fashion_meta_dt.reset_index(drop=True)"
   ]
  },
  {
   "cell_type": "code",
   "execution_count": null,
   "id": "db939325",
   "metadata": {},
   "outputs": [],
   "source": [
    "fashion_meta_dt.head()"
   ]
  },
  {
   "cell_type": "code",
   "execution_count": null,
   "id": "fc3ecfb7",
   "metadata": {},
   "outputs": [],
   "source": [
    "fashion_meta_dt[\"rank\"] = fashion_meta_dt[\"rank\"].apply(lambda x: x[0] if type(x) == list else x)"
   ]
  },
  {
   "cell_type": "code",
   "execution_count": null,
   "id": "d0044411",
   "metadata": {},
   "outputs": [],
   "source": [
    "fashion_meta_dt[\"rank\"] = fashion_meta_dt[\"rank\"].str.split(\"in\").str[0].str.replace(\",\", \"\")"
   ]
  },
  {
   "cell_type": "code",
   "execution_count": null,
   "id": "39e2eb7b",
   "metadata": {},
   "outputs": [],
   "source": [
    "fashion_meta_dt[\"rank\"] = fashion_meta_dt[\"rank\"].str.split(\"#\").apply(lambda x: x[0] if len(x)==1 else x[1])"
   ]
  },
  {
   "cell_type": "code",
   "execution_count": null,
   "id": "d6474e4c",
   "metadata": {},
   "outputs": [],
   "source": [
    "fashion_meta_dt[\"rank\"] = fashion_meta_dt[\"rank\"].astype(float)"
   ]
  },
  {
   "cell_type": "code",
   "execution_count": null,
   "id": "1c877caf",
   "metadata": {},
   "outputs": [],
   "source": [
    "fashion_meta_dt[\"rank\"].astype(float).describe()"
   ]
  },
  {
   "cell_type": "code",
   "execution_count": null,
   "id": "1b98981b",
   "metadata": {},
   "outputs": [],
   "source": [
    "fashion_meta_dt = fashion_meta_dt[['title', 'brand', 'rank', 'asin', 'imageURLHighRes', 'description', 'price']]"
   ]
  },
  {
   "cell_type": "code",
   "execution_count": null,
   "id": "a1f0c90b",
   "metadata": {},
   "outputs": [],
   "source": [
    "fashion_meta_dt[[\"brand\", \"rank\"]].sort_values(by=\"rank\").head(10)"
   ]
  },
  {
   "cell_type": "code",
   "execution_count": null,
   "id": "d68b1224",
   "metadata": {},
   "outputs": [],
   "source": [
    "final_data = fashion_review_dt.merge(fashion_meta_dt, on=\"asin\", how=\"left\")"
   ]
  },
  {
   "cell_type": "code",
   "execution_count": null,
   "id": "450714a9",
   "metadata": {},
   "outputs": [],
   "source": [
    "final_data.head()"
   ]
  },
  {
   "cell_type": "code",
   "execution_count": null,
   "id": "481714c2",
   "metadata": {},
   "outputs": [],
   "source": [
    "final_data.isna().mean()"
   ]
  },
  {
   "cell_type": "code",
   "execution_count": null,
   "id": "49940fbc",
   "metadata": {},
   "outputs": [],
   "source": []
  }
 ],
 "metadata": {
  "kernelspec": {
   "display_name": "Python 3 (ipykernel)",
   "language": "python",
   "name": "python3"
  },
  "language_info": {
   "codemirror_mode": {
    "name": "ipython",
    "version": 3
   },
   "file_extension": ".py",
   "mimetype": "text/x-python",
   "name": "python",
   "nbconvert_exporter": "python",
   "pygments_lexer": "ipython3",
   "version": "3.10.0"
  }
 },
 "nbformat": 4,
 "nbformat_minor": 5
}
