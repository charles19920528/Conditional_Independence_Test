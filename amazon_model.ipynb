{
 "cells": [
  {
   "cell_type": "code",
   "execution_count": 1,
   "id": "d3f064f8",
   "metadata": {},
   "outputs": [],
   "source": [
    "import pandas as pd\n",
    "import numpy as np"
   ]
  },
  {
   "cell_type": "markdown",
   "id": "c7c1c0d9",
   "metadata": {},
   "source": [
    "# Load Data"
   ]
  },
  {
   "cell_type": "code",
   "execution_count": 2,
   "id": "b94343a1",
   "metadata": {},
   "outputs": [],
   "source": [
    "review_dt = pd.read_json(\"data/amazon_data/AMAZON_FASHION.json\", lines=True)\n",
    "meta_dt = pd.read_json(\"data/amazon_data/meta_AMAZON_FASHION.json\", lines=True)"
   ]
  },
  {
   "cell_type": "markdown",
   "id": "9769c6d4",
   "metadata": {},
   "source": [
    "## Review Data"
   ]
  },
  {
   "cell_type": "code",
   "execution_count": 3,
   "id": "fe95c6d5",
   "metadata": {},
   "outputs": [],
   "source": [
    "reviewer_k = 5\n",
    "more_than_k_reviewer_boolean = review_dt[\"reviewerID\"].value_counts()>= reviewer_k\n",
    "more_than_k_reviewer_index = more_than_k_reviewer_boolean.index[more_than_k_reviewer_boolean]\n",
    "\n",
    "meta_k = 10\n",
    "more_than_k_asin_boolean = review_dt[\"asin\"].value_counts() >= meta_k\n",
    "more_than_k_asin_index = more_than_k_asin_boolean.index[more_than_k_asin_boolean]\n",
    "\n",
    "keep_boolean = review_dt[\"reviewerID\"].apply(lambda x: x in more_than_k_reviewer_index) & \\\n",
    "    review_dt[\"asin\"].apply(lambda x: x in more_than_k_asin_index)\n",
    "\n",
    "review_dt = review_dt[keep_boolean]\n",
    "review_dt = review_dt[['overall', 'verified', 'reviewerID', 'asin', 'reviewText', \"summary\", \"vote\"]]\n",
    "# review_dt = review_dt.drop([\"reviewTime\", \"reviewerName\", \"unixReviewTime\", \"image\", \"style\"], axis=1)\n",
    "review_dt = review_dt.reset_index(drop=True)"
   ]
  },
  {
   "cell_type": "markdown",
   "id": "4ea3b167",
   "metadata": {},
   "source": [
    "## Meta Data"
   ]
  },
  {
   "cell_type": "code",
   "execution_count": 4,
   "id": "c0e1f1a6",
   "metadata": {},
   "outputs": [],
   "source": [
    "meta_dt = meta_dt[meta_dt[\"rank\"].notna()]\n",
    "meta_dt[\"rank\"] = meta_dt[\"rank\"].apply(lambda x: x[0] if type(x) == list else x)\n",
    "meta_dt[\"rank\"] = meta_dt[\"rank\"].str.split(\"in\").str[0].str.replace(\",\", \"\")\n",
    "meta_dt[\"rank\"] = meta_dt[\"rank\"].str.split(\"#\").apply(lambda x: x[0] if len(x)==1 else x[1])\n",
    "meta_dt[\"rank\"] = meta_dt[\"rank\"].astype(float)\n",
    "meta_dt = meta_dt[['title', 'brand', 'rank', 'asin', 'imageURL', 'description', 'price']]\n",
    "meta_dt = meta_dt.reset_index(drop=True)"
   ]
  },
  {
   "cell_type": "markdown",
   "id": "56842ca1",
   "metadata": {},
   "source": [
    "### Sales Rank"
   ]
  },
  {
   "cell_type": "code",
   "execution_count": 5,
   "id": "10b44722",
   "metadata": {},
   "outputs": [],
   "source": [
    "threshold_rank_percentage = 0.1\n",
    "threshold_rank = np.quantile(meta_dt[\"rank\"], threshold_rank_percentage)\n",
    "meta_dt[\"top_selling\"] = 0\n",
    "meta_dt.loc[meta_dt[\"rank\"] <= threshold_rank, \"top_selling\"] = 1\n",
    "meta_dt[\"top_selling\"] = 2 * meta_dt[\"top_selling\"] - 1\n",
    "meta_dt = meta_dt.drop(\"rank\", axis=1)"
   ]
  },
  {
   "cell_type": "code",
   "execution_count": 6,
   "id": "8084730c",
   "metadata": {
    "scrolled": true
   },
   "outputs": [
    {
     "data": {
      "text/html": [
       "<div>\n",
       "<style scoped>\n",
       "    .dataframe tbody tr th:only-of-type {\n",
       "        vertical-align: middle;\n",
       "    }\n",
       "\n",
       "    .dataframe tbody tr th {\n",
       "        vertical-align: top;\n",
       "    }\n",
       "\n",
       "    .dataframe thead th {\n",
       "        text-align: right;\n",
       "    }\n",
       "</style>\n",
       "<table border=\"1\" class=\"dataframe\">\n",
       "  <thead>\n",
       "    <tr style=\"text-align: right;\">\n",
       "      <th></th>\n",
       "      <th>overall</th>\n",
       "      <th>verified</th>\n",
       "      <th>reviewerID</th>\n",
       "      <th>asin</th>\n",
       "      <th>reviewText</th>\n",
       "      <th>summary</th>\n",
       "      <th>vote</th>\n",
       "      <th>title</th>\n",
       "      <th>brand</th>\n",
       "      <th>imageURL</th>\n",
       "      <th>description</th>\n",
       "      <th>price</th>\n",
       "      <th>top_selling</th>\n",
       "    </tr>\n",
       "  </thead>\n",
       "  <tbody>\n",
       "    <tr>\n",
       "      <th>0</th>\n",
       "      <td>4</td>\n",
       "      <td>True</td>\n",
       "      <td>AAQO19HKS86MQ</td>\n",
       "      <td>B00008JOQI</td>\n",
       "      <td>Nice shirt</td>\n",
       "      <td>Four Stars</td>\n",
       "      <td>NaN</td>\n",
       "      <td>Paul Fredrick Men's Pinpoint Button Down Colla...</td>\n",
       "      <td>NaN</td>\n",
       "      <td>NaN</td>\n",
       "      <td>NaN</td>\n",
       "      <td>NaN</td>\n",
       "      <td>-1.0</td>\n",
       "    </tr>\n",
       "    <tr>\n",
       "      <th>1</th>\n",
       "      <td>4</td>\n",
       "      <td>True</td>\n",
       "      <td>AAQO19HKS86MQ</td>\n",
       "      <td>B00008JOQI</td>\n",
       "      <td>Nice shirt</td>\n",
       "      <td>Four Stars</td>\n",
       "      <td>NaN</td>\n",
       "      <td>Paul Fredrick Men's Pinpoint Button Down Colla...</td>\n",
       "      <td>NaN</td>\n",
       "      <td>NaN</td>\n",
       "      <td>NaN</td>\n",
       "      <td>NaN</td>\n",
       "      <td>-1.0</td>\n",
       "    </tr>\n",
       "    <tr>\n",
       "      <th>2</th>\n",
       "      <td>5</td>\n",
       "      <td>True</td>\n",
       "      <td>A3FOL5CECUQJKV</td>\n",
       "      <td>B0006HB4XE</td>\n",
       "      <td>Since it was Gem Avenue, I knew I couldn't go ...</td>\n",
       "      <td>Perfect size, length, presentation</td>\n",
       "      <td>NaN</td>\n",
       "      <td>BOX1MM Nickel Free Italian Sterling Silver 1mm...</td>\n",
       "      <td>NaN</td>\n",
       "      <td>[https://images-na.ssl-images-amazon.com/image...</td>\n",
       "      <td>NaN</td>\n",
       "      <td>NaN</td>\n",
       "      <td>1.0</td>\n",
       "    </tr>\n",
       "    <tr>\n",
       "      <th>3</th>\n",
       "      <td>5</td>\n",
       "      <td>True</td>\n",
       "      <td>AQG16QCMT344N</td>\n",
       "      <td>B0007MV6PO</td>\n",
       "      <td>We gave this to an elder farmer friend and he ...</td>\n",
       "      <td>Great hat for fishing and farming, and looks s...</td>\n",
       "      <td>NaN</td>\n",
       "      <td>Henschel Breezer Hat with CoolMax Band Khaki,M...</td>\n",
       "      <td>Henschel</td>\n",
       "      <td>[https://images-na.ssl-images-amazon.com/image...</td>\n",
       "      <td>NaN</td>\n",
       "      <td>NaN</td>\n",
       "      <td>1.0</td>\n",
       "    </tr>\n",
       "    <tr>\n",
       "      <th>4</th>\n",
       "      <td>5</td>\n",
       "      <td>True</td>\n",
       "      <td>A2R0KB6P9AWB3N</td>\n",
       "      <td>B0008F6WMM</td>\n",
       "      <td>The helmet is a bit big for my 6 yr old. But i...</td>\n",
       "      <td>But it is really nice, and looks awesome</td>\n",
       "      <td>NaN</td>\n",
       "      <td>Aeromax Jr. Astronaut Helmet with sounds</td>\n",
       "      <td>Aeromax</td>\n",
       "      <td>[https://images-na.ssl-images-amazon.com/image...</td>\n",
       "      <td>[The Aeromax Award winning Jr. Astronaut Helme...</td>\n",
       "      <td>$41.63</td>\n",
       "      <td>1.0</td>\n",
       "    </tr>\n",
       "  </tbody>\n",
       "</table>\n",
       "</div>"
      ],
      "text/plain": [
       "   overall  verified      reviewerID        asin  \\\n",
       "0        4      True   AAQO19HKS86MQ  B00008JOQI   \n",
       "1        4      True   AAQO19HKS86MQ  B00008JOQI   \n",
       "2        5      True  A3FOL5CECUQJKV  B0006HB4XE   \n",
       "3        5      True   AQG16QCMT344N  B0007MV6PO   \n",
       "4        5      True  A2R0KB6P9AWB3N  B0008F6WMM   \n",
       "\n",
       "                                          reviewText  \\\n",
       "0                                         Nice shirt   \n",
       "1                                         Nice shirt   \n",
       "2  Since it was Gem Avenue, I knew I couldn't go ...   \n",
       "3  We gave this to an elder farmer friend and he ...   \n",
       "4  The helmet is a bit big for my 6 yr old. But i...   \n",
       "\n",
       "                                             summary  vote  \\\n",
       "0                                         Four Stars   NaN   \n",
       "1                                         Four Stars   NaN   \n",
       "2                 Perfect size, length, presentation   NaN   \n",
       "3  Great hat for fishing and farming, and looks s...   NaN   \n",
       "4           But it is really nice, and looks awesome   NaN   \n",
       "\n",
       "                                               title     brand  \\\n",
       "0  Paul Fredrick Men's Pinpoint Button Down Colla...       NaN   \n",
       "1  Paul Fredrick Men's Pinpoint Button Down Colla...       NaN   \n",
       "2  BOX1MM Nickel Free Italian Sterling Silver 1mm...       NaN   \n",
       "3  Henschel Breezer Hat with CoolMax Band Khaki,M...  Henschel   \n",
       "4           Aeromax Jr. Astronaut Helmet with sounds   Aeromax   \n",
       "\n",
       "                                            imageURL  \\\n",
       "0                                                NaN   \n",
       "1                                                NaN   \n",
       "2  [https://images-na.ssl-images-amazon.com/image...   \n",
       "3  [https://images-na.ssl-images-amazon.com/image...   \n",
       "4  [https://images-na.ssl-images-amazon.com/image...   \n",
       "\n",
       "                                         description   price  top_selling  \n",
       "0                                                NaN     NaN         -1.0  \n",
       "1                                                NaN     NaN         -1.0  \n",
       "2                                                NaN     NaN          1.0  \n",
       "3                                                NaN     NaN          1.0  \n",
       "4  [The Aeromax Award winning Jr. Astronaut Helme...  $41.63          1.0  "
      ]
     },
     "execution_count": 6,
     "metadata": {},
     "output_type": "execute_result"
    }
   ],
   "source": [
    "final_data = review_dt.merge(meta_dt, on=\"asin\", how=\"left\")\n",
    "final_data.head()"
   ]
  },
  {
   "cell_type": "markdown",
   "id": "23e371ec",
   "metadata": {},
   "source": [
    "## Features for Reviewer"
   ]
  },
  {
   "cell_type": "code",
   "execution_count": 7,
   "id": "895612dd",
   "metadata": {},
   "outputs": [
    {
     "data": {
      "text/plain": [
       "count    3600.000000\n",
       "mean        0.930573\n",
       "std         4.094084\n",
       "min         0.000000\n",
       "25%         0.000000\n",
       "50%         0.000000\n",
       "75%         0.500000\n",
       "max       158.000000\n",
       "Name: upvote_per_review, dtype: float64"
      ]
     },
     "execution_count": 7,
     "metadata": {},
     "output_type": "execute_result"
    }
   ],
   "source": [
    "final_data[\"vote\"] = final_data[\"vote\"].fillna(0)\n",
    "reviewer_mean_upvote_series = final_data.groupby(\"reviewerID\")[\"vote\"].mean()\n",
    "reviewer_mean_upvote_series.name = \"upvote_per_review\"\n",
    "reviewer_mean_upvote_series.describe()"
   ]
  },
  {
   "cell_type": "code",
   "execution_count": 8,
   "id": "6821d99b",
   "metadata": {},
   "outputs": [],
   "source": [
    "summary_length_series = final_data[\"summary\"].apply(lambda x: len(x) if x is not np.nan else x)\n",
    "summary_length_series = summary_length_series.fillna(0)\n",
    "summary_length_series = summary_length_series.groupby(final_data[\"reviewerID\"]).mean()\n",
    "summary_length_series.name = \"mean_summary_length\""
   ]
  },
  {
   "cell_type": "code",
   "execution_count": 9,
   "id": "414cd23b",
   "metadata": {},
   "outputs": [
    {
     "data": {
      "text/plain": [
       "count    3600.000000\n",
       "mean       20.928749\n",
       "std        14.873483\n",
       "min         0.000000\n",
       "25%        10.000000\n",
       "50%        15.732143\n",
       "75%        26.687500\n",
       "max       111.000000\n",
       "Name: mean_summary_length, dtype: float64"
      ]
     },
     "execution_count": 9,
     "metadata": {},
     "output_type": "execute_result"
    }
   ],
   "source": [
    "summary_length_series.describe()"
   ]
  },
  {
   "cell_type": "code",
   "execution_count": 10,
   "id": "9ab3d23f",
   "metadata": {},
   "outputs": [],
   "source": [
    "review_length_series = final_data[\"reviewText\"].apply(lambda x: len(x) if x is not np.nan else x)\n",
    "review_length_series = review_length_series.fillna(0)\n",
    "review_length_series = review_length_series.groupby(final_data[\"reviewerID\"]).mean()\n",
    "review_length_series.name = \"mean_review_length\""
   ]
  },
  {
   "cell_type": "code",
   "execution_count": 11,
   "id": "7cdfd119",
   "metadata": {},
   "outputs": [
    {
     "data": {
      "text/plain": [
       "count    3600.000000\n",
       "mean      181.431642\n",
       "std       271.441992\n",
       "min         0.000000\n",
       "25%        36.600000\n",
       "50%        92.242424\n",
       "75%       196.425000\n",
       "max      2973.000000\n",
       "Name: mean_review_length, dtype: float64"
      ]
     },
     "execution_count": 11,
     "metadata": {},
     "output_type": "execute_result"
    }
   ],
   "source": [
    "review_length_series.describe()"
   ]
  },
  {
   "cell_type": "code",
   "execution_count": 12,
   "id": "89d8758a",
   "metadata": {},
   "outputs": [],
   "source": [
    "reviewer_feature_dt = pd.concat([reviewer_mean_upvote_series, \n",
    "                                 review_length_series, summary_length_series], \n",
    "                                axis=1)"
   ]
  },
  {
   "cell_type": "code",
   "execution_count": 13,
   "id": "aae4ac89",
   "metadata": {},
   "outputs": [],
   "source": [
    "final_data = final_data.merge(reviewer_feature_dt, \n",
    "                              left_on=\"reviewerID\", right_index=True).drop(\"vote\", axis=1)\n",
    "del reviewer_feature_dt"
   ]
  },
  {
   "cell_type": "code",
   "execution_count": 14,
   "id": "c88f8ab3",
   "metadata": {},
   "outputs": [],
   "source": [
    "final_data[[\"summary\", \"reviewText\"]] = final_data[[\"summary\", \"reviewText\"]].fillna(\"\")\n",
    "final_data[\"summary_review\"] = final_data[\"summary\"] + \" \" + final_data[\"reviewText\"]\n",
    "final_data = final_data.drop([\"summary\", \"reviewText\"], axis=1)\n",
    "final_data[\"summary_review\"] = final_data[\"summary_review\"].apply(lambda x: [x])\n",
    "final_data[\"title\"] = final_data[\"title\"].apply(lambda x: [x])"
   ]
  },
  {
   "cell_type": "code",
   "execution_count": 15,
   "id": "9b2c265a",
   "metadata": {},
   "outputs": [
    {
     "data": {
      "text/plain": [
       "overall                0.000000\n",
       "verified               0.000000\n",
       "reviewerID             0.000000\n",
       "asin                   0.000000\n",
       "title                  0.000000\n",
       "brand                  0.469145\n",
       "imageURL               0.120346\n",
       "description            0.639683\n",
       "price                  0.562005\n",
       "top_selling            0.028205\n",
       "upvote_per_review      0.000000\n",
       "mean_review_length     0.000000\n",
       "mean_summary_length    0.000000\n",
       "summary_review         0.000000\n",
       "dtype: float64"
      ]
     },
     "execution_count": 15,
     "metadata": {},
     "output_type": "execute_result"
    }
   ],
   "source": [
    "final_data.isna().mean()"
   ]
  },
  {
   "cell_type": "code",
   "execution_count": 16,
   "id": "7e9b9a9a",
   "metadata": {},
   "outputs": [
    {
     "data": {
      "text/plain": [
       "0.9208821412211242"
      ]
     },
     "execution_count": 16,
     "metadata": {},
     "output_type": "execute_result"
    }
   ],
   "source": [
    "final_data[\"verified\"].mean()"
   ]
  },
  {
   "cell_type": "code",
   "execution_count": 17,
   "id": "ba52e1cc",
   "metadata": {},
   "outputs": [],
   "source": [
    "final_data = final_data.dropna(subset=[\"title\", \"imageURL\"])\n",
    "final_data = final_data.drop([\"description\", \"brand\", \"price\"],axis=1)\n",
    "final_data = final_data.reset_index(drop=True)"
   ]
  },
  {
   "cell_type": "code",
   "execution_count": 18,
   "id": "d137f2e9",
   "metadata": {},
   "outputs": [
    {
     "data": {
      "text/plain": [
       "overall                0.0\n",
       "verified               0.0\n",
       "reviewerID             0.0\n",
       "asin                   0.0\n",
       "title                  0.0\n",
       "imageURL               0.0\n",
       "top_selling            0.0\n",
       "upvote_per_review      0.0\n",
       "mean_review_length     0.0\n",
       "mean_summary_length    0.0\n",
       "summary_review         0.0\n",
       "dtype: float64"
      ]
     },
     "execution_count": 18,
     "metadata": {},
     "output_type": "execute_result"
    }
   ],
   "source": [
    "final_data.isna().mean()"
   ]
  },
  {
   "cell_type": "markdown",
   "id": "17587f99",
   "metadata": {},
   "source": [
    "## Response Variable"
   ]
  },
  {
   "cell_type": "markdown",
   "id": "ca196226",
   "metadata": {},
   "source": [
    "### Rating"
   ]
  },
  {
   "cell_type": "code",
   "execution_count": 19,
   "id": "6b95e0f2",
   "metadata": {},
   "outputs": [
    {
     "data": {
      "text/plain": [
       " 1.0    10467\n",
       "-1.0     2975\n",
       "Name: rating, dtype: int64"
      ]
     },
     "execution_count": 19,
     "metadata": {},
     "output_type": "execute_result"
    }
   ],
   "source": [
    "rating_array = np.zeros(final_data.shape[0])\n",
    "rating_array[final_data[\"overall\"] >= 4] = 1\n",
    "rating_series = 2 * pd.Series(rating_array, name=\"rating\") - 1\n",
    "rating_series.value_counts()"
   ]
  },
  {
   "cell_type": "code",
   "execution_count": 20,
   "id": "d7d5124f",
   "metadata": {},
   "outputs": [
    {
     "data": {
      "text/plain": [
       "5    7894\n",
       "4    2573\n",
       "3    1459\n",
       "1     819\n",
       "2     697\n",
       "Name: overall, dtype: int64"
      ]
     },
     "execution_count": 20,
     "metadata": {},
     "output_type": "execute_result"
    }
   ],
   "source": [
    "final_data[\"overall\"].value_counts()"
   ]
  },
  {
   "cell_type": "code",
   "execution_count": 21,
   "id": "c6936603",
   "metadata": {},
   "outputs": [],
   "source": [
    "final_data[\"rating\"] = rating_series\n",
    "del rating_series, rating_array"
   ]
  },
  {
   "cell_type": "code",
   "execution_count": 22,
   "id": "63bca7a6",
   "metadata": {},
   "outputs": [
    {
     "data": {
      "text/plain": [
       " 1.0    0.778679\n",
       "-1.0    0.221321\n",
       "Name: rating, dtype: float64"
      ]
     },
     "execution_count": 22,
     "metadata": {},
     "output_type": "execute_result"
    }
   ],
   "source": [
    "final_data[\"rating\"].value_counts(normalize=True)"
   ]
  },
  {
   "cell_type": "code",
   "execution_count": 23,
   "id": "72668487",
   "metadata": {},
   "outputs": [
    {
     "data": {
      "text/plain": [
       " 1.0    0.864232\n",
       "-1.0    0.135768\n",
       "Name: top_selling, dtype: float64"
      ]
     },
     "execution_count": 23,
     "metadata": {},
     "output_type": "execute_result"
    }
   ],
   "source": [
    "final_data[\"top_selling\"].value_counts(normalize=True)"
   ]
  },
  {
   "cell_type": "code",
   "execution_count": 24,
   "id": "35ea1823",
   "metadata": {},
   "outputs": [],
   "source": [
    "# add distribution of reviewer's review\n",
    "import itertools\n",
    "reviewer_rating_pair_list = list(itertools.product(final_data[\"reviewerID\"].unique(), [5, 4, 3, 2, 1]))\n",
    "review_distribution_series = final_data.groupby(\"reviewerID\")[\"overall\"].value_counts(normalize=True).reindex(\n",
    "    reviewer_rating_pair_list,fill_value=0)\n",
    "review_distribution_series.name = \"review_distribution\"\n",
    "review_distribution_dt = review_distribution_series.reset_index()\n",
    "del reviewer_rating_pair_list, review_distribution_series\n",
    "review_distribution_dt = pd.pivot_table(review_distribution_dt, \n",
    "                                        values=\"review_distribution\", \n",
    "                                        index=\"reviewerID\", columns=\"overall\")"
   ]
  },
  {
   "cell_type": "code",
   "execution_count": 25,
   "id": "3d77310e",
   "metadata": {},
   "outputs": [
    {
     "data": {
      "text/html": [
       "<div>\n",
       "<style scoped>\n",
       "    .dataframe tbody tr th:only-of-type {\n",
       "        vertical-align: middle;\n",
       "    }\n",
       "\n",
       "    .dataframe tbody tr th {\n",
       "        vertical-align: top;\n",
       "    }\n",
       "\n",
       "    .dataframe thead th {\n",
       "        text-align: right;\n",
       "    }\n",
       "</style>\n",
       "<table border=\"1\" class=\"dataframe\">\n",
       "  <thead>\n",
       "    <tr style=\"text-align: right;\">\n",
       "      <th>overall</th>\n",
       "      <th>1</th>\n",
       "      <th>2</th>\n",
       "      <th>3</th>\n",
       "      <th>4</th>\n",
       "      <th>5</th>\n",
       "    </tr>\n",
       "    <tr>\n",
       "      <th>reviewerID</th>\n",
       "      <th></th>\n",
       "      <th></th>\n",
       "      <th></th>\n",
       "      <th></th>\n",
       "      <th></th>\n",
       "    </tr>\n",
       "  </thead>\n",
       "  <tbody>\n",
       "    <tr>\n",
       "      <th>A0986263H7SX62P1SRDD</th>\n",
       "      <td>0.000000</td>\n",
       "      <td>0.000000</td>\n",
       "      <td>0.0</td>\n",
       "      <td>0.166667</td>\n",
       "      <td>0.833333</td>\n",
       "    </tr>\n",
       "    <tr>\n",
       "      <th>A101HTPLV9HVMR</th>\n",
       "      <td>0.000000</td>\n",
       "      <td>0.000000</td>\n",
       "      <td>0.0</td>\n",
       "      <td>0.000000</td>\n",
       "      <td>1.000000</td>\n",
       "    </tr>\n",
       "    <tr>\n",
       "      <th>A104M4DKQ96IT0</th>\n",
       "      <td>0.000000</td>\n",
       "      <td>0.000000</td>\n",
       "      <td>0.0</td>\n",
       "      <td>1.000000</td>\n",
       "      <td>0.000000</td>\n",
       "    </tr>\n",
       "    <tr>\n",
       "      <th>A10B949WG5N4GH</th>\n",
       "      <td>0.666667</td>\n",
       "      <td>0.333333</td>\n",
       "      <td>0.0</td>\n",
       "      <td>0.000000</td>\n",
       "      <td>0.000000</td>\n",
       "    </tr>\n",
       "    <tr>\n",
       "      <th>A10E3QH2FQUBLF</th>\n",
       "      <td>0.000000</td>\n",
       "      <td>0.000000</td>\n",
       "      <td>0.5</td>\n",
       "      <td>0.500000</td>\n",
       "      <td>0.000000</td>\n",
       "    </tr>\n",
       "  </tbody>\n",
       "</table>\n",
       "</div>"
      ],
      "text/plain": [
       "overall                      1         2    3         4         5\n",
       "reviewerID                                                       \n",
       "A0986263H7SX62P1SRDD  0.000000  0.000000  0.0  0.166667  0.833333\n",
       "A101HTPLV9HVMR        0.000000  0.000000  0.0  0.000000  1.000000\n",
       "A104M4DKQ96IT0        0.000000  0.000000  0.0  1.000000  0.000000\n",
       "A10B949WG5N4GH        0.666667  0.333333  0.0  0.000000  0.000000\n",
       "A10E3QH2FQUBLF        0.000000  0.000000  0.5  0.500000  0.000000"
      ]
     },
     "execution_count": 25,
     "metadata": {},
     "output_type": "execute_result"
    }
   ],
   "source": [
    "review_distribution_dt.head()"
   ]
  },
  {
   "cell_type": "code",
   "execution_count": 26,
   "id": "4cf5201e",
   "metadata": {},
   "outputs": [],
   "source": [
    "review_distribution_dt.columns = [\"d1\", \"d2\", \"d3\", \"d4\", \"d5\"]\n",
    "final_data = final_data.merge(review_distribution_dt, left_on=\"reviewerID\", right_index=True)\n",
    "del review_distribution_dt"
   ]
  },
  {
   "cell_type": "code",
   "execution_count": 27,
   "id": "8901d432",
   "metadata": {},
   "outputs": [
    {
     "data": {
      "text/plain": [
       "(13442, 17)"
      ]
     },
     "execution_count": 27,
     "metadata": {},
     "output_type": "execute_result"
    }
   ],
   "source": [
    "final_data.shape"
   ]
  },
  {
   "cell_type": "code",
   "execution_count": 28,
   "id": "735a5e2f",
   "metadata": {},
   "outputs": [
    {
     "data": {
      "text/html": [
       "<div>\n",
       "<style scoped>\n",
       "    .dataframe tbody tr th:only-of-type {\n",
       "        vertical-align: middle;\n",
       "    }\n",
       "\n",
       "    .dataframe tbody tr th {\n",
       "        vertical-align: top;\n",
       "    }\n",
       "\n",
       "    .dataframe thead th {\n",
       "        text-align: right;\n",
       "    }\n",
       "</style>\n",
       "<table border=\"1\" class=\"dataframe\">\n",
       "  <thead>\n",
       "    <tr style=\"text-align: right;\">\n",
       "      <th></th>\n",
       "      <th>overall</th>\n",
       "      <th>verified</th>\n",
       "      <th>reviewerID</th>\n",
       "      <th>asin</th>\n",
       "      <th>title</th>\n",
       "      <th>imageURL</th>\n",
       "      <th>top_selling</th>\n",
       "      <th>upvote_per_review</th>\n",
       "      <th>mean_review_length</th>\n",
       "      <th>mean_summary_length</th>\n",
       "      <th>summary_review</th>\n",
       "      <th>rating</th>\n",
       "      <th>d1</th>\n",
       "      <th>d2</th>\n",
       "      <th>d3</th>\n",
       "      <th>d4</th>\n",
       "      <th>d5</th>\n",
       "    </tr>\n",
       "  </thead>\n",
       "  <tbody>\n",
       "    <tr>\n",
       "      <th>0</th>\n",
       "      <td>3</td>\n",
       "      <td>True</td>\n",
       "      <td>AAQO19HKS86MQ</td>\n",
       "      <td>B00IQZZ9JI</td>\n",
       "      <td>[Yazilind Jewelry Elegant Bronze Alloy Cinnamo...</td>\n",
       "      <td>[https://images-na.ssl-images-amazon.com/image...</td>\n",
       "      <td>1.0</td>\n",
       "      <td>0.0</td>\n",
       "      <td>55.2</td>\n",
       "      <td>22.4</td>\n",
       "      <td>[The pictures you have on the site looks like ...</td>\n",
       "      <td>-1.0</td>\n",
       "      <td>0.0</td>\n",
       "      <td>0.0</td>\n",
       "      <td>0.666667</td>\n",
       "      <td>0.0</td>\n",
       "      <td>0.333333</td>\n",
       "    </tr>\n",
       "    <tr>\n",
       "      <th>1</th>\n",
       "      <td>5</td>\n",
       "      <td>True</td>\n",
       "      <td>AAQO19HKS86MQ</td>\n",
       "      <td>B00KA3UV0Q</td>\n",
       "      <td>[Qiyun (TM) Graffiti Art Deco Filigree Hollow ...</td>\n",
       "      <td>[https://images-na.ssl-images-amazon.com/image...</td>\n",
       "      <td>1.0</td>\n",
       "      <td>0.0</td>\n",
       "      <td>55.2</td>\n",
       "      <td>22.4</td>\n",
       "      <td>[Five Stars Is beautiful and I am very pleased...</td>\n",
       "      <td>1.0</td>\n",
       "      <td>0.0</td>\n",
       "      <td>0.0</td>\n",
       "      <td>0.666667</td>\n",
       "      <td>0.0</td>\n",
       "      <td>0.333333</td>\n",
       "    </tr>\n",
       "    <tr>\n",
       "      <th>2</th>\n",
       "      <td>3</td>\n",
       "      <td>True</td>\n",
       "      <td>AAQO19HKS86MQ</td>\n",
       "      <td>B00KW4L9XQ</td>\n",
       "      <td>[Chunky Twist Tribal Antique Gold Bib Statemen...</td>\n",
       "      <td>[https://images-na.ssl-images-amazon.com/image...</td>\n",
       "      <td>1.0</td>\n",
       "      <td>0.0</td>\n",
       "      <td>55.2</td>\n",
       "      <td>22.4</td>\n",
       "      <td>[Three Stars Not so good in person , but accep...</td>\n",
       "      <td>-1.0</td>\n",
       "      <td>0.0</td>\n",
       "      <td>0.0</td>\n",
       "      <td>0.666667</td>\n",
       "      <td>0.0</td>\n",
       "      <td>0.333333</td>\n",
       "    </tr>\n",
       "  </tbody>\n",
       "</table>\n",
       "</div>"
      ],
      "text/plain": [
       "   overall  verified     reviewerID        asin  \\\n",
       "0        3      True  AAQO19HKS86MQ  B00IQZZ9JI   \n",
       "1        5      True  AAQO19HKS86MQ  B00KA3UV0Q   \n",
       "2        3      True  AAQO19HKS86MQ  B00KW4L9XQ   \n",
       "\n",
       "                                               title  \\\n",
       "0  [Yazilind Jewelry Elegant Bronze Alloy Cinnamo...   \n",
       "1  [Qiyun (TM) Graffiti Art Deco Filigree Hollow ...   \n",
       "2  [Chunky Twist Tribal Antique Gold Bib Statemen...   \n",
       "\n",
       "                                            imageURL  top_selling  \\\n",
       "0  [https://images-na.ssl-images-amazon.com/image...          1.0   \n",
       "1  [https://images-na.ssl-images-amazon.com/image...          1.0   \n",
       "2  [https://images-na.ssl-images-amazon.com/image...          1.0   \n",
       "\n",
       "   upvote_per_review  mean_review_length  mean_summary_length  \\\n",
       "0                0.0                55.2                 22.4   \n",
       "1                0.0                55.2                 22.4   \n",
       "2                0.0                55.2                 22.4   \n",
       "\n",
       "                                      summary_review  rating   d1   d2  \\\n",
       "0  [The pictures you have on the site looks like ...    -1.0  0.0  0.0   \n",
       "1  [Five Stars Is beautiful and I am very pleased...     1.0  0.0  0.0   \n",
       "2  [Three Stars Not so good in person , but accep...    -1.0  0.0  0.0   \n",
       "\n",
       "         d3   d4        d5  \n",
       "0  0.666667  0.0  0.333333  \n",
       "1  0.666667  0.0  0.333333  \n",
       "2  0.666667  0.0  0.333333  "
      ]
     },
     "execution_count": 28,
     "metadata": {},
     "output_type": "execute_result"
    }
   ],
   "source": [
    "final_data.head(3)"
   ]
  },
  {
   "cell_type": "code",
   "execution_count": 29,
   "id": "97f1e025",
   "metadata": {},
   "outputs": [],
   "source": [
    "import matplotlib.pyplot as plt"
   ]
  },
  {
   "cell_type": "code",
   "execution_count": 30,
   "id": "3c6381f7",
   "metadata": {},
   "outputs": [
    {
     "data": {
      "text/html": [
       "<div>\n",
       "<style scoped>\n",
       "    .dataframe tbody tr th:only-of-type {\n",
       "        vertical-align: middle;\n",
       "    }\n",
       "\n",
       "    .dataframe tbody tr th {\n",
       "        vertical-align: top;\n",
       "    }\n",
       "\n",
       "    .dataframe thead th {\n",
       "        text-align: right;\n",
       "    }\n",
       "</style>\n",
       "<table border=\"1\" class=\"dataframe\">\n",
       "  <thead>\n",
       "    <tr style=\"text-align: right;\">\n",
       "      <th>rating</th>\n",
       "      <th>-1.0</th>\n",
       "      <th>1.0</th>\n",
       "    </tr>\n",
       "    <tr>\n",
       "      <th>top_selling</th>\n",
       "      <th></th>\n",
       "      <th></th>\n",
       "    </tr>\n",
       "  </thead>\n",
       "  <tbody>\n",
       "    <tr>\n",
       "      <th>-1.0</th>\n",
       "      <td>505</td>\n",
       "      <td>1320</td>\n",
       "    </tr>\n",
       "    <tr>\n",
       "      <th>1.0</th>\n",
       "      <td>2470</td>\n",
       "      <td>9147</td>\n",
       "    </tr>\n",
       "  </tbody>\n",
       "</table>\n",
       "</div>"
      ],
      "text/plain": [
       "rating       -1.0   1.0\n",
       "top_selling            \n",
       "-1.0          505  1320\n",
       " 1.0         2470  9147"
      ]
     },
     "execution_count": 30,
     "metadata": {},
     "output_type": "execute_result"
    }
   ],
   "source": [
    "dfp = final_data[[\"top_selling\", \"rating\"]].pivot_table(index='top_selling', \n",
    "                                                  columns=\"rating\", values=\"rating\", aggfunc='size')\n",
    "dfp"
   ]
  },
  {
   "cell_type": "code",
   "execution_count": 31,
   "id": "c2ade776",
   "metadata": {},
   "outputs": [
    {
     "data": {
      "text/plain": [
       "<AxesSubplot:xlabel='top_selling'>"
      ]
     },
     "execution_count": 31,
     "metadata": {},
     "output_type": "execute_result"
    },
    {
     "data": {
      "image/png": "[encoded data removed]",
      "text/plain": [
       "<Figure size 360x216 with 1 Axes>"
      ]
     },
     "metadata": {
      "needs_background": "light"
     },
     "output_type": "display_data"
    }
   ],
   "source": [
    "(dfp / dfp.sum(axis=0)).plot(kind='bar', figsize=(5, 3))"
   ]
  },
  {
   "cell_type": "code",
   "execution_count": 32,
   "id": "971b2961",
   "metadata": {},
   "outputs": [],
   "source": [
    "x_y_mat = final_data[[\"top_selling\", \"rating\"]].to_numpy()"
   ]
  },
  {
   "cell_type": "code",
   "execution_count": 33,
   "id": "1dfd6f73",
   "metadata": {},
   "outputs": [],
   "source": [
    "continuous_feature_name_list = [\"upvote_per_review\", \"mean_review_length\", \"mean_summary_length\", \"d1\",\n",
    "                               \"d2\", \"d3\", \"d4\", \"d5\"]\n",
    "continuous_feature_mat = final_data[continuous_feature_name_list].to_numpy()\n",
    "categorical_feature_mat = final_data[\"verified\"].astype(int).to_numpy()"
   ]
  },
  {
   "cell_type": "markdown",
   "id": "108a49bb",
   "metadata": {},
   "source": [
    "## Create TF Dataset"
   ]
  },
  {
   "cell_type": "markdown",
   "id": "faa70499",
   "metadata": {},
   "source": [
    "## Train Test Split"
   ]
  },
  {
   "cell_type": "code",
   "execution_count": 34,
   "id": "895f49a4",
   "metadata": {},
   "outputs": [],
   "source": [
    "from sklearn.model_selection import train_test_split\n",
    "indices_array = np.arange(final_data.shape[0])\n",
    "train_indices_array, test_indices_array = train_test_split(indices_array, \n",
    "                                                           stratify=final_data[[\"top_selling\", \"rating\"]],\n",
    "                                                           test_size=0.1, \n",
    "                                                           random_state=0)"
   ]
  },
  {
   "cell_type": "code",
   "execution_count": 35,
   "id": "6013f94b",
   "metadata": {},
   "outputs": [],
   "source": [
    "train_indices_array, val_indices_array = train_test_split(\n",
    "    train_indices_array, stratify=final_data.loc[train_indices_array, [\"top_selling\", \"rating\"]],\n",
    "    test_size=0.1, random_state=0\n",
    ")"
   ]
  },
  {
   "cell_type": "code",
   "execution_count": 36,
   "id": "8319374d",
   "metadata": {},
   "outputs": [],
   "source": [
    "from sklearn.preprocessing import StandardScaler\n",
    "scaler = StandardScaler()\n",
    "train_continuous_feature_mat = scaler.fit_transform(continuous_feature_mat[train_indices_array, :])\n",
    "val_continuous_feature_mat = scaler.transform(continuous_feature_mat[val_indices_array, :])\n",
    "test_continuous_feature_mat = scaler.transform(continuous_feature_mat[test_indices_array, :])\n",
    "\n",
    "train_feature_mat = np.concatenate([train_continuous_feature_mat, \n",
    "                                    categorical_feature_mat[train_indices_array].reshape(-1, 1)], \n",
    "                                   axis=1)\n",
    "val_feature_mat = np.concatenate([val_continuous_feature_mat, \n",
    "                                  categorical_feature_mat[val_indices_array].reshape(-1, 1)], \n",
    "                                 axis=1)\n",
    "test_feature_mat = np.concatenate([test_continuous_feature_mat, \n",
    "                                  categorical_feature_mat[test_indices_array].reshape(-1, 1)], \n",
    "                                 axis=1)\n",
    "\n",
    "del train_continuous_feature_mat, val_continuous_feature_mat, test_continuous_feature_mat"
   ]
  },
  {
   "cell_type": "code",
   "execution_count": 37,
   "id": "d45413ba",
   "metadata": {},
   "outputs": [],
   "source": [
    "import tensorflow_hub as hub\n",
    "import tensorflow as tf\n",
    "import tensorflow_text as text"
   ]
  },
  {
   "cell_type": "code",
   "execution_count": 38,
   "id": "5f6dd434",
   "metadata": {},
   "outputs": [
    {
     "name": "stderr",
     "output_type": "stream",
     "text": [
      "2022-05-29 22:36:36.529775: I tensorflow/core/platform/cpu_feature_guard.cc:193] This TensorFlow binary is optimized with oneAPI Deep Neural Network Library (oneDNN) to use the following CPU instructions in performance-critical operations:  AVX2 FMA\n",
      "To enable them in other operations, rebuild TensorFlow with the appropriate compiler flags.\n"
     ]
    }
   ],
   "source": [
    "train_dataset = tf.data.Dataset.from_tensor_slices(\n",
    "    ({\"title\": final_data[\"title\"][train_indices_array].to_list(), \"numeric_feature\": train_feature_mat},\n",
    "    x_y_mat[train_indices_array, :])\n",
    ")\n",
    "val_dataset = tf.data.Dataset.from_tensor_slices(\n",
    "    ({\"title\": final_data[\"title\"][val_indices_array].to_list(), \"numeric_feature\": val_feature_mat},\n",
    "    x_y_mat[val_indices_array, :])\n",
    ")\n",
    "test_dataset = tf.data.Dataset.from_tensor_slices(\n",
    "    ({\"title\": final_data[\"title\"][test_indices_array].to_list(), \"numeric_feature\": test_feature_mat},\n",
    "    x_y_mat[test_indices_array, :])\n",
    ")"
   ]
  },
  {
   "cell_type": "markdown",
   "id": "52c7b782",
   "metadata": {},
   "source": [
    "# Model"
   ]
  },
  {
   "cell_type": "code",
   "execution_count": 39,
   "id": "c0add60b",
   "metadata": {},
   "outputs": [],
   "source": [
    "text_input = tf.keras.layers.Input(shape=(), dtype=tf.string)\n",
    "preprocessor = hub.KerasLayer(\n",
    "    \"https://tfhub.dev/tensorflow/bert_en_uncased_preprocess/3\")\n",
    "encoder_inputs = preprocessor(text_input)\n",
    "\n",
    "encoder = hub.KerasLayer(\n",
    "    \"https://tfhub.dev/tensorflow/small_bert/bert_en_uncased_L-2_H-128_A-2/2\",\n",
    "    trainable=False)\n",
    "outputs = encoder(encoder_inputs)\n",
    "pooled_output = outputs[\"pooled_output\"] \n",
    "# sequence_output = outputs[\"sequence_output\"]\n",
    "\n",
    "pooled_output = tf.keras.layers.Dense(units=128, activation=\"elu\")(pooled_output)\n",
    "embedding_model = tf.keras.Model(text_input, pooled_output)"
   ]
  },
  {
   "cell_type": "code",
   "execution_count": 40,
   "id": "5ed41572",
   "metadata": {},
   "outputs": [],
   "source": [
    "import adult_data_functions as af\n",
    "\n",
    "class ModelNetwork(tf.keras.Model):\n",
    "    # This is the class network we fit on the data.\n",
    "    def __init__(self, n_layers, hidden_dim, l_dim, output_dim, title_model, l2=0):\n",
    "        super(ModelNetwork, self).__init__()\n",
    "\n",
    "        self.hidden_layer = af._create_connnected_block(n_layers=n_layers, hidden_dim=hidden_dim,\n",
    "                                                     output_dim=l_dim,\n",
    "                                                     l2=l2)\n",
    "        self.title_model = title_model\n",
    "\n",
    "        self.final_linear = tf.keras.layers.Dense(\n",
    "            units=output_dim,\n",
    "            activation=None,\n",
    "            kernel_regularizer=tf.keras.regularizers.L2(l2)\n",
    "        )\n",
    "\n",
    "    def call(self, inputs):\n",
    "        embeded_title = self.title_model(inputs[\"title\"])\n",
    "        combined_feature = tf.concat([embeded_title, ], axis=1)\n",
    "        output = combined_feature\n",
    "        if self.hidden_layer is not None:\n",
    "            for layer in self.hidden_layer:\n",
    "                output = layer(output)\n",
    "        output = self.final_linear(output)\n",
    "\n",
    "        return output"
   ]
  },
  {
   "cell_type": "markdown",
   "id": "d03c4ee7",
   "metadata": {},
   "source": [
    "# Training"
   ]
  },
  {
   "cell_type": "code",
   "execution_count": 41,
   "id": "262e2772",
   "metadata": {},
   "outputs": [],
   "source": [
    "from sklearn.metrics import f1_score, accuracy_score\n",
    "\n",
    "class Metric(tf.keras.metrics.Metric):\n",
    "    def __init__(self, name, response_name, **kwargs):\n",
    "        self.response_name = response_name\n",
    "        super().__init__(name=f\"{name}_{response_name}\", **kwargs)\n",
    "        self.score = self.add_weight(name=f\"{name}_{response_name}\", initializer=\"zeros\")\n",
    "        if name == \"f1\":\n",
    "            self.metric = f1_score\n",
    "        else:\n",
    "            self.metric = accuracy_score\n",
    "\n",
    "    def update_state(self, y_true, y_pred, sample_weight=None):\n",
    "        \"\"\"\n",
    "\n",
    "        :param y_true: An array. Storing the x_y_mat.\n",
    "        :param y_pred: A tensor. J parameters of the Ising Model\n",
    "        :param sample_weight:\n",
    "        :return:\n",
    "        \"\"\"\n",
    "        x_y_pred_array = af.ising_predict(parameter_mat=y_pred, prob_boolean=False)\n",
    "\n",
    "        # we made class we want to calculate based on to have label 1.\n",
    "        if self.response_name == \"top_selling\":\n",
    "            class_score = self.metric(y_true=-y_true[:, 0], y_pred=-x_y_pred_array[:, 0], sample_weight=sample_weight)\n",
    "        else:\n",
    "            class_score = self.metric(y_true=-y_true[:, 1], y_pred=-x_y_pred_array[:, 1], sample_weight=sample_weight)\n",
    "        self.score.assign(class_score)\n",
    "\n",
    "    def result(self):\n",
    "        return self.score\n",
    "\n",
    "    def reset_state(self):\n",
    "        # The state of the metric will be reset at the start of each epoch.\n",
    "        self.score.assign(0.0)\n",
    "\n",
    "f1_sex_metric = Metric(name=\"f1\", response_name=\"top_selling\")\n",
    "f1_income_metric = Metric(name=\"f1\", response_name=\"rating\")\n",
    "accuracy_sex_metric = Metric(name=\"accuracy\", response_name=\"top_selling\")\n",
    "accuracy_income_metric = Metric(name=\"accuracy\", response_name=\"rating\")"
   ]
  },
  {
   "cell_type": "code",
   "execution_count": 42,
   "id": "76e94647",
   "metadata": {},
   "outputs": [],
   "source": [
    "l2 = 0\n",
    "epochs=10\n",
    "model = ModelNetwork(n_layers=0, hidden_dim=140, l_dim=140, output_dim=2, l2=l2, title_model=embedding_model)\n",
    "\n",
    "# learning_rate = tf.keras.optimizers.schedules.PiecewiseConstantDecay(boundaries=[10, 15], \n",
    "#                                                                      values=[0.1, 0.01, 0.001])\n",
    "learning_rate = 0.01\n",
    "model.compile(optimizer=tf.keras.optimizers.Adam(learning_rate=learning_rate),\n",
    "              loss=af.ising_likelihood, \n",
    "              metrics=[f1_sex_metric, f1_income_metric, accuracy_sex_metric, accuracy_income_metric],\n",
    "             run_eagerly=True)\n",
    "\n",
    "buffer_size = 50000\n",
    "batch_size = 200\n",
    "train_dataset = train_dataset.shuffle(buffer_size).batch(batch_size)"
   ]
  },
  {
   "cell_type": "code",
   "execution_count": 43,
   "id": "14f395db",
   "metadata": {},
   "outputs": [
    {
     "name": "stdout",
     "output_type": "stream",
     "text": [
      "Epoch 1/10\n",
      "55/55 [==============================] - ETA: 0s - loss: 1.3149 - f1_top_selling: 0.0000e+00 - f1_rating: 0.0000e+00 - accuracy_top_selling: 0.8851 - accuracy_rating: 0.6897"
     ]
    },
    {
     "ename": "ValueError",
     "evalue": "in user code:\n\n    File \"/Users/xw/Documents/PycharmProjects/Conditional_Independence_Test/adult_data_functions.py\", line 262, in ising_likelihood  *\n        return gt.log_ising_likelihood(x_y_mat=y_true, parameter_mat=y_pred, reduce_boolean=True) / y_true.shape[0]\n    File \"/Users/xw/Documents/PycharmProjects/Conditional_Independence_Test/generate_train_functions.py\", line 97, in log_ising_likelihood  *\n        x_times_y = x_y_mat[:, 0] * x_y_mat[:, 1]\n\n    ValueError: slice index 1 of dimension 1 out of bounds. for '{{node strided_slice_2}} = StridedSlice[Index=DT_INT32, T=DT_FLOAT, begin_mask=1, ellipsis_mask=0, end_mask=1, new_axis_mask=0, shrink_axis_mask=2](y_true, strided_slice_2/stack, strided_slice_2/stack_1, strided_slice_2/stack_2)' with input shapes: [2,1], [2], [2], [2] and with computed input tensors: input[1] = <0 1>, input[2] = <0 2>, input[3] = <1 1>.\n",
     "output_type": "error",
     "traceback": [
      "\u001b[0;31m---------------------------------------------------------------------------\u001b[0m",
      "\u001b[0;31mValueError\u001b[0m                                Traceback (most recent call last)",
      "Input \u001b[0;32mIn [43]\u001b[0m, in \u001b[0;36m<cell line: 1>\u001b[0;34m()\u001b[0m\n\u001b[0;32m----> 1\u001b[0m history \u001b[38;5;241m=\u001b[39m \u001b[43mmodel\u001b[49m\u001b[38;5;241;43m.\u001b[39;49m\u001b[43mfit\u001b[49m\u001b[43m(\u001b[49m\u001b[43mtrain_dataset\u001b[49m\u001b[43m,\u001b[49m\u001b[43m \u001b[49m\u001b[43mepochs\u001b[49m\u001b[38;5;241;43m=\u001b[39;49m\u001b[43mepochs\u001b[49m\u001b[43m,\u001b[49m\u001b[43m \u001b[49m\u001b[43mvalidation_data\u001b[49m\u001b[38;5;241;43m=\u001b[39;49m\u001b[43mval_dataset\u001b[49m\u001b[43m)\u001b[49m\n",
      "File \u001b[0;32m~/opt/anaconda3/envs/data_analysis/lib/python3.10/site-packages/keras/utils/traceback_utils.py:67\u001b[0m, in \u001b[0;36mfilter_traceback.<locals>.error_handler\u001b[0;34m(*args, **kwargs)\u001b[0m\n\u001b[1;32m     65\u001b[0m \u001b[38;5;28;01mexcept\u001b[39;00m \u001b[38;5;167;01mException\u001b[39;00m \u001b[38;5;28;01mas\u001b[39;00m e:  \u001b[38;5;66;03m# pylint: disable=broad-except\u001b[39;00m\n\u001b[1;32m     66\u001b[0m   filtered_tb \u001b[38;5;241m=\u001b[39m _process_traceback_frames(e\u001b[38;5;241m.\u001b[39m__traceback__)\n\u001b[0;32m---> 67\u001b[0m   \u001b[38;5;28;01mraise\u001b[39;00m e\u001b[38;5;241m.\u001b[39mwith_traceback(filtered_tb) \u001b[38;5;28;01mfrom\u001b[39;00m \u001b[38;5;28mNone\u001b[39m\n\u001b[1;32m     68\u001b[0m \u001b[38;5;28;01mfinally\u001b[39;00m:\n\u001b[1;32m     69\u001b[0m   \u001b[38;5;28;01mdel\u001b[39;00m filtered_tb\n",
      "File \u001b[0;32m/var/folders/6v/1xjj1_bx0txdn487tl1x5j_w0000gn/T/__autograph_generated_filehq6jukeu.py:12\u001b[0m, in \u001b[0;36mouter_factory.<locals>.inner_factory.<locals>.tf__ising_likelihood\u001b[0;34m(y_true, y_pred)\u001b[0m\n\u001b[1;32m     10\u001b[0m \u001b[38;5;28;01mtry\u001b[39;00m:\n\u001b[1;32m     11\u001b[0m     do_return \u001b[38;5;241m=\u001b[39m \u001b[38;5;28;01mTrue\u001b[39;00m\n\u001b[0;32m---> 12\u001b[0m     retval_ \u001b[38;5;241m=\u001b[39m ag__\u001b[38;5;241m.\u001b[39mconverted_call(ag__\u001b[38;5;241m.\u001b[39mld(gt)\u001b[38;5;241m.\u001b[39mlog_ising_likelihood, (), \u001b[38;5;28mdict\u001b[39m(x_y_mat\u001b[38;5;241m=\u001b[39mag__\u001b[38;5;241m.\u001b[39mld(y_true), parameter_mat\u001b[38;5;241m=\u001b[39mag__\u001b[38;5;241m.\u001b[39mld(y_pred), reduce_boolean\u001b[38;5;241m=\u001b[39m\u001b[38;5;28;01mTrue\u001b[39;00m), fscope) \u001b[38;5;241m/\u001b[39m ag__\u001b[38;5;241m.\u001b[39mld(y_true)\u001b[38;5;241m.\u001b[39mshape[\u001b[38;5;241m0\u001b[39m]\n\u001b[1;32m     13\u001b[0m \u001b[38;5;28;01mexcept\u001b[39;00m:\n\u001b[1;32m     14\u001b[0m     do_return \u001b[38;5;241m=\u001b[39m \u001b[38;5;28;01mFalse\u001b[39;00m\n",
      "File \u001b[0;32m/var/folders/6v/1xjj1_bx0txdn487tl1x5j_w0000gn/T/__autograph_generated_filexdicxl5f.py:42\u001b[0m, in \u001b[0;36mouter_factory.<locals>.inner_factory.<locals>.tf__log_ising_likelihood\u001b[0;34m(x_y_mat, parameter_mat, reduce_boolean)\u001b[0m\n\u001b[1;32m     40\u001b[0m zero_tensor \u001b[38;5;241m=\u001b[39m ag__\u001b[38;5;241m.\u001b[39mUndefined(\u001b[38;5;124m'\u001b[39m\u001b[38;5;124mzero_tensor\u001b[39m\u001b[38;5;124m'\u001b[39m)\n\u001b[1;32m     41\u001b[0m ag__\u001b[38;5;241m.\u001b[39mif_stmt(ag__\u001b[38;5;241m.\u001b[39mld(parameter_mat)\u001b[38;5;241m.\u001b[39mshape[\u001b[38;5;241m1\u001b[39m] \u001b[38;5;241m==\u001b[39m \u001b[38;5;241m2\u001b[39m, if_body, else_body, get_state, set_state, (\u001b[38;5;124m'\u001b[39m\u001b[38;5;124mparameter_mat\u001b[39m\u001b[38;5;124m'\u001b[39m,), \u001b[38;5;241m1\u001b[39m)\n\u001b[0;32m---> 42\u001b[0m x_times_y \u001b[38;5;241m=\u001b[39m ag__\u001b[38;5;241m.\u001b[39mld(x_y_mat)[:, \u001b[38;5;241m0\u001b[39m] \u001b[38;5;241m*\u001b[39m \u001b[43mag__\u001b[49m\u001b[38;5;241;43m.\u001b[39;49m\u001b[43mld\u001b[49m\u001b[43m(\u001b[49m\u001b[43mx_y_mat\u001b[49m\u001b[43m)\u001b[49m\u001b[43m[\u001b[49m\u001b[43m:\u001b[49m\u001b[43m,\u001b[49m\u001b[43m \u001b[49m\u001b[38;5;241;43m1\u001b[39;49m\u001b[43m]\u001b[49m\n\u001b[1;32m     43\u001b[0m x_times_y \u001b[38;5;241m=\u001b[39m ag__\u001b[38;5;241m.\u001b[39mconverted_call(ag__\u001b[38;5;241m.\u001b[39mld(tf)\u001b[38;5;241m.\u001b[39mreshape, (ag__\u001b[38;5;241m.\u001b[39mld(x_times_y), (\u001b[38;5;241m-\u001b[39m\u001b[38;5;241m1\u001b[39m, \u001b[38;5;241m1\u001b[39m)), \u001b[38;5;28;01mNone\u001b[39;00m, fscope)\n\u001b[1;32m     44\u001b[0m x_y_xy_mat \u001b[38;5;241m=\u001b[39m ag__\u001b[38;5;241m.\u001b[39mconverted_call(ag__\u001b[38;5;241m.\u001b[39mld(tf)\u001b[38;5;241m.\u001b[39mconcat, (), \u001b[38;5;28mdict\u001b[39m(values\u001b[38;5;241m=\u001b[39m[ag__\u001b[38;5;241m.\u001b[39mld(x_y_mat), ag__\u001b[38;5;241m.\u001b[39mld(x_times_y)], axis\u001b[38;5;241m=\u001b[39m\u001b[38;5;241m1\u001b[39m), fscope)\n",
      "\u001b[0;31mValueError\u001b[0m: in user code:\n\n    File \"/Users/xw/Documents/PycharmProjects/Conditional_Independence_Test/adult_data_functions.py\", line 262, in ising_likelihood  *\n        return gt.log_ising_likelihood(x_y_mat=y_true, parameter_mat=y_pred, reduce_boolean=True) / y_true.shape[0]\n    File \"/Users/xw/Documents/PycharmProjects/Conditional_Independence_Test/generate_train_functions.py\", line 97, in log_ising_likelihood  *\n        x_times_y = x_y_mat[:, 0] * x_y_mat[:, 1]\n\n    ValueError: slice index 1 of dimension 1 out of bounds. for '{{node strided_slice_2}} = StridedSlice[Index=DT_INT32, T=DT_FLOAT, begin_mask=1, ellipsis_mask=0, end_mask=1, new_axis_mask=0, shrink_axis_mask=2](y_true, strided_slice_2/stack, strided_slice_2/stack_1, strided_slice_2/stack_2)' with input shapes: [2,1], [2], [2], [2] and with computed input tensors: input[1] = <0 1>, input[2] = <0 2>, input[3] = <1 1>.\n"
     ]
    }
   ],
   "source": [
    "history = model.fit(train_dataset, epochs=epochs, validation_data=val_dataset)"
   ]
  }
 ],
 "metadata": {
  "kernelspec": {
   "display_name": "Python 3 (ipykernel)",
   "language": "python",
   "name": "python3"
  },
  "language_info": {
   "codemirror_mode": {
    "name": "ipython",
    "version": 3
   },
   "file_extension": ".py",
   "mimetype": "text/x-python",
   "name": "python",
   "nbconvert_exporter": "python",
   "pygments_lexer": "ipython3",
   "version": "3.10.0"
  }
 },
 "nbformat": 4,
 "nbformat_minor": 5
}
