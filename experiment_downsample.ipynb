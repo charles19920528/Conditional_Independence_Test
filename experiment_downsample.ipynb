{
 "cells": [
  {
   "cell_type": "code",
   "execution_count": 1,
   "id": "0905b4a6",
   "metadata": {},
   "outputs": [],
   "source": [
    "import pandas as pd\n",
    "import numpy as np\n",
    "import adult_data_functions as af\n",
    "from sklearn import preprocessing\n",
    "from sklearn.utils import resample\n",
    "import matplotlib.pyplot as plt"
   ]
  },
  {
   "cell_type": "code",
   "execution_count": 2,
   "id": "6c024ce2",
   "metadata": {},
   "outputs": [],
   "source": [
    "categorical_feature_encoder = preprocessing.OneHotEncoder()\n",
    "sex_encoder = preprocessing.LabelEncoder() \n",
    "race_encoder = preprocessing.LabelEncoder()\n",
    "income_encoder = preprocessing.LabelEncoder()"
   ]
  },
  {
   "cell_type": "code",
   "execution_count": 3,
   "id": "841cb10f",
   "metadata": {},
   "outputs": [],
   "source": [
    "np.random.seed(0)\n",
    "train_data_dict, excessive_data_dict = \\\n",
    "    af.preprocess(adult_dt_path=\"data/adult.data\", \n",
    "                  categorical_feature_encoder=categorical_feature_encoder, \n",
    "                  sex_encoder=sex_encoder, race_encoder=race_encoder, \n",
    "                  income_encoder=income_encoder, encoder_fit_boolean=True,\n",
    "                 drop_prop_male_poor=0.7)"
   ]
  },
  {
   "cell_type": "code",
   "execution_count": 4,
   "id": "1912b09e",
   "metadata": {},
   "outputs": [
    {
     "data": {
      "text/plain": [
       "1    0.509785\n",
       "0    0.490215\n",
       "dtype: float64"
      ]
     },
     "execution_count": 4,
     "metadata": {},
     "output_type": "execute_result"
    }
   ],
   "source": [
    "pd.Series(train_data_dict[\"sex\"]).value_counts(normalize=True)"
   ]
  },
  {
   "cell_type": "code",
   "execution_count": 5,
   "id": "d1d799ba",
   "metadata": {},
   "outputs": [
    {
     "data": {
      "text/plain": [
       "0    0.643137\n",
       "1    0.356863\n",
       "dtype: float64"
      ]
     },
     "execution_count": 5,
     "metadata": {},
     "output_type": "execute_result"
    }
   ],
   "source": [
    "pd.Series(train_data_dict[\"income-label\"]).value_counts(normalize=True)"
   ]
  },
  {
   "cell_type": "code",
   "execution_count": 6,
   "id": "52952fbe",
   "metadata": {},
   "outputs": [
    {
     "data": {
      "text/plain": [
       "21972"
      ]
     },
     "execution_count": 6,
     "metadata": {},
     "output_type": "execute_result"
    }
   ],
   "source": [
    "len(train_data_dict[\"sex\"])"
   ]
  },
  {
   "cell_type": "code",
   "execution_count": 7,
   "id": "e1d72f02",
   "metadata": {},
   "outputs": [
    {
     "data": {
      "text/plain": [
       "10589"
      ]
     },
     "execution_count": 7,
     "metadata": {},
     "output_type": "execute_result"
    }
   ],
   "source": [
    "len(excessive_data_dict[\"sex\"])"
   ]
  },
  {
   "cell_type": "code",
   "execution_count": 8,
   "id": "8f146238",
   "metadata": {},
   "outputs": [],
   "source": [
    "test_data_dict = af.preprocess(adult_dt_path=\"data/adult.test\", categorical_feature_encoder=categorical_feature_encoder, \n",
    "                             sex_encoder=sex_encoder, race_encoder=race_encoder, income_encoder=income_encoder, \n",
    "                             encoder_fit_boolean=False)"
   ]
  },
  {
   "cell_type": "markdown",
   "id": "7c1115c5",
   "metadata": {},
   "source": [
    "# Fit Logsitic Model\n",
    "## Income"
   ]
  },
  {
   "cell_type": "code",
   "execution_count": 9,
   "id": "dcf666a4",
   "metadata": {},
   "outputs": [],
   "source": [
    "from sklearn.linear_model import LogisticRegression\n",
    "from sklearn.metrics import precision_score, f1_score, recall_score, make_scorer"
   ]
  },
  {
   "cell_type": "code",
   "execution_count": 10,
   "id": "d3706907",
   "metadata": {},
   "outputs": [],
   "source": [
    "logistic_x_train_mat = np.hstack([train_data_dict[\"categorical-features\"].toarray(), \n",
    "                            train_data_dict[\"continuous-features\"].to_numpy()])\n",
    "logistic_x_exc_mat = np.hstack([excessive_data_dict[\"categorical-features\"].toarray(), \n",
    "                            excessive_data_dict[\"continuous-features\"].to_numpy()])\n",
    "logistic_x_test_mat = np.hstack([test_data_dict[\"categorical-features\"].toarray(), \n",
    "                                  test_data_dict[\"continuous-features\"].to_numpy()])"
   ]
  },
  {
   "cell_type": "code",
   "execution_count": 11,
   "id": "17cbbf58",
   "metadata": {},
   "outputs": [
    {
     "data": {
      "text/plain": [
       "LogisticRegression(random_state=0)"
      ]
     },
     "execution_count": 11,
     "metadata": {},
     "output_type": "execute_result"
    }
   ],
   "source": [
    "naive_logistic_model = LogisticRegression(random_state=0)\n",
    "naive_logistic_model.fit(X=logistic_x_train_mat, y=train_data_dict[\"income-label\"])"
   ]
  },
  {
   "cell_type": "code",
   "execution_count": 12,
   "id": "0124c7be",
   "metadata": {},
   "outputs": [
    {
     "data": {
      "text/plain": [
       "0    0.856226\n",
       "1    0.143774\n",
       "dtype: float64"
      ]
     },
     "execution_count": 12,
     "metadata": {},
     "output_type": "execute_result"
    }
   ],
   "source": [
    "pd.Series(naive_logistic_model.predict(logistic_x_train_mat)).value_counts(normalize=True)"
   ]
  },
  {
   "cell_type": "code",
   "execution_count": 13,
   "id": "41ab7904",
   "metadata": {},
   "outputs": [
    {
     "data": {
      "text/html": [
       "<div>\n",
       "<style scoped>\n",
       "    .dataframe tbody tr th:only-of-type {\n",
       "        vertical-align: middle;\n",
       "    }\n",
       "\n",
       "    .dataframe tbody tr th {\n",
       "        vertical-align: top;\n",
       "    }\n",
       "\n",
       "    .dataframe thead th {\n",
       "        text-align: right;\n",
       "    }\n",
       "</style>\n",
       "<table border=\"1\" class=\"dataframe\">\n",
       "  <thead>\n",
       "    <tr style=\"text-align: right;\">\n",
       "      <th></th>\n",
       "      <th>accuracy</th>\n",
       "      <th>precision</th>\n",
       "      <th>recall</th>\n",
       "      <th>f1</th>\n",
       "    </tr>\n",
       "  </thead>\n",
       "  <tbody>\n",
       "    <tr>\n",
       "      <th>0</th>\n",
       "      <td>0.716639</td>\n",
       "      <td>0.755619</td>\n",
       "      <td>0.304425</td>\n",
       "      <td>0.434</td>\n",
       "    </tr>\n",
       "  </tbody>\n",
       "</table>\n",
       "</div>"
      ],
      "text/plain": [
       "   accuracy  precision    recall     f1\n",
       "0  0.716639   0.755619  0.304425  0.434"
      ]
     },
     "execution_count": 13,
     "metadata": {},
     "output_type": "execute_result"
    }
   ],
   "source": [
    "# On Traning set\n",
    "af.score_summary(y_pred=naive_logistic_model.predict(logistic_x_train_mat),\n",
    "                 y_true=train_data_dict[\"income-label\"], pos_label=1)"
   ]
  },
  {
   "cell_type": "code",
   "execution_count": 14,
   "id": "5cebfd67",
   "metadata": {},
   "outputs": [
    {
     "data": {
      "text/html": [
       "<div>\n",
       "<style scoped>\n",
       "    .dataframe tbody tr th:only-of-type {\n",
       "        vertical-align: middle;\n",
       "    }\n",
       "\n",
       "    .dataframe tbody tr th {\n",
       "        vertical-align: top;\n",
       "    }\n",
       "\n",
       "    .dataframe thead th {\n",
       "        text-align: right;\n",
       "    }\n",
       "</style>\n",
       "<table border=\"1\" class=\"dataframe\">\n",
       "  <thead>\n",
       "    <tr style=\"text-align: right;\">\n",
       "      <th></th>\n",
       "      <th>accuracy</th>\n",
       "      <th>precision</th>\n",
       "      <th>recall</th>\n",
       "      <th>f1</th>\n",
       "    </tr>\n",
       "  </thead>\n",
       "  <tbody>\n",
       "    <tr>\n",
       "      <th>0</th>\n",
       "      <td>0.937577</td>\n",
       "      <td>1.0</td>\n",
       "      <td>0.937577</td>\n",
       "      <td>0.967783</td>\n",
       "    </tr>\n",
       "  </tbody>\n",
       "</table>\n",
       "</div>"
      ],
      "text/plain": [
       "   accuracy  precision    recall        f1\n",
       "0  0.937577        1.0  0.937577  0.967783"
      ]
     },
     "execution_count": 14,
     "metadata": {},
     "output_type": "execute_result"
    }
   ],
   "source": [
    "# On the excessive data set.\n",
    "af.score_summary(y_pred=naive_logistic_model.predict(logistic_x_exc_mat),\n",
    "                 y_true=excessive_data_dict[\"income-label\"], pos_label=0)"
   ]
  },
  {
   "cell_type": "code",
   "execution_count": 15,
   "id": "a69d3cd3",
   "metadata": {},
   "outputs": [
    {
     "data": {
      "text/html": [
       "<div>\n",
       "<style scoped>\n",
       "    .dataframe tbody tr th:only-of-type {\n",
       "        vertical-align: middle;\n",
       "    }\n",
       "\n",
       "    .dataframe tbody tr th {\n",
       "        vertical-align: top;\n",
       "    }\n",
       "\n",
       "    .dataframe thead th {\n",
       "        text-align: right;\n",
       "    }\n",
       "</style>\n",
       "<table border=\"1\" class=\"dataframe\">\n",
       "  <thead>\n",
       "    <tr style=\"text-align: right;\">\n",
       "      <th></th>\n",
       "      <th>accuracy</th>\n",
       "      <th>precision</th>\n",
       "      <th>recall</th>\n",
       "      <th>f1</th>\n",
       "    </tr>\n",
       "  </thead>\n",
       "  <tbody>\n",
       "    <tr>\n",
       "      <th>0</th>\n",
       "      <td>0.790001</td>\n",
       "      <td>0.613263</td>\n",
       "      <td>0.300572</td>\n",
       "      <td>0.40342</td>\n",
       "    </tr>\n",
       "  </tbody>\n",
       "</table>\n",
       "</div>"
      ],
      "text/plain": [
       "   accuracy  precision    recall       f1\n",
       "0  0.790001   0.613263  0.300572  0.40342"
      ]
     },
     "execution_count": 15,
     "metadata": {},
     "output_type": "execute_result"
    }
   ],
   "source": [
    "# On Test Set\n",
    "af.score_summary(y_pred=naive_logistic_model.predict(logistic_x_test_mat),\n",
    "                 y_true=test_data_dict[\"income-label\"], pos_label=1)"
   ]
  },
  {
   "cell_type": "code",
   "execution_count": 16,
   "id": "bac28482",
   "metadata": {},
   "outputs": [
    {
     "data": {
      "text/html": [
       "<div>\n",
       "<style scoped>\n",
       "    .dataframe tbody tr th:only-of-type {\n",
       "        vertical-align: middle;\n",
       "    }\n",
       "\n",
       "    .dataframe tbody tr th {\n",
       "        vertical-align: top;\n",
       "    }\n",
       "\n",
       "    .dataframe thead th {\n",
       "        text-align: right;\n",
       "    }\n",
       "</style>\n",
       "<table border=\"1\" class=\"dataframe\">\n",
       "  <thead>\n",
       "    <tr style=\"text-align: right;\">\n",
       "      <th></th>\n",
       "      <th>accuracy</th>\n",
       "      <th>precision</th>\n",
       "      <th>recall</th>\n",
       "      <th>f1</th>\n",
       "    </tr>\n",
       "  </thead>\n",
       "  <tbody>\n",
       "    <tr>\n",
       "      <th>0</th>\n",
       "      <td>0.790001</td>\n",
       "      <td>0.813143</td>\n",
       "      <td>0.941375</td>\n",
       "      <td>0.872573</td>\n",
       "    </tr>\n",
       "  </tbody>\n",
       "</table>\n",
       "</div>"
      ],
      "text/plain": [
       "   accuracy  precision    recall        f1\n",
       "0  0.790001   0.813143  0.941375  0.872573"
      ]
     },
     "execution_count": 16,
     "metadata": {},
     "output_type": "execute_result"
    }
   ],
   "source": [
    "af.score_summary(y_pred=naive_logistic_model.predict(logistic_x_test_mat),\n",
    "                 y_true=test_data_dict[\"income-label\"], pos_label=0)"
   ]
  },
  {
   "cell_type": "markdown",
   "id": "96cddeb0",
   "metadata": {},
   "source": [
    "## Sex"
   ]
  },
  {
   "cell_type": "code",
   "execution_count": 17,
   "id": "945efe13",
   "metadata": {},
   "outputs": [
    {
     "data": {
      "text/plain": [
       "LogisticRegression(random_state=0)"
      ]
     },
     "execution_count": 17,
     "metadata": {},
     "output_type": "execute_result"
    }
   ],
   "source": [
    "naive_logistic_model = LogisticRegression(random_state=0)\n",
    "naive_logistic_model.fit(X=logistic_x_train_mat, y=train_data_dict[\"sex\"])"
   ]
  },
  {
   "cell_type": "code",
   "execution_count": 18,
   "id": "7c1a2e74",
   "metadata": {},
   "outputs": [
    {
     "data": {
      "text/plain": [
       "1    0.67677\n",
       "0    0.32323\n",
       "dtype: float64"
      ]
     },
     "execution_count": 18,
     "metadata": {},
     "output_type": "execute_result"
    }
   ],
   "source": [
    "pd.Series(naive_logistic_model.predict(logistic_x_train_mat)).value_counts(normalize=True)"
   ]
  },
  {
   "cell_type": "code",
   "execution_count": 19,
   "id": "2aeb623d",
   "metadata": {},
   "outputs": [
    {
     "data": {
      "text/html": [
       "<div>\n",
       "<style scoped>\n",
       "    .dataframe tbody tr th:only-of-type {\n",
       "        vertical-align: middle;\n",
       "    }\n",
       "\n",
       "    .dataframe tbody tr th {\n",
       "        vertical-align: top;\n",
       "    }\n",
       "\n",
       "    .dataframe thead th {\n",
       "        text-align: right;\n",
       "    }\n",
       "</style>\n",
       "<table border=\"1\" class=\"dataframe\">\n",
       "  <thead>\n",
       "    <tr style=\"text-align: right;\">\n",
       "      <th></th>\n",
       "      <th>accuracy</th>\n",
       "      <th>precision</th>\n",
       "      <th>recall</th>\n",
       "      <th>f1</th>\n",
       "    </tr>\n",
       "  </thead>\n",
       "  <tbody>\n",
       "    <tr>\n",
       "      <th>0</th>\n",
       "      <td>0.581695</td>\n",
       "      <td>0.567586</td>\n",
       "      <td>0.753504</td>\n",
       "      <td>0.647463</td>\n",
       "    </tr>\n",
       "  </tbody>\n",
       "</table>\n",
       "</div>"
      ],
      "text/plain": [
       "   accuracy  precision    recall        f1\n",
       "0  0.581695   0.567586  0.753504  0.647463"
      ]
     },
     "execution_count": 19,
     "metadata": {},
     "output_type": "execute_result"
    }
   ],
   "source": [
    "# On Traning set\n",
    "af.score_summary(y_pred=naive_logistic_model.predict(logistic_x_train_mat),\n",
    "                 y_true=train_data_dict[\"sex\"], pos_label=1)"
   ]
  },
  {
   "cell_type": "code",
   "execution_count": 20,
   "id": "22ea658a",
   "metadata": {},
   "outputs": [
    {
     "data": {
      "text/html": [
       "<div>\n",
       "<style scoped>\n",
       "    .dataframe tbody tr th:only-of-type {\n",
       "        vertical-align: middle;\n",
       "    }\n",
       "\n",
       "    .dataframe tbody tr th {\n",
       "        vertical-align: top;\n",
       "    }\n",
       "\n",
       "    .dataframe thead th {\n",
       "        text-align: right;\n",
       "    }\n",
       "</style>\n",
       "<table border=\"1\" class=\"dataframe\">\n",
       "  <thead>\n",
       "    <tr style=\"text-align: right;\">\n",
       "      <th></th>\n",
       "      <th>accuracy</th>\n",
       "      <th>precision</th>\n",
       "      <th>recall</th>\n",
       "      <th>f1</th>\n",
       "    </tr>\n",
       "  </thead>\n",
       "  <tbody>\n",
       "    <tr>\n",
       "      <th>0</th>\n",
       "      <td>0.614029</td>\n",
       "      <td>0.708988</td>\n",
       "      <td>0.714733</td>\n",
       "      <td>0.711849</td>\n",
       "    </tr>\n",
       "  </tbody>\n",
       "</table>\n",
       "</div>"
      ],
      "text/plain": [
       "   accuracy  precision    recall        f1\n",
       "0  0.614029   0.708988  0.714733  0.711849"
      ]
     },
     "execution_count": 20,
     "metadata": {},
     "output_type": "execute_result"
    }
   ],
   "source": [
    "# On Test set\n",
    "af.score_summary(y_pred=naive_logistic_model.predict(logistic_x_test_mat),\n",
    "                 y_true=test_data_dict[\"sex\"], pos_label=1)"
   ]
  },
  {
   "cell_type": "code",
   "execution_count": 21,
   "id": "1898532b",
   "metadata": {},
   "outputs": [
    {
     "data": {
      "text/html": [
       "<div>\n",
       "<style scoped>\n",
       "    .dataframe tbody tr th:only-of-type {\n",
       "        vertical-align: middle;\n",
       "    }\n",
       "\n",
       "    .dataframe tbody tr th {\n",
       "        vertical-align: top;\n",
       "    }\n",
       "\n",
       "    .dataframe thead th {\n",
       "        text-align: right;\n",
       "    }\n",
       "</style>\n",
       "<table border=\"1\" class=\"dataframe\">\n",
       "  <thead>\n",
       "    <tr style=\"text-align: right;\">\n",
       "      <th></th>\n",
       "      <th>accuracy</th>\n",
       "      <th>precision</th>\n",
       "      <th>recall</th>\n",
       "      <th>f1</th>\n",
       "    </tr>\n",
       "  </thead>\n",
       "  <tbody>\n",
       "    <tr>\n",
       "      <th>0</th>\n",
       "      <td>0.614029</td>\n",
       "      <td>0.419089</td>\n",
       "      <td>0.412286</td>\n",
       "      <td>0.415659</td>\n",
       "    </tr>\n",
       "  </tbody>\n",
       "</table>\n",
       "</div>"
      ],
      "text/plain": [
       "   accuracy  precision    recall        f1\n",
       "0  0.614029   0.419089  0.412286  0.415659"
      ]
     },
     "execution_count": 21,
     "metadata": {},
     "output_type": "execute_result"
    }
   ],
   "source": [
    "af.score_summary(y_pred=naive_logistic_model.predict(logistic_x_test_mat),\n",
    "                 y_true=test_data_dict[\"sex\"], pos_label=0)"
   ]
  },
  {
   "cell_type": "code",
   "execution_count": null,
   "id": "1fcea5d8",
   "metadata": {},
   "outputs": [],
   "source": []
  }
 ],
 "metadata": {
  "hide_input": false,
  "kernelspec": {
   "display_name": "Python 3 (ipykernel)",
   "language": "python",
   "name": "python3"
  },
  "language_info": {
   "codemirror_mode": {
    "name": "ipython",
    "version": 3
   },
   "file_extension": ".py",
   "mimetype": "text/x-python",
   "name": "python",
   "nbconvert_exporter": "python",
   "pygments_lexer": "ipython3",
   "version": "3.7.9"
  },
  "toc": {
   "base_numbering": 1,
   "nav_menu": {},
   "number_sections": true,
   "sideBar": true,
   "skip_h1_title": false,
   "title_cell": "Table of Contents",
   "title_sidebar": "Contents",
   "toc_cell": false,
   "toc_position": {},
   "toc_section_display": true,
   "toc_window_display": false
  }
 },
 "nbformat": 4,
 "nbformat_minor": 5
}
