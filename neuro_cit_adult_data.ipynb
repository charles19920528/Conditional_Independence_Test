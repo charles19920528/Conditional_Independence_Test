{
 "cells": [
  {
   "cell_type": "code",
   "execution_count": 1,
   "id": "1a6f14f0",
   "metadata": {},
   "outputs": [],
   "source": [
    "import adult_data_functions as af\n",
    "import numpy as np\n",
    "import tensorflow as tf\n",
    "from sklearn import preprocessing\n",
    "from sklearn.model_selection import train_test_split"
   ]
  },
  {
   "cell_type": "markdown",
   "id": "953eb6e2",
   "metadata": {},
   "source": [
    "# Process Data"
   ]
  },
  {
   "cell_type": "code",
   "execution_count": 2,
   "id": "ecfe3aac",
   "metadata": {},
   "outputs": [],
   "source": [
    "# Load data\n",
    "categorical_feature_encoder = preprocessing.OneHotEncoder()\n",
    "sex_encoder = preprocessing.LabelEncoder() \n",
    "race_encoder = preprocessing.LabelEncoder()\n",
    "income_encoder = preprocessing.LabelEncoder()\n",
    "train_data_dict = af.preprocess(adult_dt_path=\"data/adult.data\", \n",
    "                                categorical_feature_encoder=categorical_feature_encoder, \n",
    "                                sex_encoder=sex_encoder, race_encoder=race_encoder, \n",
    "                                income_encoder=income_encoder, encoder_fit_boolean=True)"
   ]
  },
  {
   "cell_type": "markdown",
   "id": "1abbba33",
   "metadata": {},
   "source": [
    "## Train Validation Split"
   ]
  },
  {
   "cell_type": "code",
   "execution_count": 3,
   "id": "dd56e3d5",
   "metadata": {},
   "outputs": [
    {
     "data": {
      "text/plain": [
       "32561"
      ]
     },
     "execution_count": 3,
     "metadata": {},
     "output_type": "execute_result"
    }
   ],
   "source": [
    "indices_array = np.arange(train_data_dict[\"income-label\"].shape[0])\n",
    "len(indices_array)"
   ]
  },
  {
   "cell_type": "code",
   "execution_count": 4,
   "id": "74f3df13",
   "metadata": {},
   "outputs": [],
   "source": [
    "# split based on income\n",
    "train_indices_array, val_indices_array = train_test_split(indices_array, \n",
    "                                                           stratify=train_data_dict[\"income-label\"], \n",
    "                                                           test_size=0.1, \n",
    "                                                           random_state=0)"
   ]
  },
  {
   "cell_type": "code",
   "execution_count": 5,
   "id": "dd9d7fcb",
   "metadata": {},
   "outputs": [
    {
     "name": "stderr",
     "output_type": "stream",
     "text": [
      "2022-04-21 21:43:46.973917: I tensorflow/core/platform/cpu_feature_guard.cc:151] This TensorFlow binary is optimized with oneAPI Deep Neural Network Library (oneDNN) to use the following CPU instructions in performance-critical operations:  AVX2 FMA\n",
      "To enable them in other operations, rebuild TensorFlow with the appropriate compiler flags.\n"
     ]
    }
   ],
   "source": [
    "categorical_feature_train_dataset = \\\n",
    "    tf.data.Dataset.from_tensor_slices(train_data_dict[\"categorical-features\"][train_indices_array, :].toarray())\n",
    "categorical_feature_val_dataset = \\\n",
    "    tf.data.Dataset.from_tensor_slices(train_data_dict[\"categorical-features\"][val_indices_array, :].toarray())"
   ]
  },
  {
   "cell_type": "code",
   "execution_count": 6,
   "id": "5d763676",
   "metadata": {},
   "outputs": [],
   "source": [
    "continuous_feature_train_dataset = \\\n",
    "    tf.data.Dataset.from_tensor_slices(train_data_dict[\"continuous-features\"].iloc[train_indices_array, :])\n",
    "continuous_feature_val_dataset = \\\n",
    "    tf.data.Dataset.from_tensor_slices(train_data_dict[\"continuous-features\"].iloc[val_indices_array, :])"
   ]
  },
  {
   "cell_type": "code",
   "execution_count": 7,
   "id": "28863ea2",
   "metadata": {},
   "outputs": [],
   "source": [
    "feature_train_dataset = tf.data.Dataset.zip((continuous_feature_train_dataset, categorical_feature_train_dataset))\n",
    "feature_val_dataset = tf.data.Dataset.zip((continuous_feature_val_dataset, categorical_feature_val_dataset))"
   ]
  },
  {
   "cell_type": "code",
   "execution_count": 8,
   "id": "6a7ca1f9",
   "metadata": {},
   "outputs": [],
   "source": [
    "# Prepare x_y_mat (sex, income)\n",
    "x_y_mat = np.hstack([train_data_dict[\"sex\"].reshape(-1, 1), train_data_dict[\"income-label\"].reshape(-1, 1)])\n",
    "x_y_mat = 2 * x_y_mat - 1\n",
    "response_train_dataset = tf.data.Dataset.from_tensor_slices(x_y_mat[train_indices_array, :])\n",
    "response_val_dataset = tf.data.Dataset.from_tensor_slices(x_y_mat[val_indices_array, :])"
   ]
  },
  {
   "cell_type": "code",
   "execution_count": 9,
   "id": "6a53d7d8",
   "metadata": {},
   "outputs": [],
   "source": [
    "train_dataset = tf.data.Dataset.zip((feature_train_dataset, response_train_dataset))\n",
    "val_dataset = tf.data.Dataset.zip((feature_val_dataset, response_val_dataset))"
   ]
  },
  {
   "cell_type": "code",
   "execution_count": 10,
   "id": "98611906",
   "metadata": {},
   "outputs": [],
   "source": [
    "buffer_size = 5000\n",
    "batch_size = 64\n",
    "train_dataset = train_dataset.shuffle(buffer_size).batch(batch_size)\n",
    "val_dataset = val_dataset.shuffle(buffer_size).batch(batch_size)"
   ]
  },
  {
   "cell_type": "markdown",
   "id": "bf653b61",
   "metadata": {},
   "source": [
    "# Training"
   ]
  },
  {
   "cell_type": "code",
   "execution_count": 11,
   "id": "dab43630",
   "metadata": {},
   "outputs": [],
   "source": [
    "model = af.ModelNetwork(number_forward_layers=1, hidden_dim=59, output_dim=2)\n",
    "model.initialize();"
   ]
  },
  {
   "cell_type": "code",
   "execution_count": 12,
   "id": "f27aab7e",
   "metadata": {},
   "outputs": [],
   "source": [
    "f1_sex_metric = af.Metric(name=\"f1\", response_name=\"sex\")\n",
    "f1_income_metric = af.Metric(name=\"f1\", response_name=\"income-label\")\n",
    "accuracy_sex_metric = af.Metric(name=\"accuracy\", response_name=\"sex\")\n",
    "accuracy_income_metric = af.Metric(name=\"accuracy\", response_name=\"income-label\")\n",
    "model.compile(optimizer=tf.keras.optimizers.Adam(learning_rate=0.01),\n",
    "              loss=af.ising_likelihood, \n",
    "              metrics=[f1_sex_metric, f1_income_metric, accuracy_sex_metric, accuracy_income_metric],\n",
    "              run_eagerly=True)"
   ]
  },
  {
   "cell_type": "code",
   "execution_count": 13,
   "id": "c1f7fbc6",
   "metadata": {},
   "outputs": [
    {
     "name": "stdout",
     "output_type": "stream",
     "text": [
      "458/458 [==============================] - 146s 311ms/step - loss: 140911.6562 - f1_sex: 0.0000e+00 - f1_income-label: 0.2623 - accuracy_sex: 0.2857 - accuracy_income-label: 0.1964 - val_loss: 58884.3711 - val_f1_sex: 0.0000e+00 - val_f1_income-label: 0.2857 - val_accuracy_sex: 0.4035 - val_accuracy_income-label: 0.2105\n"
     ]
    },
    {
     "data": {
      "text/plain": [
       "<keras.callbacks.History at 0x7f994d832b00>"
      ]
     },
     "execution_count": 13,
     "metadata": {},
     "output_type": "execute_result"
    }
   ],
   "source": [
    "model.fit(train_dataset, epochs=1, validation_data=val_dataset)"
   ]
  },
  {
   "cell_type": "code",
   "execution_count": 15,
   "id": "7c8043dd",
   "metadata": {},
   "outputs": [],
   "source": [
    "import matplotlib.pyplot as plt"
   ]
  },
  {
   "cell_type": "code",
   "execution_count": 16,
   "id": "ab114403",
   "metadata": {},
   "outputs": [
    {
     "data": {
      "text/plain": [
       "dict_keys(['loss', 'f1_sex', 'f1_income-label', 'accuracy_sex', 'accuracy_income-label', 'val_loss', 'val_f1_sex', 'val_f1_income-label', 'val_accuracy_sex', 'val_accuracy_income-label'])"
      ]
     },
     "execution_count": 16,
     "metadata": {},
     "output_type": "execute_result"
    }
   ],
   "source": [
    "model.history.history.keys()"
   ]
  },
  {
   "cell_type": "code",
   "execution_count": 17,
   "id": "d383bf28",
   "metadata": {},
   "outputs": [
    {
     "data": {
      "text/plain": [
       "[<matplotlib.lines.Line2D at 0x7f9934d12b60>]"
      ]
     },
     "execution_count": 17,
     "metadata": {},
     "output_type": "execute_result"
    },
    {
     "data": {
      "image/png": "[encoded data removed]",
      "text/plain": [
       "<Figure size 432x288 with 1 Axes>"
      ]
     },
     "metadata": {
      "needs_background": "light"
     },
     "output_type": "display_data"
    }
   ],
   "source": [
    "plt.plot(model.history.history[\"loss\"])"
   ]
  },
  {
   "cell_type": "code",
   "execution_count": null,
   "id": "1cf9480e",
   "metadata": {},
   "outputs": [],
   "source": []
  }
 ],
 "metadata": {
  "kernelspec": {
   "display_name": "Python 3 (ipykernel)",
   "language": "python",
   "name": "python3"
  },
  "language_info": {
   "codemirror_mode": {
    "name": "ipython",
    "version": 3
   },
   "file_extension": ".py",
   "mimetype": "text/x-python",
   "name": "python",
   "nbconvert_exporter": "python",
   "pygments_lexer": "ipython3",
   "version": "3.10.0"
  }
 },
 "nbformat": 4,
 "nbformat_minor": 5
}
