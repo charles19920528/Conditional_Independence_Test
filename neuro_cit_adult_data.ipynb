{
 "cells": [
  {
   "cell_type": "code",
   "execution_count": 1,
   "id": "7f4ecb28",
   "metadata": {},
   "outputs": [],
   "source": [
    "import adult_data_functions as af\n",
    "import numpy as np\n",
    "import tensorflow as tf\n",
    "# import os \n",
    "# os.environ['CUDA_VISIBLE_DEVICES'] = '-1'\n",
    "from sklearn import preprocessing\n",
    "from sklearn.model_selection import train_test_split"
   ]
  },
  {
   "cell_type": "code",
   "execution_count": 2,
   "id": "f1ab4c84",
   "metadata": {},
   "outputs": [],
   "source": [
    "tf.random.set_seed(0)\n",
    "np.random.seed(0)"
   ]
  },
  {
   "cell_type": "markdown",
   "id": "7b4ab987",
   "metadata": {},
   "source": [
    "# Process Data"
   ]
  },
  {
   "cell_type": "code",
   "execution_count": 3,
   "id": "1fb61d57",
   "metadata": {},
   "outputs": [],
   "source": [
    "# Load data\n",
    "categorical_feature_encoder = preprocessing.OneHotEncoder()\n",
    "sex_encoder = preprocessing.LabelEncoder() \n",
    "income_encoder = preprocessing.LabelEncoder()\n",
    "\n",
    "merge_country_boolean=False\n",
    "merge_education_boolean=False\n",
    "\n",
    "train_data_dict = af.preprocess(adult_dt_path=\"data/adult.data\", \n",
    "                                categorical_feature_encoder=categorical_feature_encoder, \n",
    "                                sex_encoder=sex_encoder,\n",
    "                                income_encoder=income_encoder, encoder_fit_boolean=True,\n",
    "                               merge_country_boolean=merge_country_boolean, \n",
    "                               merge_education_boolean=merge_education_boolean)"
   ]
  },
  {
   "cell_type": "code",
   "execution_count": 4,
   "id": "d20fe8a6",
   "metadata": {},
   "outputs": [
    {
     "data": {
      "text/plain": [
       "0    0.751078\n",
       "1    0.248922\n",
       "dtype: float64"
      ]
     },
     "execution_count": 4,
     "metadata": {},
     "output_type": "execute_result"
    }
   ],
   "source": [
    "import pandas as pd\n",
    "pd.Series(train_data_dict[\"income-label\"]).value_counts(normalize=True)"
   ]
  },
  {
   "cell_type": "code",
   "execution_count": 5,
   "id": "2bdda886",
   "metadata": {},
   "outputs": [
    {
     "data": {
      "text/plain": [
       "1    0.675685\n",
       "0    0.324315\n",
       "dtype: float64"
      ]
     },
     "execution_count": 5,
     "metadata": {},
     "output_type": "execute_result"
    }
   ],
   "source": [
    "pd.Series(train_data_dict[\"sex\"]).value_counts(normalize=True)"
   ]
  },
  {
   "cell_type": "markdown",
   "id": "0ee02681",
   "metadata": {},
   "source": [
    "## Train Validation Split"
   ]
  },
  {
   "cell_type": "code",
   "execution_count": 6,
   "id": "5bc9c779",
   "metadata": {},
   "outputs": [
    {
     "data": {
      "text/plain": [
       "30162"
      ]
     },
     "execution_count": 6,
     "metadata": {},
     "output_type": "execute_result"
    }
   ],
   "source": [
    "indices_array = np.arange(train_data_dict[\"income-label\"].shape[0])\n",
    "len(indices_array)"
   ]
  },
  {
   "cell_type": "code",
   "execution_count": 7,
   "id": "6b619df4",
   "metadata": {},
   "outputs": [],
   "source": [
    "# split based on income\n",
    "indices_array = np.arange(train_data_dict[\"income-label\"].shape[0])\n",
    "train_indices_array, val_indices_array = train_test_split(indices_array, \n",
    "                                                           stratify=train_data_dict[\"income-label\"], \n",
    "                                                           test_size=0.1, \n",
    "                                                           random_state=0)"
   ]
  },
  {
   "cell_type": "code",
   "execution_count": 8,
   "id": "7ae9dd5f",
   "metadata": {},
   "outputs": [],
   "source": [
    "from sklearn.preprocessing import StandardScaler\n",
    "train_feature_mat = np.hstack([train_data_dict[\"categorical-features\"][train_indices_array, :].toarray(), \n",
    "               train_data_dict[\"continuous-features\"][train_indices_array, :]])\n",
    "val_feature_mat = np.hstack([train_data_dict[\"categorical-features\"][val_indices_array, :].toarray(), \n",
    "               train_data_dict[\"continuous-features\"][val_indices_array, :]])\n",
    "\n",
    "scaler = StandardScaler()\n",
    "\n",
    "scaled_train_feature_mat = scaler.fit_transform(train_feature_mat)\n",
    "scaled_val_feature_mat = scaler.fit_transform(val_feature_mat)"
   ]
  },
  {
   "cell_type": "code",
   "execution_count": 9,
   "id": "ebd2d204",
   "metadata": {},
   "outputs": [],
   "source": [
    "from sklearn.decomposition import PCA\n",
    "pca = PCA(n_components=scaled_train_feature_mat.shape[1] - 5)\n",
    "train_pca_x_mat = pca.fit_transform(scaled_train_feature_mat)\n",
    "val_pca_x_mat = pca.transform(scaled_val_feature_mat)"
   ]
  },
  {
   "cell_type": "code",
   "execution_count": 10,
   "id": "d13929f8",
   "metadata": {},
   "outputs": [
    {
     "name": "stderr",
     "output_type": "stream",
     "text": [
      "2022-05-04 12:45:38.570997: I tensorflow/core/platform/cpu_feature_guard.cc:151] This TensorFlow binary is optimized with oneAPI Deep Neural Network Library (oneDNN) to use the following CPU instructions in performance-critical operations:  AVX2 FMA\n",
      "To enable them in other operations, rebuild TensorFlow with the appropriate compiler flags.\n"
     ]
    }
   ],
   "source": [
    "# Prepare x_y_mat (sex, income)\n",
    "x_y_mat = np.hstack([train_data_dict[\"sex\"].reshape(-1, 1), train_data_dict[\"income-label\"].reshape(-1, 1)])\n",
    "x_y_mat = 2 * x_y_mat - 1\n",
    "\n",
    "train_dataset = tf.data.Dataset.from_tensor_slices((train_pca_x_mat, x_y_mat[train_indices_array, :]))\n",
    "val_dataset = tf.data.Dataset.from_tensor_slices((val_pca_x_mat, x_y_mat[val_indices_array, :]))"
   ]
  },
  {
   "cell_type": "code",
   "execution_count": 11,
   "id": "c0462621",
   "metadata": {},
   "outputs": [],
   "source": [
    "buffer_size = 50000\n",
    "batch_size = 20000\n",
    "\n",
    "train_dataset = train_dataset.shuffle(buffer_size).batch(batch_size)\n",
    "val_dataset = val_dataset.shuffle(buffer_size).batch(batch_size)"
   ]
  },
  {
   "cell_type": "code",
   "execution_count": 12,
   "id": "029b70c7",
   "metadata": {},
   "outputs": [
    {
     "data": {
      "text/plain": [
       " 1    0.675041\n",
       "-1    0.324959\n",
       "dtype: float64"
      ]
     },
     "execution_count": 12,
     "metadata": {},
     "output_type": "execute_result"
    }
   ],
   "source": [
    "pd.Series(x_y_mat[train_indices_array, 0]).value_counts(normalize=True)"
   ]
  },
  {
   "cell_type": "code",
   "execution_count": 13,
   "id": "e15922ac",
   "metadata": {},
   "outputs": [
    {
     "data": {
      "text/plain": [
       " 1    0.681472\n",
       "-1    0.318528\n",
       "dtype: float64"
      ]
     },
     "execution_count": 13,
     "metadata": {},
     "output_type": "execute_result"
    }
   ],
   "source": [
    "pd.Series(x_y_mat[val_indices_array, 0]).value_counts(normalize=True)"
   ]
  },
  {
   "cell_type": "markdown",
   "id": "21c8943f",
   "metadata": {},
   "source": [
    "# Training"
   ]
  },
  {
   "cell_type": "code",
   "execution_count": 14,
   "id": "9153f700",
   "metadata": {},
   "outputs": [],
   "source": [
    "# for n_layers in [0, 1, 5]:\n",
    "#     for l2 in [0.0001, 0.001, 0.1, 0, 1, 10, 100]:\n",
    "#         model = af.ModelNetwork(n_layers=n_layers, hidden_dim=59, final_dim=59, output_dim=3, \n",
    "#                                 education_dim=None, occupation_dim=None,\n",
    "#                        final_layer_regularizer=tf.keras.regularizers.L2(l2))\n",
    "        \n",
    "#         learning_rate = tf.keras.optimizers.schedules.PiecewiseConstantDecay(boundaries=[2,50], \n",
    "#                                                                              values=[0.01, 0.001, 0.0001])\n",
    "#         epochs=500\n",
    "#         optimizer = tf.keras.optimizers.Adam(learning_rate=learning_rate)\n",
    "        \n",
    "#         model.compile(optimizer=optimizer,\n",
    "#               loss=af.ising_likelihood,\n",
    "#               run_eagerly=True)\n",
    "\n",
    "#         callbacks = [\n",
    "#             tf.keras.callbacks.EarlyStopping(\n",
    "#                 # Stop training when `val_loss` is no longer improving\n",
    "#                 monitor=\"val_loss\",\n",
    "#                 # \"no longer improving\" being defined as \"no better than 1e-2 less\"\n",
    "#                 min_delta=1e-2,\n",
    "#                 # \"no longer improving\" being further defined as \"for at least 2 epochs\"\n",
    "#                 patience=3,\n",
    "#                 verbose=1,\n",
    "#             ),\n",
    "#             tf.keras.callbacks.ModelCheckpoint(\n",
    "#                 # Path where to save the model\n",
    "#                 # The two parameters below mean that we will overwrite\n",
    "#                 # the current checkpoint if and only if\n",
    "#                 # the `val_loss` score has improved.\n",
    "#                 # The saved model name will include the current epoch.\n",
    "#                 filepath=f\"saved_model/model_n_layer:{n_layers}_l2:{l2}_drop:{0.8}\",\n",
    "#                 save_best_only=True,  # Only save a model if `val_loss` has improved.\n",
    "#                 monitor=\"val_loss\",\n",
    "#                 verbose=1,\n",
    "#             )\n",
    "#         ]\n",
    "        \n",
    "#         model.fit(train_dataset, epochs=epochs, validation_data=val_dataset, callbacks=callbacks)"
   ]
  },
  {
   "cell_type": "code",
   "execution_count": 15,
   "id": "b23b7afb",
   "metadata": {},
   "outputs": [],
   "source": [
    "f1_sex_metric = af.Metric(name=\"f1\", response_name=\"sex\")\n",
    "f1_income_metric = af.Metric(name=\"f1\", response_name=\"income-label\")\n",
    "accuracy_sex_metric = af.Metric(name=\"accuracy\", response_name=\"sex\")\n",
    "accuracy_income_metric = af.Metric(name=\"accuracy\", response_name=\"income-label\")"
   ]
  },
  {
   "cell_type": "code",
   "execution_count": 16,
   "id": "4be0f5c2",
   "metadata": {},
   "outputs": [],
   "source": [
    "l2 = 0\n",
    "model = af.ModelNetwork(n_layers=0, hidden_dim=79, l_dim=79, output_dim=2, l2=l2)\n",
    "\n",
    "learning_rate = tf.keras.optimizers.schedules.PiecewiseConstantDecay(boundaries=[10, 15], \n",
    "                                                                     values=[0.1, 0.01, 0.001])\n",
    "# learning_rate = 0.0001\n",
    "model.compile(optimizer=tf.keras.optimizers.Adam(learning_rate=learning_rate),\n",
    "              loss=af.ising_likelihood, \n",
    "              metrics=[f1_sex_metric, f1_income_metric, accuracy_sex_metric, accuracy_income_metric],\n",
    "             run_eagerly=True)"
   ]
  },
  {
   "cell_type": "code",
   "execution_count": 17,
   "id": "a740e93f",
   "metadata": {},
   "outputs": [],
   "source": [
    "epochs=30\n",
    "\n",
    "# tf.keras.callbacks.EarlyStopping(\n",
    "#         # Stop training when `val_loss` is no longer improving\n",
    "#         monitor=\"val_loss\",\n",
    "#         # \"no longer improving\" being defined as \"no better than 1e-2 less\"\n",
    "#         min_delta=1e-2,\n",
    "#         # \"no longer improving\" being further defined as \"for at least 2 epochs\"\n",
    "#         patience=10,\n",
    "#         verbose=1,\n",
    "#     ),\n",
    "# callbacks = [\n",
    "    \n",
    "#     tf.keras.callbacks.ModelCheckpoint(\n",
    "#         # Path where to save the model\n",
    "#         # The two parameters below mean that we will overwrite\n",
    "#         # the current checkpoint if and only if\n",
    "#         # the `val_loss` score has improved.\n",
    "#         # The saved model name will include the current epoch.\n",
    "#         filepath=f\"saved_model/model_l2:{l2}_epochs:{epochs}\",\n",
    "#         save_best_only=True,  # Only save a model if `val_loss` has improved.\n",
    "#         monitor=\"val_loss\",\n",
    "#         verbose=1,\n",
    "#     )\n",
    "# ]"
   ]
  },
  {
   "cell_type": "code",
   "execution_count": 18,
   "id": "6de96dde",
   "metadata": {},
   "outputs": [
    {
     "name": "stdout",
     "output_type": "stream",
     "text": [
      "Epoch 1/30\n",
      "2/2 [==============================] - 7s 1s/step - loss: 2.1475 - f1_sex: 0.5883 - f1_income-label: 0.3258 - accuracy_sex: 0.6834 - accuracy_income-label: 0.5262 - val_loss: 1.2760 - val_f1_sex: 0.5916 - val_f1_income-label: 0.4610 - val_accuracy_sex: 0.7080 - val_accuracy_income-label: 0.7047\n",
      "Epoch 2/30\n",
      "2/2 [==============================] - 3s 929ms/step - loss: 1.2427 - f1_sex: 0.5927 - f1_income-label: 0.5034 - accuracy_sex: 0.7129 - accuracy_income-label: 0.7460 - val_loss: 1.1847 - val_f1_sex: 0.5641 - val_f1_income-label: 0.5115 - val_accuracy_sex: 0.7183 - val_accuracy_income-label: 0.7531\n",
      "Epoch 3/30\n",
      "2/2 [==============================] - 3s 916ms/step - loss: 1.1665 - f1_sex: 0.5655 - f1_income-label: 0.5279 - accuracy_sex: 0.7159 - accuracy_income-label: 0.7657 - val_loss: 1.0949 - val_f1_sex: 0.5430 - val_f1_income-label: 0.5682 - val_accuracy_sex: 0.7232 - val_accuracy_income-label: 0.7819\n",
      "Epoch 4/30\n",
      "2/2 [==============================] - 3s 929ms/step - loss: 1.0694 - f1_sex: 0.5440 - f1_income-label: 0.5816 - accuracy_sex: 0.7323 - accuracy_income-label: 0.7917 - val_loss: 1.0380 - val_f1_sex: 0.5191 - val_f1_income-label: 0.5947 - val_accuracy_sex: 0.7335 - val_accuracy_income-label: 0.7971\n",
      "Epoch 5/30\n",
      "2/2 [==============================] - 3s 962ms/step - loss: 1.0169 - f1_sex: 0.5175 - f1_income-label: 0.5944 - accuracy_sex: 0.7395 - accuracy_income-label: 0.8042 - val_loss: 1.0266 - val_f1_sex: 0.4809 - val_f1_income-label: 0.5874 - val_accuracy_sex: 0.7345 - val_accuracy_income-label: 0.8044\n",
      "Epoch 6/30\n",
      "2/2 [==============================] - 3s 1s/step - loss: 1.0046 - f1_sex: 0.5034 - f1_income-label: 0.5844 - accuracy_sex: 0.7363 - accuracy_income-label: 0.8125 - val_loss: 1.0217 - val_f1_sex: 0.4785 - val_f1_income-label: 0.5723 - val_accuracy_sex: 0.7348 - val_accuracy_income-label: 0.8048\n",
      "Epoch 7/30\n",
      "2/2 [==============================] - 3s 1s/step - loss: 1.0006 - f1_sex: 0.4978 - f1_income-label: 0.5640 - accuracy_sex: 0.7317 - accuracy_income-label: 0.8078 - val_loss: 1.0144 - val_f1_sex: 0.4929 - val_f1_income-label: 0.5653 - val_accuracy_sex: 0.7395 - val_accuracy_income-label: 0.8038\n",
      "Epoch 8/30\n",
      "2/2 [==============================] - 3s 1s/step - loss: 0.9931 - f1_sex: 0.5090 - f1_income-label: 0.5769 - accuracy_sex: 0.7362 - accuracy_income-label: 0.8140 - val_loss: 1.0029 - val_f1_sex: 0.5067 - val_f1_income-label: 0.5682 - val_accuracy_sex: 0.7444 - val_accuracy_income-label: 0.8071\n",
      "Epoch 9/30\n",
      "2/2 [==============================] - 4s 924ms/step - loss: 0.9833 - f1_sex: 0.5238 - f1_income-label: 0.5667 - accuracy_sex: 0.7394 - accuracy_income-label: 0.8046 - val_loss: 1.0015 - val_f1_sex: 0.5083 - val_f1_income-label: 0.5691 - val_accuracy_sex: 0.7448 - val_accuracy_income-label: 0.8078\n",
      "Epoch 10/30\n",
      "2/2 [==============================] - 7s 939ms/step - loss: 0.9820 - f1_sex: 0.5159 - f1_income-label: 0.5540 - accuracy_sex: 0.7418 - accuracy_income-label: 0.8042 - val_loss: 0.9999 - val_f1_sex: 0.5086 - val_f1_income-label: 0.5695 - val_accuracy_sex: 0.7451 - val_accuracy_income-label: 0.8081\n",
      "Epoch 11/30\n",
      "2/2 [==============================] - 5s 960ms/step - loss: 0.9804 - f1_sex: 0.5231 - f1_income-label: 0.5572 - accuracy_sex: 0.7446 - accuracy_income-label: 0.8056 - val_loss: 0.9981 - val_f1_sex: 0.5080 - val_f1_income-label: 0.5693 - val_accuracy_sex: 0.7444 - val_accuracy_income-label: 0.8084\n",
      "Epoch 12/30\n",
      "2/2 [==============================] - 4s 1s/step - loss: 0.9786 - f1_sex: 0.5232 - f1_income-label: 0.5652 - accuracy_sex: 0.7526 - accuracy_income-label: 0.8116 - val_loss: 0.9961 - val_f1_sex: 0.5096 - val_f1_income-label: 0.5676 - val_accuracy_sex: 0.7454 - val_accuracy_income-label: 0.8081\n",
      "Epoch 13/30\n",
      "2/2 [==============================] - 16s 10s/step - loss: 0.9768 - f1_sex: 0.5116 - f1_income-label: 0.5752 - accuracy_sex: 0.7402 - accuracy_income-label: 0.8098 - val_loss: 0.9941 - val_f1_sex: 0.5112 - val_f1_income-label: 0.5684 - val_accuracy_sex: 0.7458 - val_accuracy_income-label: 0.8088\n",
      "Epoch 14/30\n",
      "2/2 [==============================] - 3s 1s/step - loss: 0.9748 - f1_sex: 0.5269 - f1_income-label: 0.5566 - accuracy_sex: 0.7449 - accuracy_income-label: 0.8076 - val_loss: 0.9920 - val_f1_sex: 0.5115 - val_f1_income-label: 0.5684 - val_accuracy_sex: 0.7454 - val_accuracy_income-label: 0.8088\n",
      "Epoch 15/30\n",
      "2/2 [==============================] - 3s 948ms/step - loss: 0.9728 - f1_sex: 0.5234 - f1_income-label: 0.5632 - accuracy_sex: 0.7451 - accuracy_income-label: 0.8085 - val_loss: 0.9899 - val_f1_sex: 0.5137 - val_f1_income-label: 0.5682 - val_accuracy_sex: 0.7464 - val_accuracy_income-label: 0.8091\n",
      "Epoch 16/30\n",
      "2/2 [==============================] - 9s 1s/step - loss: 0.9708 - f1_sex: 0.5154 - f1_income-label: 0.5648 - accuracy_sex: 0.7426 - accuracy_income-label: 0.8074 - val_loss: 0.9879 - val_f1_sex: 0.5137 - val_f1_income-label: 0.5682 - val_accuracy_sex: 0.7464 - val_accuracy_income-label: 0.8091\n",
      "Epoch 17/30\n",
      "2/2 [==============================] - 15s 1s/step - loss: 0.9688 - f1_sex: 0.5141 - f1_income-label: 0.5639 - accuracy_sex: 0.7421 - accuracy_income-label: 0.8095 - val_loss: 0.9858 - val_f1_sex: 0.5140 - val_f1_income-label: 0.5691 - val_accuracy_sex: 0.7461 - val_accuracy_income-label: 0.8097\n",
      "Epoch 18/30\n",
      "2/2 [==============================] - 16s 1s/step - loss: 0.9668 - f1_sex: 0.5243 - f1_income-label: 0.5750 - accuracy_sex: 0.7440 - accuracy_income-label: 0.8101 - val_loss: 0.9838 - val_f1_sex: 0.5139 - val_f1_income-label: 0.5721 - val_accuracy_sex: 0.7454 - val_accuracy_income-label: 0.8111\n",
      "Epoch 19/30\n",
      "2/2 [==============================] - 9s 1s/step - loss: 0.9648 - f1_sex: 0.5210 - f1_income-label: 0.5777 - accuracy_sex: 0.7411 - accuracy_income-label: 0.8074 - val_loss: 0.9819 - val_f1_sex: 0.5165 - val_f1_income-label: 0.5714 - val_accuracy_sex: 0.7468 - val_accuracy_income-label: 0.8111\n",
      "Epoch 20/30\n",
      "2/2 [==============================] - 6s 1s/step - loss: 0.9629 - f1_sex: 0.5256 - f1_income-label: 0.5703 - accuracy_sex: 0.7446 - accuracy_income-label: 0.8083 - val_loss: 0.9800 - val_f1_sex: 0.5174 - val_f1_income-label: 0.5691 - val_accuracy_sex: 0.7464 - val_accuracy_income-label: 0.8107\n",
      "Epoch 21/30\n",
      "2/2 [==============================] - 22s 915ms/step - loss: 0.9609 - f1_sex: 0.5361 - f1_income-label: 0.5753 - accuracy_sex: 0.7507 - accuracy_income-label: 0.8148 - val_loss: 0.9781 - val_f1_sex: 0.5186 - val_f1_income-label: 0.5673 - val_accuracy_sex: 0.7471 - val_accuracy_income-label: 0.8104\n",
      "Epoch 22/30\n",
      "2/2 [==============================] - 4s 1s/step - loss: 0.9591 - f1_sex: 0.5254 - f1_income-label: 0.5744 - accuracy_sex: 0.7426 - accuracy_income-label: 0.8146 - val_loss: 0.9763 - val_f1_sex: 0.5214 - val_f1_income-label: 0.5673 - val_accuracy_sex: 0.7481 - val_accuracy_income-label: 0.8104\n",
      "Epoch 23/30\n",
      "2/2 [==============================] - 7s 953ms/step - loss: 0.9573 - f1_sex: 0.5214 - f1_income-label: 0.5819 - accuracy_sex: 0.7454 - accuracy_income-label: 0.8155 - val_loss: 0.9745 - val_f1_sex: 0.5214 - val_f1_income-label: 0.5684 - val_accuracy_sex: 0.7481 - val_accuracy_income-label: 0.8107\n",
      "Epoch 24/30\n",
      "2/2 [==============================] - 3s 942ms/step - loss: 0.9556 - f1_sex: 0.5313 - f1_income-label: 0.5545 - accuracy_sex: 0.7435 - accuracy_income-label: 0.8106 - val_loss: 0.9728 - val_f1_sex: 0.5215 - val_f1_income-label: 0.5673 - val_accuracy_sex: 0.7488 - val_accuracy_income-label: 0.8104\n",
      "Epoch 25/30\n",
      "2/2 [==============================] - 3s 901ms/step - loss: 0.9539 - f1_sex: 0.5449 - f1_income-label: 0.5717 - accuracy_sex: 0.7454 - accuracy_income-label: 0.8153 - val_loss: 0.9712 - val_f1_sex: 0.5224 - val_f1_income-label: 0.5699 - val_accuracy_sex: 0.7491 - val_accuracy_income-label: 0.8114\n",
      "Epoch 26/30\n",
      "2/2 [==============================] - 3s 997ms/step - loss: 0.9522 - f1_sex: 0.5257 - f1_income-label: 0.5757 - accuracy_sex: 0.7432 - accuracy_income-label: 0.8155 - val_loss: 0.9696 - val_f1_sex: 0.5224 - val_f1_income-label: 0.5699 - val_accuracy_sex: 0.7491 - val_accuracy_income-label: 0.8114\n",
      "Epoch 27/30\n"
     ]
    },
    {
     "name": "stdout",
     "output_type": "stream",
     "text": [
      "2/2 [==============================] - 17s 912ms/step - loss: 0.9506 - f1_sex: 0.5218 - f1_income-label: 0.5675 - accuracy_sex: 0.7450 - accuracy_income-label: 0.8104 - val_loss: 0.9681 - val_f1_sex: 0.5224 - val_f1_income-label: 0.5699 - val_accuracy_sex: 0.7491 - val_accuracy_income-label: 0.8114\n",
      "Epoch 28/30\n",
      "2/2 [==============================] - 3s 951ms/step - loss: 0.9491 - f1_sex: 0.5361 - f1_income-label: 0.5457 - accuracy_sex: 0.7467 - accuracy_income-label: 0.8066 - val_loss: 0.9666 - val_f1_sex: 0.5243 - val_f1_income-label: 0.5712 - val_accuracy_sex: 0.7498 - val_accuracy_income-label: 0.8124\n",
      "Epoch 29/30\n",
      "2/2 [==============================] - 6s 914ms/step - loss: 0.9476 - f1_sex: 0.5334 - f1_income-label: 0.5566 - accuracy_sex: 0.7416 - accuracy_income-label: 0.8129 - val_loss: 0.9652 - val_f1_sex: 0.5230 - val_f1_income-label: 0.5710 - val_accuracy_sex: 0.7491 - val_accuracy_income-label: 0.8127\n",
      "Epoch 30/30\n",
      "2/2 [==============================] - 4s 925ms/step - loss: 0.9462 - f1_sex: 0.5342 - f1_income-label: 0.5699 - accuracy_sex: 0.7471 - accuracy_income-label: 0.8204 - val_loss: 0.9638 - val_f1_sex: 0.5233 - val_f1_income-label: 0.5699 - val_accuracy_sex: 0.7488 - val_accuracy_income-label: 0.8124\n"
     ]
    }
   ],
   "source": [
    "history = model.fit(train_dataset, epochs=epochs, validation_data=val_dataset)"
   ]
  },
  {
   "cell_type": "code",
   "execution_count": 19,
   "id": "c6c5a7fa",
   "metadata": {},
   "outputs": [
    {
     "data": {
      "text/plain": [
       "<matplotlib.legend.Legend at 0x7fbabdd5ece0>"
      ]
     },
     "execution_count": 19,
     "metadata": {},
     "output_type": "execute_result"
    },
    {
     "data": {
      "image/png": "[encoded data removed]",
      "text/plain": [
       "<Figure size 432x288 with 1 Axes>"
      ]
     },
     "metadata": {
      "needs_background": "light"
     },
     "output_type": "display_data"
    }
   ],
   "source": [
    "import matplotlib.pyplot as plt\n",
    "plt.plot(history.history[\"loss\"], label=\"train\")\n",
    "plt.plot(history.history[\"val_loss\"], label=\"train\")\n",
    "plt.legend()"
   ]
  },
  {
   "cell_type": "code",
   "execution_count": 20,
   "id": "32cf2534",
   "metadata": {},
   "outputs": [],
   "source": [
    "test_data_dict = af.preprocess(adult_dt_path=\"data/adult.test\", \n",
    "                                categorical_feature_encoder=categorical_feature_encoder, \n",
    "                                sex_encoder=sex_encoder,\n",
    "                                income_encoder=income_encoder, encoder_fit_boolean=False,\n",
    "                               merge_country_boolean=merge_country_boolean, \n",
    "                               merge_education_boolean=merge_education_boolean)\n",
    "\n",
    "test_feature_mat = np.hstack([test_data_dict[\"categorical-features\"].toarray(), \n",
    "               test_data_dict[\"continuous-features\"]])\n",
    "\n",
    "scaled_test_feature_mat = scaler.transform(test_feature_mat)\n",
    "test_pca_x_mat = pca.transform(scaled_test_feature_mat)\n",
    "\n",
    "test_x_y_mat = np.hstack([test_data_dict[\"sex\"].reshape(-1, 1), test_data_dict[\"income-label\"].reshape(-1, 1)])\n",
    "test_x_y_mat = 2 * test_x_y_mat - 1\n",
    "test_dataset = tf.data.Dataset.from_tensor_slices((test_pca_x_mat, test_x_y_mat)).batch(batch_size)"
   ]
  },
  {
   "cell_type": "code",
   "execution_count": 21,
   "id": "38bc5b9b",
   "metadata": {},
   "outputs": [
    {
     "data": {
      "text/html": [
       "<div>\n",
       "<style scoped>\n",
       "    .dataframe tbody tr th:only-of-type {\n",
       "        vertical-align: middle;\n",
       "    }\n",
       "\n",
       "    .dataframe tbody tr th {\n",
       "        vertical-align: top;\n",
       "    }\n",
       "\n",
       "    .dataframe thead th {\n",
       "        text-align: right;\n",
       "    }\n",
       "</style>\n",
       "<table border=\"1\" class=\"dataframe\">\n",
       "  <thead>\n",
       "    <tr style=\"text-align: right;\">\n",
       "      <th></th>\n",
       "      <th>accuracy</th>\n",
       "      <th>precision</th>\n",
       "      <th>recall</th>\n",
       "      <th>f1</th>\n",
       "    </tr>\n",
       "  </thead>\n",
       "  <tbody>\n",
       "    <tr>\n",
       "      <th>sex-1</th>\n",
       "      <td>0.746215</td>\n",
       "      <td>0.673010</td>\n",
       "      <td>0.431915</td>\n",
       "      <td>0.526159</td>\n",
       "    </tr>\n",
       "    <tr>\n",
       "      <th>income1</th>\n",
       "      <td>0.807968</td>\n",
       "      <td>0.647016</td>\n",
       "      <td>0.480541</td>\n",
       "      <td>0.551489</td>\n",
       "    </tr>\n",
       "  </tbody>\n",
       "</table>\n",
       "</div>"
      ],
      "text/plain": [
       "         accuracy  precision    recall        f1\n",
       "sex-1    0.746215   0.673010  0.431915  0.526159\n",
       "income1  0.807968   0.647016  0.480541  0.551489"
      ]
     },
     "execution_count": 21,
     "metadata": {},
     "output_type": "execute_result"
    }
   ],
   "source": [
    "af.tf_score_summary(model=model, dataset=test_dataset)"
   ]
  },
  {
   "cell_type": "code",
   "execution_count": null,
   "id": "ff46ea7e",
   "metadata": {},
   "outputs": [],
   "source": []
  },
  {
   "cell_type": "code",
   "execution_count": null,
   "id": "b7abea5b",
   "metadata": {},
   "outputs": [],
   "source": []
  },
  {
   "cell_type": "code",
   "execution_count": 22,
   "id": "e9dc86f7",
   "metadata": {},
   "outputs": [
    {
     "name": "stdout",
     "output_type": "stream",
     "text": [
      "Epoch 1/20\n",
      "2/2 [==============================] - 5s 938ms/step - loss: 1.9980 - f1_sex: 0.5001 - f1_income-label: 0.5086 - accuracy_sex: 0.6189 - accuracy_income-label: 0.6873 - val_loss: 1.2202 - val_f1_sex: 0.5700 - val_f1_income-label: 0.5531 - val_accuracy_sex: 0.6894 - val_accuracy_income-label: 0.7295\n",
      "Epoch 2/20\n",
      "2/2 [==============================] - 8s 948ms/step - loss: 1.1951 - f1_sex: 0.5815 - f1_income-label: 0.5868 - accuracy_sex: 0.7106 - accuracy_income-label: 0.7775 - val_loss: 1.1536 - val_f1_sex: 0.5710 - val_f1_income-label: 0.5509 - val_accuracy_sex: 0.7176 - val_accuracy_income-label: 0.7720\n",
      "Epoch 3/20\n",
      "2/2 [==============================] - 3s 1s/step - loss: 1.1376 - f1_sex: 0.5783 - f1_income-label: 0.5432 - accuracy_sex: 0.7302 - accuracy_income-label: 0.7877 - val_loss: 1.1473 - val_f1_sex: 0.5588 - val_f1_income-label: 0.5393 - val_accuracy_sex: 0.7252 - val_accuracy_income-label: 0.7922\n",
      "Epoch 4/20\n",
      "2/2 [==============================] - 3s 989ms/step - loss: 1.1031 - f1_sex: 0.5818 - f1_income-label: 0.5227 - accuracy_sex: 0.7338 - accuracy_income-label: 0.8039 - val_loss: 1.1026 - val_f1_sex: 0.5363 - val_f1_income-label: 0.5393 - val_accuracy_sex: 0.7265 - val_accuracy_income-label: 0.8058\n",
      "Epoch 5/20\n",
      "2/2 [==============================] - 6s 975ms/step - loss: 1.0493 - f1_sex: 0.5555 - f1_income-label: 0.5155 - accuracy_sex: 0.7355 - accuracy_income-label: 0.8056 - val_loss: 1.0796 - val_f1_sex: 0.5287 - val_f1_income-label: 0.5452 - val_accuracy_sex: 0.7252 - val_accuracy_income-label: 0.8131\n",
      "Epoch 6/20\n",
      "2/2 [==============================] - 3s 1s/step - loss: 1.0309 - f1_sex: 0.5728 - f1_income-label: 0.5438 - accuracy_sex: 0.7474 - accuracy_income-label: 0.8154 - val_loss: 1.0672 - val_f1_sex: 0.5326 - val_f1_income-label: 0.5465 - val_accuracy_sex: 0.7289 - val_accuracy_income-label: 0.8141\n",
      "Epoch 7/20\n",
      "2/2 [==============================] - 3s 970ms/step - loss: 1.0199 - f1_sex: 0.5710 - f1_income-label: 0.5414 - accuracy_sex: 0.7477 - accuracy_income-label: 0.8155 - val_loss: 1.0500 - val_f1_sex: 0.5346 - val_f1_income-label: 0.5531 - val_accuracy_sex: 0.7322 - val_accuracy_income-label: 0.8174\n",
      "Epoch 8/20\n",
      "2/2 [==============================] - 28s 985ms/step - loss: 1.0073 - f1_sex: 0.5642 - f1_income-label: 0.5417 - accuracy_sex: 0.7437 - accuracy_income-label: 0.8169 - val_loss: 1.0480 - val_f1_sex: 0.5346 - val_f1_income-label: 0.5531 - val_accuracy_sex: 0.7322 - val_accuracy_income-label: 0.8174\n",
      "Epoch 9/20\n",
      "2/2 [==============================] - 6s 961ms/step - loss: 1.0057 - f1_sex: 0.5580 - f1_income-label: 0.5439 - accuracy_sex: 0.7388 - accuracy_income-label: 0.8197 - val_loss: 1.0458 - val_f1_sex: 0.5337 - val_f1_income-label: 0.5515 - val_accuracy_sex: 0.7319 - val_accuracy_income-label: 0.8167\n",
      "Epoch 10/20\n",
      "2/2 [==============================] - 3s 966ms/step - loss: 1.0037 - f1_sex: 0.5725 - f1_income-label: 0.5470 - accuracy_sex: 0.7493 - accuracy_income-label: 0.8174 - val_loss: 1.0433 - val_f1_sex: 0.5338 - val_f1_income-label: 0.5515 - val_accuracy_sex: 0.7325 - val_accuracy_income-label: 0.8167\n",
      "Epoch 11/20\n",
      "2/2 [==============================] - 3s 1s/step - loss: 1.0017 - f1_sex: 0.5655 - f1_income-label: 0.5398 - accuracy_sex: 0.7404 - accuracy_income-label: 0.8203 - val_loss: 1.0407 - val_f1_sex: 0.5322 - val_f1_income-label: 0.5511 - val_accuracy_sex: 0.7325 - val_accuracy_income-label: 0.8164\n",
      "Epoch 12/20\n",
      "2/2 [==============================] - 3s 966ms/step - loss: 0.9995 - f1_sex: 0.5747 - f1_income-label: 0.5517 - accuracy_sex: 0.7524 - accuracy_income-label: 0.8155 - val_loss: 1.0379 - val_f1_sex: 0.5329 - val_f1_income-label: 0.5503 - val_accuracy_sex: 0.7338 - val_accuracy_income-label: 0.8164\n",
      "Epoch 13/20\n",
      "2/2 [==============================] - 5s 905ms/step - loss: 0.9973 - f1_sex: 0.5578 - f1_income-label: 0.5613 - accuracy_sex: 0.7388 - accuracy_income-label: 0.8232 - val_loss: 1.0352 - val_f1_sex: 0.5318 - val_f1_income-label: 0.5503 - val_accuracy_sex: 0.7338 - val_accuracy_income-label: 0.8164\n",
      "Epoch 14/20\n",
      "2/2 [==============================] - 3s 1s/step - loss: 0.9950 - f1_sex: 0.5805 - f1_income-label: 0.5477 - accuracy_sex: 0.7488 - accuracy_income-label: 0.8216 - val_loss: 1.0324 - val_f1_sex: 0.5342 - val_f1_income-label: 0.5518 - val_accuracy_sex: 0.7358 - val_accuracy_income-label: 0.8164\n",
      "Epoch 15/20\n",
      "2/2 [==============================] - 3s 1s/step - loss: 0.9926 - f1_sex: 0.5673 - f1_income-label: 0.5563 - accuracy_sex: 0.7429 - accuracy_income-label: 0.8241 - val_loss: 1.0296 - val_f1_sex: 0.5343 - val_f1_income-label: 0.5518 - val_accuracy_sex: 0.7365 - val_accuracy_income-label: 0.8164\n",
      "Epoch 16/20\n",
      "2/2 [==============================] - 3s 911ms/step - loss: 0.9904 - f1_sex: 0.5605 - f1_income-label: 0.5390 - accuracy_sex: 0.7405 - accuracy_income-label: 0.8106 - val_loss: 1.0267 - val_f1_sex: 0.5366 - val_f1_income-label: 0.5530 - val_accuracy_sex: 0.7378 - val_accuracy_income-label: 0.8167\n",
      "Epoch 17/20\n",
      "2/2 [==============================] - 3s 969ms/step - loss: 0.9881 - f1_sex: 0.5767 - f1_income-label: 0.5285 - accuracy_sex: 0.7533 - accuracy_income-label: 0.8125 - val_loss: 1.0239 - val_f1_sex: 0.5346 - val_f1_income-label: 0.5569 - val_accuracy_sex: 0.7368 - val_accuracy_income-label: 0.8180\n",
      "Epoch 18/20\n",
      "2/2 [==============================] - 7s 3s/step - loss: 0.9858 - f1_sex: 0.5734 - f1_income-label: 0.5662 - accuracy_sex: 0.7537 - accuracy_income-label: 0.8216 - val_loss: 1.0212 - val_f1_sex: 0.5365 - val_f1_income-label: 0.5550 - val_accuracy_sex: 0.7388 - val_accuracy_income-label: 0.8177\n",
      "Epoch 19/20\n",
      "2/2 [==============================] - 5s 3s/step - loss: 0.9836 - f1_sex: 0.5542 - f1_income-label: 0.5371 - accuracy_sex: 0.7419 - accuracy_income-label: 0.8133 - val_loss: 1.0185 - val_f1_sex: 0.5369 - val_f1_income-label: 0.5574 - val_accuracy_sex: 0.7398 - val_accuracy_income-label: 0.8184\n",
      "Epoch 20/20\n",
      "2/2 [==============================] - 3s 972ms/step - loss: 0.9813 - f1_sex: 0.5686 - f1_income-label: 0.5422 - accuracy_sex: 0.7496 - accuracy_income-label: 0.8112 - val_loss: 1.0158 - val_f1_sex: 0.5360 - val_f1_income-label: 0.5569 - val_accuracy_sex: 0.7395 - val_accuracy_income-label: 0.8180\n"
     ]
    }
   ],
   "source": [
    "# Reduced _Model\n",
    "l2 = 0\n",
    "reduced_model = af.ModelNetwork(n_layers=0, hidden_dim=70, l_dim=70, output_dim=2, l2=l2)\n",
    "\n",
    "learning_rate = tf.keras.optimizers.schedules.PiecewiseConstantDecay(boundaries=[8, 13], \n",
    "                                                                     values=[0.1, 0.01, 0.001])\n",
    "# learning_rate = 0.0001\n",
    "reduced_model.compile(optimizer=tf.keras.optimizers.Adam(learning_rate=learning_rate),\n",
    "              loss=af.ising_likelihood, \n",
    "              metrics=[f1_sex_metric, f1_income_metric, accuracy_sex_metric, accuracy_income_metric],\n",
    "             run_eagerly=True)\n",
    "\n",
    "epochs=20\n",
    "callbacks = [\n",
    "    \n",
    "    tf.keras.callbacks.ModelCheckpoint(\n",
    "        # Path where to save the model\n",
    "        # The two parameters below mean that we will overwrite\n",
    "        # the current checkpoint if and only if\n",
    "        # the `val_loss` score has improved.\n",
    "        # The saved model name will include the current epoch.\n",
    "        filepath=f\"saved_model/model_l2:{l2}_epochs:{epochs}\",\n",
    "        save_best_only=True,  # Only save a model if `val_loss` has improved.\n",
    "        monitor=\"val_loss\",\n",
    "        verbose=1,\n",
    "    )\n",
    "]\n",
    "\n",
    "history = reduced_model.fit(train_dataset, epochs=epochs, validation_data=val_dataset)"
   ]
  },
  {
   "cell_type": "code",
   "execution_count": 23,
   "id": "766f9724",
   "metadata": {},
   "outputs": [
    {
     "data": {
      "text/plain": [
       "<matplotlib.legend.Legend at 0x7fbabde5fbb0>"
      ]
     },
     "execution_count": 23,
     "metadata": {},
     "output_type": "execute_result"
    },
    {
     "data": {
      "image/png": "[encoded data removed]",
      "text/plain": [
       "<Figure size 432x288 with 1 Axes>"
      ]
     },
     "metadata": {
      "needs_background": "light"
     },
     "output_type": "display_data"
    }
   ],
   "source": [
    "plt.plot(history.history[\"loss\"], label=\"train\")\n",
    "plt.plot(history.history[\"val_loss\"], label=\"train\")\n",
    "plt.legend()"
   ]
  },
  {
   "cell_type": "code",
   "execution_count": 24,
   "id": "d84bf0a1",
   "metadata": {},
   "outputs": [
    {
     "data": {
      "text/html": [
       "<div>\n",
       "<style scoped>\n",
       "    .dataframe tbody tr th:only-of-type {\n",
       "        vertical-align: middle;\n",
       "    }\n",
       "\n",
       "    .dataframe tbody tr th {\n",
       "        vertical-align: top;\n",
       "    }\n",
       "\n",
       "    .dataframe thead th {\n",
       "        text-align: right;\n",
       "    }\n",
       "</style>\n",
       "<table border=\"1\" class=\"dataframe\">\n",
       "  <thead>\n",
       "    <tr style=\"text-align: right;\">\n",
       "      <th></th>\n",
       "      <th>accuracy</th>\n",
       "      <th>precision</th>\n",
       "      <th>recall</th>\n",
       "      <th>f1</th>\n",
       "    </tr>\n",
       "  </thead>\n",
       "  <tbody>\n",
       "    <tr>\n",
       "      <th>sex-1</th>\n",
       "      <td>0.744090</td>\n",
       "      <td>0.641389</td>\n",
       "      <td>0.488907</td>\n",
       "      <td>0.554863</td>\n",
       "    </tr>\n",
       "    <tr>\n",
       "      <th>income1</th>\n",
       "      <td>0.813612</td>\n",
       "      <td>0.690568</td>\n",
       "      <td>0.437297</td>\n",
       "      <td>0.535496</td>\n",
       "    </tr>\n",
       "  </tbody>\n",
       "</table>\n",
       "</div>"
      ],
      "text/plain": [
       "         accuracy  precision    recall        f1\n",
       "sex-1    0.744090   0.641389  0.488907  0.554863\n",
       "income1  0.813612   0.690568  0.437297  0.535496"
      ]
     },
     "execution_count": 24,
     "metadata": {},
     "output_type": "execute_result"
    }
   ],
   "source": [
    "af.tf_score_summary(model=reduced_model, dataset=test_dataset)"
   ]
  },
  {
   "cell_type": "markdown",
   "id": "39e19303",
   "metadata": {},
   "source": [
    "# P-Value"
   ]
  },
  {
   "cell_type": "code",
   "execution_count": 25,
   "id": "d796fa26",
   "metadata": {},
   "outputs": [],
   "source": [
    "import test_statistic as ts"
   ]
  },
  {
   "cell_type": "code",
   "execution_count": 26,
   "id": "65452e60",
   "metadata": {},
   "outputs": [],
   "source": [
    "score_test = ts.ScoreTest(x_y_mat=train_pca_x_mat, \n",
    "                          j_mat=reduced_model(train_pca_x_mat).numpy(), \n",
    "                          final_linear_input_mat=train_feature_mat, \n",
    "                          network_weights_vet=reduced_model.weights, \n",
    "                          sandwich_boolean=False)"
   ]
  },
  {
   "cell_type": "code",
   "execution_count": 27,
   "id": "d9bfc505",
   "metadata": {},
   "outputs": [],
   "source": [
    "p_value = score_test.p_value(n_batches=5, batch_size=200)"
   ]
  },
  {
   "cell_type": "code",
   "execution_count": 28,
   "id": "500973a4",
   "metadata": {},
   "outputs": [
    {
     "data": {
      "text/plain": [
       "0.0"
      ]
     },
     "execution_count": 28,
     "metadata": {},
     "output_type": "execute_result"
    }
   ],
   "source": [
    "p_value"
   ]
  },
  {
   "cell_type": "code",
   "execution_count": 34,
   "id": "03fff457",
   "metadata": {},
   "outputs": [
    {
     "data": {
      "image/png": "[encoded data removed]",
      "text/plain": [
       "<Figure size 432x288 with 1 Axes>"
      ]
     },
     "metadata": {
      "needs_background": "light"
     },
     "output_type": "display_data"
    }
   ],
   "source": [
    "import matplotlib.pyplot as plt\n",
    "plt.hist(score_test.boostrap_ts_vet)\n",
    "plt.title(\"Histogram of Boostrap Test Statistics\");"
   ]
  },
  {
   "cell_type": "code",
   "execution_count": 35,
   "id": "5eac13e0",
   "metadata": {},
   "outputs": [
    {
     "data": {
      "text/plain": [
       "2909292.973091906"
      ]
     },
     "execution_count": 35,
     "metadata": {},
     "output_type": "execute_result"
    }
   ],
   "source": [
    "score_test.test_statistic"
   ]
  }
 ],
 "metadata": {
  "hide_input": false,
  "kernelspec": {
   "display_name": "Python 3 (ipykernel)",
   "language": "python",
   "name": "python3"
  },
  "language_info": {
   "codemirror_mode": {
    "name": "ipython",
    "version": 3
   },
   "file_extension": ".py",
   "mimetype": "text/x-python",
   "name": "python",
   "nbconvert_exporter": "python",
   "pygments_lexer": "ipython3",
   "version": "3.10.0"
  },
  "toc": {
   "base_numbering": 1,
   "nav_menu": {},
   "number_sections": true,
   "sideBar": true,
   "skip_h1_title": false,
   "title_cell": "Table of Contents",
   "title_sidebar": "Contents",
   "toc_cell": false,
   "toc_position": {},
   "toc_section_display": true,
   "toc_window_display": false
  }
 },
 "nbformat": 4,
 "nbformat_minor": 5
}
