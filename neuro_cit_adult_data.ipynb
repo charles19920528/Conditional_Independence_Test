{
 "cells": [
  {
   "cell_type": "code",
   "execution_count": 1,
   "id": "7f4ecb28",
   "metadata": {},
   "outputs": [],
   "source": [
    "import adult_data_functions as af\n",
    "import numpy as np\n",
    "import tensorflow as tf\n",
    "# import os \n",
    "# os.environ['CUDA_VISIBLE_DEVICES'] = '-1'\n",
    "from sklearn import preprocessing\n",
    "from sklearn.model_selection import train_test_split"
   ]
  },
  {
   "cell_type": "code",
   "execution_count": 2,
   "id": "f1ab4c84",
   "metadata": {},
   "outputs": [],
   "source": [
    "tf.random.set_seed(0)\n",
    "np.random.seed(0)"
   ]
  },
  {
   "cell_type": "markdown",
   "id": "7b4ab987",
   "metadata": {},
   "source": [
    "# Process Data"
   ]
  },
  {
   "cell_type": "code",
   "execution_count": 3,
   "id": "1fb61d57",
   "metadata": {},
   "outputs": [],
   "source": [
    "# Load data\n",
    "categorical_feature_encoder = preprocessing.OneHotEncoder()\n",
    "sex_encoder = preprocessing.LabelEncoder() \n",
    "income_encoder = preprocessing.LabelEncoder()\n",
    "\n",
    "merge_country_boolean=False\n",
    "merge_education_boolean=False\n",
    "\n",
    "train_data_dict = af.preprocess(adult_dt_path=\"data/adult.data\", \n",
    "                                categorical_feature_encoder=categorical_feature_encoder, \n",
    "                                sex_encoder=sex_encoder,\n",
    "                                income_encoder=income_encoder, encoder_fit_boolean=True,\n",
    "                               merge_country_boolean=merge_country_boolean, \n",
    "                               merge_education_boolean=merge_education_boolean)"
   ]
  },
  {
   "cell_type": "code",
   "execution_count": 4,
   "id": "d20fe8a6",
   "metadata": {},
   "outputs": [
    {
     "data": {
      "text/plain": [
       "0    0.751078\n",
       "1    0.248922\n",
       "dtype: float64"
      ]
     },
     "execution_count": 4,
     "metadata": {},
     "output_type": "execute_result"
    }
   ],
   "source": [
    "import pandas as pd\n",
    "pd.Series(train_data_dict[\"income-label\"]).value_counts(normalize=True)"
   ]
  },
  {
   "cell_type": "code",
   "execution_count": 5,
   "id": "2bdda886",
   "metadata": {},
   "outputs": [
    {
     "data": {
      "text/plain": [
       "1    0.675685\n",
       "0    0.324315\n",
       "dtype: float64"
      ]
     },
     "execution_count": 5,
     "metadata": {},
     "output_type": "execute_result"
    }
   ],
   "source": [
    "pd.Series(train_data_dict[\"sex\"]).value_counts(normalize=True)"
   ]
  },
  {
   "cell_type": "markdown",
   "id": "0ee02681",
   "metadata": {},
   "source": [
    "## Train Validation Split"
   ]
  },
  {
   "cell_type": "code",
   "execution_count": 6,
   "id": "5bc9c779",
   "metadata": {},
   "outputs": [
    {
     "data": {
      "text/plain": [
       "30162"
      ]
     },
     "execution_count": 6,
     "metadata": {},
     "output_type": "execute_result"
    }
   ],
   "source": [
    "indices_array = np.arange(train_data_dict[\"income-label\"].shape[0])\n",
    "len(indices_array)"
   ]
  },
  {
   "cell_type": "code",
   "execution_count": 7,
   "id": "6b619df4",
   "metadata": {},
   "outputs": [],
   "source": [
    "# split based on income\n",
    "indices_array = np.arange(train_data_dict[\"income-label\"].shape[0])\n",
    "train_indices_array, val_indices_array = train_test_split(indices_array, \n",
    "                                                           stratify=train_data_dict[\"income-label\"], \n",
    "                                                           test_size=0.1, \n",
    "                                                           random_state=0)"
   ]
  },
  {
   "cell_type": "code",
   "execution_count": 8,
   "id": "7ae9dd5f",
   "metadata": {},
   "outputs": [],
   "source": [
    "from sklearn.preprocessing import StandardScaler\n",
    "train_feature_mat = np.hstack([train_data_dict[\"categorical-features\"][train_indices_array, :].toarray(), \n",
    "               train_data_dict[\"continuous-features\"][train_indices_array, :]])\n",
    "val_feature_mat = np.hstack([train_data_dict[\"categorical-features\"][val_indices_array, :].toarray(), \n",
    "               train_data_dict[\"continuous-features\"][val_indices_array, :]])\n",
    "\n",
    "scaler = StandardScaler()\n",
    "\n",
    "scaled_train_feature_mat = scaler.fit_transform(train_feature_mat)\n",
    "scaled_val_feature_mat = scaler.fit_transform(val_feature_mat)"
   ]
  },
  {
   "cell_type": "code",
   "execution_count": 9,
   "id": "ebd2d204",
   "metadata": {},
   "outputs": [],
   "source": [
    "from sklearn.decomposition import PCA\n",
    "pca = PCA(n_components=scaled_train_feature_mat.shape[1] - 5)\n",
    "train_pca_x_mat = pca.fit_transform(scaled_train_feature_mat)\n",
    "val_pca_x_mat = pca.transform(scaled_val_feature_mat)"
   ]
  },
  {
   "cell_type": "code",
   "execution_count": 10,
   "id": "d13929f8",
   "metadata": {},
   "outputs": [
    {
     "name": "stderr",
     "output_type": "stream",
     "text": [
      "2022-05-03 11:42:01.773893: I tensorflow/core/common_runtime/gpu/gpu_device.cc:1510] Created device /job:localhost/replica:0/task:0/device:GPU:0 with 9983 MB memory:  -> device: 0, name: GeForce GTX 1080 Ti, pci bus id: 0000:42:00.0, compute capability: 6.1\n"
     ]
    }
   ],
   "source": [
    "# Prepare x_y_mat (sex, income)\n",
    "x_y_mat = np.hstack([train_data_dict[\"sex\"].reshape(-1, 1), train_data_dict[\"income-label\"].reshape(-1, 1)])\n",
    "x_y_mat = 2 * x_y_mat - 1\n",
    "\n",
    "train_dataset = tf.data.Dataset.from_tensor_slices((train_pca_x_mat, x_y_mat[train_indices_array, :]))\n",
    "val_dataset = tf.data.Dataset.from_tensor_slices((val_pca_x_mat, x_y_mat[val_indices_array, :]))"
   ]
  },
  {
   "cell_type": "code",
   "execution_count": 11,
   "id": "c0462621",
   "metadata": {},
   "outputs": [],
   "source": [
    "buffer_size = 50000\n",
    "batch_size = 20000\n",
    "\n",
    "train_dataset = train_dataset.shuffle(buffer_size).batch(batch_size)\n",
    "val_dataset = val_dataset.shuffle(buffer_size).batch(batch_size)"
   ]
  },
  {
   "cell_type": "code",
   "execution_count": 12,
   "id": "029b70c7",
   "metadata": {},
   "outputs": [
    {
     "data": {
      "text/plain": [
       " 1    0.675041\n",
       "-1    0.324959\n",
       "dtype: float64"
      ]
     },
     "execution_count": 12,
     "metadata": {},
     "output_type": "execute_result"
    }
   ],
   "source": [
    "pd.Series(x_y_mat[train_indices_array, 0]).value_counts(normalize=True)"
   ]
  },
  {
   "cell_type": "code",
   "execution_count": 13,
   "id": "e15922ac",
   "metadata": {},
   "outputs": [
    {
     "data": {
      "text/plain": [
       " 1    0.681472\n",
       "-1    0.318528\n",
       "dtype: float64"
      ]
     },
     "execution_count": 13,
     "metadata": {},
     "output_type": "execute_result"
    }
   ],
   "source": [
    "pd.Series(x_y_mat[val_indices_array, 0]).value_counts(normalize=True)"
   ]
  },
  {
   "cell_type": "markdown",
   "id": "21c8943f",
   "metadata": {},
   "source": [
    "# Training"
   ]
  },
  {
   "cell_type": "code",
   "execution_count": 14,
   "id": "9153f700",
   "metadata": {},
   "outputs": [],
   "source": [
    "# for n_layers in [0, 1, 5]:\n",
    "#     for l2 in [0.0001, 0.001, 0.1, 0, 1, 10, 100]:\n",
    "#         model = af.ModelNetwork(n_layers=n_layers, hidden_dim=59, final_dim=59, output_dim=3, \n",
    "#                                 education_dim=None, occupation_dim=None,\n",
    "#                        final_layer_regularizer=tf.keras.regularizers.L2(l2))\n",
    "        \n",
    "#         learning_rate = tf.keras.optimizers.schedules.PiecewiseConstantDecay(boundaries=[2,50], \n",
    "#                                                                              values=[0.01, 0.001, 0.0001])\n",
    "#         epochs=500\n",
    "#         optimizer = tf.keras.optimizers.Adam(learning_rate=learning_rate)\n",
    "        \n",
    "#         model.compile(optimizer=optimizer,\n",
    "#               loss=af.ising_likelihood,\n",
    "#               run_eagerly=True)\n",
    "\n",
    "#         callbacks = [\n",
    "#             tf.keras.callbacks.EarlyStopping(\n",
    "#                 # Stop training when `val_loss` is no longer improving\n",
    "#                 monitor=\"val_loss\",\n",
    "#                 # \"no longer improving\" being defined as \"no better than 1e-2 less\"\n",
    "#                 min_delta=1e-2,\n",
    "#                 # \"no longer improving\" being further defined as \"for at least 2 epochs\"\n",
    "#                 patience=3,\n",
    "#                 verbose=1,\n",
    "#             ),\n",
    "#             tf.keras.callbacks.ModelCheckpoint(\n",
    "#                 # Path where to save the model\n",
    "#                 # The two parameters below mean that we will overwrite\n",
    "#                 # the current checkpoint if and only if\n",
    "#                 # the `val_loss` score has improved.\n",
    "#                 # The saved model name will include the current epoch.\n",
    "#                 filepath=f\"saved_model/model_n_layer:{n_layers}_l2:{l2}_drop:{0.8}\",\n",
    "#                 save_best_only=True,  # Only save a model if `val_loss` has improved.\n",
    "#                 monitor=\"val_loss\",\n",
    "#                 verbose=1,\n",
    "#             )\n",
    "#         ]\n",
    "        \n",
    "#         model.fit(train_dataset, epochs=epochs, validation_data=val_dataset, callbacks=callbacks)"
   ]
  },
  {
   "cell_type": "code",
   "execution_count": 15,
   "id": "b23b7afb",
   "metadata": {},
   "outputs": [],
   "source": [
    "f1_sex_metric = af.Metric(name=\"f1\", response_name=\"sex\")\n",
    "f1_income_metric = af.Metric(name=\"f1\", response_name=\"income-label\")\n",
    "accuracy_sex_metric = af.Metric(name=\"accuracy\", response_name=\"sex\")\n",
    "accuracy_income_metric = af.Metric(name=\"accuracy\", response_name=\"income-label\")"
   ]
  },
  {
   "cell_type": "code",
   "execution_count": 16,
   "id": "4be0f5c2",
   "metadata": {},
   "outputs": [],
   "source": [
    "l2 = 0\n",
    "model = af.ModelNetwork(n_layers=0, hidden_dim=79, l_dim=79, output_dim=2, l2=l2)\n",
    "\n",
    "learning_rate = tf.keras.optimizers.schedules.PiecewiseConstantDecay(boundaries=[10, 15], \n",
    "                                                                     values=[0.1, 0.01, 0.001])\n",
    "# learning_rate = 0.0001\n",
    "model.compile(optimizer=tf.keras.optimizers.Adam(learning_rate=learning_rate),\n",
    "              loss=af.ising_likelihood, \n",
    "              metrics=[f1_sex_metric, f1_income_metric, accuracy_sex_metric, accuracy_income_metric],\n",
    "             run_eagerly=True)"
   ]
  },
  {
   "cell_type": "code",
   "execution_count": 17,
   "id": "a740e93f",
   "metadata": {},
   "outputs": [],
   "source": [
    "epochs=30\n",
    "\n",
    "# tf.keras.callbacks.EarlyStopping(\n",
    "#         # Stop training when `val_loss` is no longer improving\n",
    "#         monitor=\"val_loss\",\n",
    "#         # \"no longer improving\" being defined as \"no better than 1e-2 less\"\n",
    "#         min_delta=1e-2,\n",
    "#         # \"no longer improving\" being further defined as \"for at least 2 epochs\"\n",
    "#         patience=10,\n",
    "#         verbose=1,\n",
    "#     ),\n",
    "# callbacks = [\n",
    "    \n",
    "#     tf.keras.callbacks.ModelCheckpoint(\n",
    "#         # Path where to save the model\n",
    "#         # The two parameters below mean that we will overwrite\n",
    "#         # the current checkpoint if and only if\n",
    "#         # the `val_loss` score has improved.\n",
    "#         # The saved model name will include the current epoch.\n",
    "#         filepath=f\"saved_model/model_l2:{l2}_epochs:{epochs}\",\n",
    "#         save_best_only=True,  # Only save a model if `val_loss` has improved.\n",
    "#         monitor=\"val_loss\",\n",
    "#         verbose=1,\n",
    "#     )\n",
    "# ]"
   ]
  },
  {
   "cell_type": "code",
   "execution_count": 18,
   "id": "6de96dde",
   "metadata": {},
   "outputs": [
    {
     "name": "stdout",
     "output_type": "stream",
     "text": [
      "Epoch 1/30\n"
     ]
    },
    {
     "name": "stderr",
     "output_type": "stream",
     "text": [
      "2022-05-03 11:42:02.578755: I tensorflow/compiler/mlir/mlir_graph_optimization_pass.cc:185] None of the MLIR Optimization Passes are enabled (registered 2)\n"
     ]
    },
    {
     "name": "stdout",
     "output_type": "stream",
     "text": [
      "2/2 [==============================] - 17s 4s/step - loss: 2.2369 - f1_sex: 0.4035 - f1_income-label: 0.4367 - accuracy_sex: 0.5461 - accuracy_income-label: 0.6014 - val_loss: 1.2626 - val_f1_sex: 0.5368 - val_f1_income-label: 0.5701 - val_accuracy_sex: 0.6659 - val_accuracy_income-label: 0.7216\n",
      "Epoch 2/30\n",
      "2/2 [==============================] - 12s 4s/step - loss: 1.2445 - f1_sex: 0.5758 - f1_income-label: 0.5662 - accuracy_sex: 0.7094 - accuracy_income-label: 0.7435 - val_loss: 1.2048 - val_f1_sex: 0.5667 - val_f1_income-label: 0.5576 - val_accuracy_sex: 0.7203 - val_accuracy_income-label: 0.7554\n",
      "Epoch 3/30\n",
      "2/2 [==============================] - 12s 4s/step - loss: 1.1795 - f1_sex: 0.5938 - f1_income-label: 0.5400 - accuracy_sex: 0.7307 - accuracy_income-label: 0.7639 - val_loss: 1.1664 - val_f1_sex: 0.5836 - val_f1_income-label: 0.5480 - val_accuracy_sex: 0.7352 - val_accuracy_income-label: 0.7786\n",
      "Epoch 4/30\n",
      "2/2 [==============================] - 12s 4s/step - loss: 1.1223 - f1_sex: 0.5966 - f1_income-label: 0.5451 - accuracy_sex: 0.7460 - accuracy_income-label: 0.7898 - val_loss: 1.0960 - val_f1_sex: 0.5696 - val_f1_income-label: 0.5510 - val_accuracy_sex: 0.7365 - val_accuracy_income-label: 0.7985\n",
      "Epoch 5/30\n",
      "2/2 [==============================] - 12s 3s/step - loss: 1.0595 - f1_sex: 0.5762 - f1_income-label: 0.5583 - accuracy_sex: 0.7439 - accuracy_income-label: 0.8118 - val_loss: 1.0534 - val_f1_sex: 0.5433 - val_f1_income-label: 0.5550 - val_accuracy_sex: 0.7342 - val_accuracy_income-label: 0.8124\n",
      "Epoch 6/30\n",
      "2/2 [==============================] - 12s 4s/step - loss: 1.0314 - f1_sex: 0.5555 - f1_income-label: 0.5419 - accuracy_sex: 0.7352 - accuracy_income-label: 0.8116 - val_loss: 1.0414 - val_f1_sex: 0.5240 - val_f1_income-label: 0.5548 - val_accuracy_sex: 0.7302 - val_accuracy_income-label: 0.8154\n",
      "Epoch 7/30\n",
      "2/2 [==============================] - 13s 4s/step - loss: 1.0247 - f1_sex: 0.5502 - f1_income-label: 0.5369 - accuracy_sex: 0.7318 - accuracy_income-label: 0.8172 - val_loss: 1.0328 - val_f1_sex: 0.5247 - val_f1_income-label: 0.5551 - val_accuracy_sex: 0.7322 - val_accuracy_income-label: 0.8167\n",
      "Epoch 8/30\n",
      "2/2 [==============================] - 12s 4s/step - loss: 1.0156 - f1_sex: 0.5452 - f1_income-label: 0.5255 - accuracy_sex: 0.7334 - accuracy_income-label: 0.8122 - val_loss: 1.0207 - val_f1_sex: 0.5311 - val_f1_income-label: 0.5572 - val_accuracy_sex: 0.7355 - val_accuracy_income-label: 0.8177\n",
      "Epoch 9/30\n",
      "2/2 [==============================] - 13s 4s/step - loss: 1.0044 - f1_sex: 0.5679 - f1_income-label: 0.5411 - accuracy_sex: 0.7425 - accuracy_income-label: 0.8108 - val_loss: 1.0193 - val_f1_sex: 0.5312 - val_f1_income-label: 0.5565 - val_accuracy_sex: 0.7362 - val_accuracy_income-label: 0.8177\n",
      "Epoch 10/30\n",
      "2/2 [==============================] - 12s 4s/step - loss: 1.0029 - f1_sex: 0.5587 - f1_income-label: 0.5386 - accuracy_sex: 0.7418 - accuracy_income-label: 0.8137 - val_loss: 1.0176 - val_f1_sex: 0.5301 - val_f1_income-label: 0.5553 - val_accuracy_sex: 0.7362 - val_accuracy_income-label: 0.8174\n",
      "Epoch 11/30\n",
      "2/2 [==============================] - 12s 4s/step - loss: 1.0011 - f1_sex: 0.5619 - f1_income-label: 0.5349 - accuracy_sex: 0.7429 - accuracy_income-label: 0.8119 - val_loss: 1.0158 - val_f1_sex: 0.5304 - val_f1_income-label: 0.5537 - val_accuracy_sex: 0.7365 - val_accuracy_income-label: 0.8167\n",
      "Epoch 12/30\n",
      "2/2 [==============================] - 13s 4s/step - loss: 0.9992 - f1_sex: 0.5556 - f1_income-label: 0.5340 - accuracy_sex: 0.7458 - accuracy_income-label: 0.8161 - val_loss: 1.0140 - val_f1_sex: 0.5322 - val_f1_income-label: 0.5546 - val_accuracy_sex: 0.7378 - val_accuracy_income-label: 0.8174\n",
      "Epoch 13/30\n",
      "2/2 [==============================] - 13s 4s/step - loss: 0.9972 - f1_sex: 0.5543 - f1_income-label: 0.5403 - accuracy_sex: 0.7416 - accuracy_income-label: 0.8140 - val_loss: 1.0120 - val_f1_sex: 0.5302 - val_f1_income-label: 0.5546 - val_accuracy_sex: 0.7368 - val_accuracy_income-label: 0.8174\n",
      "Epoch 14/30\n",
      "2/2 [==============================] - 13s 4s/step - loss: 0.9951 - f1_sex: 0.5660 - f1_income-label: 0.5236 - accuracy_sex: 0.7463 - accuracy_income-label: 0.8092 - val_loss: 1.0100 - val_f1_sex: 0.5316 - val_f1_income-label: 0.5541 - val_accuracy_sex: 0.7372 - val_accuracy_income-label: 0.8170\n",
      "Epoch 15/30\n",
      "2/2 [==============================] - 12s 4s/step - loss: 0.9930 - f1_sex: 0.5685 - f1_income-label: 0.5327 - accuracy_sex: 0.7485 - accuracy_income-label: 0.8129 - val_loss: 1.0081 - val_f1_sex: 0.5344 - val_f1_income-label: 0.5574 - val_accuracy_sex: 0.7378 - val_accuracy_income-label: 0.8184\n",
      "Epoch 16/30\n",
      "2/2 [==============================] - 13s 4s/step - loss: 0.9909 - f1_sex: 0.5479 - f1_income-label: 0.5399 - accuracy_sex: 0.7415 - accuracy_income-label: 0.8120 - val_loss: 1.0061 - val_f1_sex: 0.5393 - val_f1_income-label: 0.5576 - val_accuracy_sex: 0.7395 - val_accuracy_income-label: 0.8180\n",
      "Epoch 17/30\n",
      "2/2 [==============================] - 13s 4s/step - loss: 0.9888 - f1_sex: 0.5648 - f1_income-label: 0.5324 - accuracy_sex: 0.7485 - accuracy_income-label: 0.8125 - val_loss: 1.0042 - val_f1_sex: 0.5404 - val_f1_income-label: 0.5588 - val_accuracy_sex: 0.7395 - val_accuracy_income-label: 0.8184\n",
      "Epoch 18/30\n",
      "2/2 [==============================] - 12s 4s/step - loss: 0.9866 - f1_sex: 0.5603 - f1_income-label: 0.5481 - accuracy_sex: 0.7443 - accuracy_income-label: 0.8161 - val_loss: 1.0022 - val_f1_sex: 0.5393 - val_f1_income-label: 0.5576 - val_accuracy_sex: 0.7395 - val_accuracy_income-label: 0.8180\n",
      "Epoch 19/30\n",
      "2/2 [==============================] - 13s 4s/step - loss: 0.9846 - f1_sex: 0.5556 - f1_income-label: 0.5474 - accuracy_sex: 0.7412 - accuracy_income-label: 0.8109 - val_loss: 1.0003 - val_f1_sex: 0.5381 - val_f1_income-label: 0.5581 - val_accuracy_sex: 0.7388 - val_accuracy_income-label: 0.8184\n",
      "Epoch 20/30\n",
      "2/2 [==============================] - 13s 4s/step - loss: 0.9825 - f1_sex: 0.5540 - f1_income-label: 0.5379 - accuracy_sex: 0.7425 - accuracy_income-label: 0.8108 - val_loss: 0.9985 - val_f1_sex: 0.5390 - val_f1_income-label: 0.5592 - val_accuracy_sex: 0.7391 - val_accuracy_income-label: 0.8187\n",
      "Epoch 21/30\n",
      "2/2 [==============================] - 12s 4s/step - loss: 0.9805 - f1_sex: 0.5741 - f1_income-label: 0.5420 - accuracy_sex: 0.7541 - accuracy_income-label: 0.8162 - val_loss: 0.9966 - val_f1_sex: 0.5401 - val_f1_income-label: 0.5585 - val_accuracy_sex: 0.7398 - val_accuracy_income-label: 0.8187\n",
      "Epoch 22/30\n",
      "2/2 [==============================] - 12s 3s/step - loss: 0.9786 - f1_sex: 0.5674 - f1_income-label: 0.5416 - accuracy_sex: 0.7467 - accuracy_income-label: 0.8174 - val_loss: 0.9948 - val_f1_sex: 0.5419 - val_f1_income-label: 0.5562 - val_accuracy_sex: 0.7411 - val_accuracy_income-label: 0.8180\n",
      "Epoch 23/30\n",
      "2/2 [==============================] - 12s 4s/step - loss: 0.9767 - f1_sex: 0.5543 - f1_income-label: 0.5478 - accuracy_sex: 0.7443 - accuracy_income-label: 0.8158 - val_loss: 0.9931 - val_f1_sex: 0.5426 - val_f1_income-label: 0.5543 - val_accuracy_sex: 0.7418 - val_accuracy_income-label: 0.8177\n",
      "Epoch 24/30\n",
      "2/2 [==============================] - 12s 4s/step - loss: 0.9749 - f1_sex: 0.5543 - f1_income-label: 0.5274 - accuracy_sex: 0.7384 - accuracy_income-label: 0.8139 - val_loss: 0.9914 - val_f1_sex: 0.5442 - val_f1_income-label: 0.5543 - val_accuracy_sex: 0.7435 - val_accuracy_income-label: 0.8177\n",
      "Epoch 25/30\n",
      "2/2 [==============================] - 12s 4s/step - loss: 0.9731 - f1_sex: 0.5823 - f1_income-label: 0.5463 - accuracy_sex: 0.7500 - accuracy_income-label: 0.8182 - val_loss: 0.9898 - val_f1_sex: 0.5447 - val_f1_income-label: 0.5519 - val_accuracy_sex: 0.7435 - val_accuracy_income-label: 0.8170\n",
      "Epoch 26/30\n",
      "2/2 [==============================] - 12s 4s/step - loss: 0.9714 - f1_sex: 0.5606 - f1_income-label: 0.5449 - accuracy_sex: 0.7453 - accuracy_income-label: 0.8183 - val_loss: 0.9883 - val_f1_sex: 0.5452 - val_f1_income-label: 0.5547 - val_accuracy_sex: 0.7435 - val_accuracy_income-label: 0.8180\n",
      "Epoch 27/30\n",
      "2/2 [==============================] - 13s 4s/step - loss: 0.9697 - f1_sex: 0.5478 - f1_income-label: 0.5379 - accuracy_sex: 0.7430 - accuracy_income-label: 0.8115 - val_loss: 0.9868 - val_f1_sex: 0.5452 - val_f1_income-label: 0.5556 - val_accuracy_sex: 0.7435 - val_accuracy_income-label: 0.8187\n"
     ]
    },
    {
     "name": "stdout",
     "output_type": "stream",
     "text": [
      "Epoch 28/30\n",
      "2/2 [==============================] - 13s 4s/step - loss: 0.9681 - f1_sex: 0.5659 - f1_income-label: 0.5100 - accuracy_sex: 0.7464 - accuracy_income-label: 0.8071 - val_loss: 0.9853 - val_f1_sex: 0.5476 - val_f1_income-label: 0.5568 - val_accuracy_sex: 0.7448 - val_accuracy_income-label: 0.8190\n",
      "Epoch 29/30\n",
      "2/2 [==============================] - 13s 4s/step - loss: 0.9665 - f1_sex: 0.5553 - f1_income-label: 0.5390 - accuracy_sex: 0.7393 - accuracy_income-label: 0.8188 - val_loss: 0.9839 - val_f1_sex: 0.5453 - val_f1_income-label: 0.5564 - val_accuracy_sex: 0.7441 - val_accuracy_income-label: 0.8187\n",
      "Epoch 30/30\n",
      "2/2 [==============================] - 12s 4s/step - loss: 0.9650 - f1_sex: 0.5647 - f1_income-label: 0.5332 - accuracy_sex: 0.7471 - accuracy_income-label: 0.8192 - val_loss: 0.9825 - val_f1_sex: 0.5462 - val_f1_income-label: 0.5575 - val_accuracy_sex: 0.7444 - val_accuracy_income-label: 0.8190\n"
     ]
    }
   ],
   "source": [
    "history = model.fit(train_dataset, epochs=epochs, validation_data=val_dataset)"
   ]
  },
  {
   "cell_type": "code",
   "execution_count": 19,
   "id": "c6c5a7fa",
   "metadata": {},
   "outputs": [
    {
     "data": {
      "text/plain": [
       "<matplotlib.legend.Legend at 0x7f50d0344190>"
      ]
     },
     "execution_count": 19,
     "metadata": {},
     "output_type": "execute_result"
    },
    {
     "data": {
      "image/png": "[encoded data removed]",
      "text/plain": [
       "<Figure size 432x288 with 1 Axes>"
      ]
     },
     "metadata": {
      "needs_background": "light"
     },
     "output_type": "display_data"
    }
   ],
   "source": [
    "import matplotlib.pyplot as plt\n",
    "plt.plot(history.history[\"loss\"], label=\"train\")\n",
    "plt.plot(history.history[\"val_loss\"], label=\"train\")\n",
    "plt.legend()"
   ]
  },
  {
   "cell_type": "code",
   "execution_count": 20,
   "id": "32cf2534",
   "metadata": {},
   "outputs": [],
   "source": [
    "test_data_dict = af.preprocess(adult_dt_path=\"data/adult.test\", \n",
    "                                categorical_feature_encoder=categorical_feature_encoder, \n",
    "                                sex_encoder=sex_encoder,\n",
    "                                income_encoder=income_encoder, encoder_fit_boolean=False,\n",
    "                               merge_country_boolean=merge_country_boolean, \n",
    "                               merge_education_boolean=merge_education_boolean)\n",
    "\n",
    "test_feature_mat = np.hstack([test_data_dict[\"categorical-features\"].toarray(), \n",
    "               test_data_dict[\"continuous-features\"]])\n",
    "\n",
    "scaled_test_feature_mat = scaler.transform(test_feature_mat)\n",
    "test_pca_x_mat = pca.transform(scaled_test_feature_mat)\n",
    "\n",
    "test_x_y_mat = np.hstack([test_data_dict[\"sex\"].reshape(-1, 1), test_data_dict[\"income-label\"].reshape(-1, 1)])\n",
    "test_x_y_mat = 2 * test_x_y_mat - 1\n",
    "test_dataset = tf.data.Dataset.from_tensor_slices((test_pca_x_mat, test_x_y_mat)).batch(batch_size)"
   ]
  },
  {
   "cell_type": "code",
   "execution_count": 21,
   "id": "38bc5b9b",
   "metadata": {},
   "outputs": [
    {
     "data": {
      "text/html": [
       "<div>\n",
       "<style scoped>\n",
       "    .dataframe tbody tr th:only-of-type {\n",
       "        vertical-align: middle;\n",
       "    }\n",
       "\n",
       "    .dataframe tbody tr th {\n",
       "        vertical-align: top;\n",
       "    }\n",
       "\n",
       "    .dataframe thead th {\n",
       "        text-align: right;\n",
       "    }\n",
       "</style>\n",
       "<table border=\"1\" class=\"dataframe\">\n",
       "  <thead>\n",
       "    <tr style=\"text-align: right;\">\n",
       "      <th></th>\n",
       "      <th>accuracy</th>\n",
       "      <th>precision</th>\n",
       "      <th>recall</th>\n",
       "      <th>f1</th>\n",
       "    </tr>\n",
       "  </thead>\n",
       "  <tbody>\n",
       "    <tr>\n",
       "      <th>sex-1</th>\n",
       "      <td>0.745153</td>\n",
       "      <td>0.646978</td>\n",
       "      <td>0.481579</td>\n",
       "      <td>0.552159</td>\n",
       "    </tr>\n",
       "    <tr>\n",
       "      <th>income1</th>\n",
       "      <td>0.812683</td>\n",
       "      <td>0.689032</td>\n",
       "      <td>0.432973</td>\n",
       "      <td>0.531784</td>\n",
       "    </tr>\n",
       "  </tbody>\n",
       "</table>\n",
       "</div>"
      ],
      "text/plain": [
       "         accuracy  precision    recall        f1\n",
       "sex-1    0.745153   0.646978  0.481579  0.552159\n",
       "income1  0.812683   0.689032  0.432973  0.531784"
      ]
     },
     "execution_count": 21,
     "metadata": {},
     "output_type": "execute_result"
    }
   ],
   "source": [
    "af.tf_score_summary(model=model, dataset=test_dataset)"
   ]
  },
  {
   "cell_type": "code",
   "execution_count": null,
   "id": "ff46ea7e",
   "metadata": {},
   "outputs": [],
   "source": []
  },
  {
   "cell_type": "code",
   "execution_count": null,
   "id": "b7abea5b",
   "metadata": {},
   "outputs": [],
   "source": []
  },
  {
   "cell_type": "code",
   "execution_count": 22,
   "id": "e9dc86f7",
   "metadata": {},
   "outputs": [
    {
     "name": "stdout",
     "output_type": "stream",
     "text": [
      "Epoch 1/20\n",
      "2/2 [==============================] - 12s 4s/step - loss: 2.4089 - f1_sex: 0.4546 - f1_income-label: 0.2145 - accuracy_sex: 0.5681 - accuracy_income-label: 0.5439 - val_loss: 1.3304 - val_f1_sex: 0.5427 - val_f1_income-label: 0.4124 - val_accuracy_sex: 0.6944 - val_accuracy_income-label: 0.6977\n",
      "Epoch 2/20\n",
      "2/2 [==============================] - 12s 4s/step - loss: 1.2820 - f1_sex: 0.5680 - f1_income-label: 0.5145 - accuracy_sex: 0.7145 - accuracy_income-label: 0.7232 - val_loss: 1.2032 - val_f1_sex: 0.5662 - val_f1_income-label: 0.5250 - val_accuracy_sex: 0.7146 - val_accuracy_income-label: 0.7319\n",
      "Epoch 3/20\n",
      "2/2 [==============================] - 13s 4s/step - loss: 1.1507 - f1_sex: 0.5722 - f1_income-label: 0.5502 - accuracy_sex: 0.7220 - accuracy_income-label: 0.7582 - val_loss: 1.1250 - val_f1_sex: 0.5777 - val_f1_income-label: 0.5667 - val_accuracy_sex: 0.7305 - val_accuracy_income-label: 0.7739\n",
      "Epoch 4/20\n",
      "2/2 [==============================] - 13s 4s/step - loss: 1.0732 - f1_sex: 0.5813 - f1_income-label: 0.5612 - accuracy_sex: 0.7241 - accuracy_income-label: 0.7931 - val_loss: 1.0618 - val_f1_sex: 0.5719 - val_f1_income-label: 0.5985 - val_accuracy_sex: 0.7355 - val_accuracy_income-label: 0.8074\n",
      "Epoch 5/20\n",
      "2/2 [==============================] - 14s 4s/step - loss: 1.0254 - f1_sex: 0.5751 - f1_income-label: 0.5646 - accuracy_sex: 0.7349 - accuracy_income-label: 0.8042 - val_loss: 1.0437 - val_f1_sex: 0.5739 - val_f1_income-label: 0.5938 - val_accuracy_sex: 0.7431 - val_accuracy_income-label: 0.8127\n",
      "Epoch 6/20\n",
      "2/2 [==============================] - 13s 4s/step - loss: 1.0138 - f1_sex: 0.5897 - f1_income-label: 0.5760 - accuracy_sex: 0.7458 - accuracy_income-label: 0.8115 - val_loss: 1.0367 - val_f1_sex: 0.5686 - val_f1_income-label: 0.5938 - val_accuracy_sex: 0.7415 - val_accuracy_income-label: 0.8141\n",
      "Epoch 7/20\n",
      "2/2 [==============================] - 13s 4s/step - loss: 1.0062 - f1_sex: 0.5847 - f1_income-label: 0.5727 - accuracy_sex: 0.7428 - accuracy_income-label: 0.8099 - val_loss: 1.0266 - val_f1_sex: 0.5641 - val_f1_income-label: 0.5898 - val_accuracy_sex: 0.7408 - val_accuracy_income-label: 0.8160\n",
      "Epoch 8/20\n",
      "2/2 [==============================] - 13s 4s/step - loss: 0.9968 - f1_sex: 0.5852 - f1_income-label: 0.5727 - accuracy_sex: 0.7429 - accuracy_income-label: 0.8133 - val_loss: 1.0254 - val_f1_sex: 0.5641 - val_f1_income-label: 0.5905 - val_accuracy_sex: 0.7408 - val_accuracy_income-label: 0.8170\n",
      "Epoch 9/20\n",
      "2/2 [==============================] - 13s 4s/step - loss: 0.9955 - f1_sex: 0.5784 - f1_income-label: 0.5694 - accuracy_sex: 0.7380 - accuracy_income-label: 0.8146 - val_loss: 1.0239 - val_f1_sex: 0.5632 - val_f1_income-label: 0.5909 - val_accuracy_sex: 0.7398 - val_accuracy_income-label: 0.8174\n",
      "Epoch 10/20\n",
      "2/2 [==============================] - 13s 4s/step - loss: 0.9940 - f1_sex: 0.5894 - f1_income-label: 0.5687 - accuracy_sex: 0.7456 - accuracy_income-label: 0.8119 - val_loss: 1.0224 - val_f1_sex: 0.5625 - val_f1_income-label: 0.5914 - val_accuracy_sex: 0.7391 - val_accuracy_income-label: 0.8177\n",
      "Epoch 11/20\n",
      "2/2 [==============================] - 13s 4s/step - loss: 0.9923 - f1_sex: 0.5883 - f1_income-label: 0.5822 - accuracy_sex: 0.7412 - accuracy_income-label: 0.8204 - val_loss: 1.0208 - val_f1_sex: 0.5619 - val_f1_income-label: 0.5923 - val_accuracy_sex: 0.7395 - val_accuracy_income-label: 0.8184\n",
      "Epoch 12/20\n",
      "2/2 [==============================] - 13s 4s/step - loss: 0.9905 - f1_sex: 0.5861 - f1_income-label: 0.5814 - accuracy_sex: 0.7470 - accuracy_income-label: 0.8126 - val_loss: 1.0190 - val_f1_sex: 0.5622 - val_f1_income-label: 0.5927 - val_accuracy_sex: 0.7398 - val_accuracy_income-label: 0.8187\n",
      "Epoch 13/20\n",
      "2/2 [==============================] - 13s 4s/step - loss: 0.9887 - f1_sex: 0.5805 - f1_income-label: 0.5853 - accuracy_sex: 0.7401 - accuracy_income-label: 0.8193 - val_loss: 1.0173 - val_f1_sex: 0.5650 - val_f1_income-label: 0.5900 - val_accuracy_sex: 0.7418 - val_accuracy_income-label: 0.8180\n",
      "Epoch 14/20\n",
      "2/2 [==============================] - 13s 4s/step - loss: 0.9867 - f1_sex: 0.5922 - f1_income-label: 0.5701 - accuracy_sex: 0.7425 - accuracy_income-label: 0.8160 - val_loss: 1.0154 - val_f1_sex: 0.5636 - val_f1_income-label: 0.5910 - val_accuracy_sex: 0.7418 - val_accuracy_income-label: 0.8184\n",
      "Epoch 15/20\n",
      "2/2 [==============================] - 13s 4s/step - loss: 0.9848 - f1_sex: 0.5793 - f1_income-label: 0.5784 - accuracy_sex: 0.7380 - accuracy_income-label: 0.8190 - val_loss: 1.0136 - val_f1_sex: 0.5617 - val_f1_income-label: 0.5921 - val_accuracy_sex: 0.7408 - val_accuracy_income-label: 0.8187\n",
      "Epoch 16/20\n",
      "2/2 [==============================] - 13s 4s/step - loss: 0.9829 - f1_sex: 0.5899 - f1_income-label: 0.5635 - accuracy_sex: 0.7449 - accuracy_income-label: 0.8074 - val_loss: 1.0118 - val_f1_sex: 0.5600 - val_f1_income-label: 0.5925 - val_accuracy_sex: 0.7411 - val_accuracy_income-label: 0.8190\n",
      "Epoch 17/20\n",
      "2/2 [==============================] - 12s 4s/step - loss: 0.9809 - f1_sex: 0.5821 - f1_income-label: 0.5652 - accuracy_sex: 0.7442 - accuracy_income-label: 0.8116 - val_loss: 1.0099 - val_f1_sex: 0.5587 - val_f1_income-label: 0.5925 - val_accuracy_sex: 0.7408 - val_accuracy_income-label: 0.8190\n",
      "Epoch 18/20\n",
      "2/2 [==============================] - 13s 4s/step - loss: 0.9790 - f1_sex: 0.5896 - f1_income-label: 0.5860 - accuracy_sex: 0.7492 - accuracy_income-label: 0.8161 - val_loss: 1.0081 - val_f1_sex: 0.5575 - val_f1_income-label: 0.5919 - val_accuracy_sex: 0.7411 - val_accuracy_income-label: 0.8190\n",
      "Epoch 19/20\n",
      "2/2 [==============================] - 13s 4s/step - loss: 0.9771 - f1_sex: 0.5729 - f1_income-label: 0.5567 - accuracy_sex: 0.7400 - accuracy_income-label: 0.8063 - val_loss: 1.0063 - val_f1_sex: 0.5557 - val_f1_income-label: 0.5937 - val_accuracy_sex: 0.7408 - val_accuracy_income-label: 0.8204\n",
      "Epoch 20/20\n",
      "2/2 [==============================] - 13s 4s/step - loss: 0.9753 - f1_sex: 0.5934 - f1_income-label: 0.5615 - accuracy_sex: 0.7509 - accuracy_income-label: 0.8063 - val_loss: 1.0046 - val_f1_sex: 0.5560 - val_f1_income-label: 0.5911 - val_accuracy_sex: 0.7411 - val_accuracy_income-label: 0.8194\n"
     ]
    }
   ],
   "source": [
    "# Reduced _Model\n",
    "l2 = 0\n",
    "reduced_model = af.ModelNetwork(n_layers=0, hidden_dim=70, l_dim=70, output_dim=2, l2=l2)\n",
    "\n",
    "learning_rate = tf.keras.optimizers.schedules.PiecewiseConstantDecay(boundaries=[8, 13], \n",
    "                                                                     values=[0.1, 0.01, 0.001])\n",
    "# learning_rate = 0.0001\n",
    "reduced_model.compile(optimizer=tf.keras.optimizers.Adam(learning_rate=learning_rate),\n",
    "              loss=af.ising_likelihood, \n",
    "              metrics=[f1_sex_metric, f1_income_metric, accuracy_sex_metric, accuracy_income_metric],\n",
    "             run_eagerly=True)\n",
    "\n",
    "epochs=20\n",
    "callbacks = [\n",
    "    \n",
    "    tf.keras.callbacks.ModelCheckpoint(\n",
    "        # Path where to save the model\n",
    "        # The two parameters below mean that we will overwrite\n",
    "        # the current checkpoint if and only if\n",
    "        # the `val_loss` score has improved.\n",
    "        # The saved model name will include the current epoch.\n",
    "        filepath=f\"saved_model/model_l2:{l2}_epochs:{epochs}\",\n",
    "        save_best_only=True,  # Only save a model if `val_loss` has improved.\n",
    "        monitor=\"val_loss\",\n",
    "        verbose=1,\n",
    "    )\n",
    "]\n",
    "\n",
    "history = reduced_model.fit(train_dataset, epochs=epochs, validation_data=val_dataset)"
   ]
  },
  {
   "cell_type": "code",
   "execution_count": 23,
   "id": "766f9724",
   "metadata": {},
   "outputs": [
    {
     "data": {
      "text/plain": [
       "<matplotlib.legend.Legend at 0x7f5090115550>"
      ]
     },
     "execution_count": 23,
     "metadata": {},
     "output_type": "execute_result"
    },
    {
     "data": {
      "image/png": "[encoded data removed]",
      "text/plain": [
       "<Figure size 432x288 with 1 Axes>"
      ]
     },
     "metadata": {
      "needs_background": "light"
     },
     "output_type": "display_data"
    }
   ],
   "source": [
    "plt.plot(history.history[\"loss\"], label=\"train\")\n",
    "plt.plot(history.history[\"val_loss\"], label=\"train\")\n",
    "plt.legend()"
   ]
  },
  {
   "cell_type": "code",
   "execution_count": 24,
   "id": "d84bf0a1",
   "metadata": {},
   "outputs": [
    {
     "data": {
      "text/html": [
       "<div>\n",
       "<style scoped>\n",
       "    .dataframe tbody tr th:only-of-type {\n",
       "        vertical-align: middle;\n",
       "    }\n",
       "\n",
       "    .dataframe tbody tr th {\n",
       "        vertical-align: top;\n",
       "    }\n",
       "\n",
       "    .dataframe thead th {\n",
       "        text-align: right;\n",
       "    }\n",
       "</style>\n",
       "<table border=\"1\" class=\"dataframe\">\n",
       "  <thead>\n",
       "    <tr style=\"text-align: right;\">\n",
       "      <th></th>\n",
       "      <th>accuracy</th>\n",
       "      <th>precision</th>\n",
       "      <th>recall</th>\n",
       "      <th>f1</th>\n",
       "    </tr>\n",
       "  </thead>\n",
       "  <tbody>\n",
       "    <tr>\n",
       "      <th>sex-1</th>\n",
       "      <td>0.746149</td>\n",
       "      <td>0.638045</td>\n",
       "      <td>0.512721</td>\n",
       "      <td>0.568559</td>\n",
       "    </tr>\n",
       "    <tr>\n",
       "      <th>income1</th>\n",
       "      <td>0.809827</td>\n",
       "      <td>0.648438</td>\n",
       "      <td>0.493514</td>\n",
       "      <td>0.560467</td>\n",
       "    </tr>\n",
       "  </tbody>\n",
       "</table>\n",
       "</div>"
      ],
      "text/plain": [
       "         accuracy  precision    recall        f1\n",
       "sex-1    0.746149   0.638045  0.512721  0.568559\n",
       "income1  0.809827   0.648438  0.493514  0.560467"
      ]
     },
     "execution_count": 24,
     "metadata": {},
     "output_type": "execute_result"
    }
   ],
   "source": [
    "af.tf_score_summary(model=reduced_model, dataset=test_dataset)"
   ]
  },
  {
   "cell_type": "markdown",
   "id": "39e19303",
   "metadata": {},
   "source": [
    "# P-Value"
   ]
  },
  {
   "cell_type": "code",
   "execution_count": 25,
   "id": "d796fa26",
   "metadata": {},
   "outputs": [],
   "source": [
    "import test_statistic as ts"
   ]
  },
  {
   "cell_type": "code",
   "execution_count": 26,
   "id": "65452e60",
   "metadata": {},
   "outputs": [],
   "source": [
    "score_test = ts.ScoreTest(x_y_mat=train_pca_x_mat, \n",
    "                          j_mat=reduced_model(train_pca_x_mat).numpy(), \n",
    "                          final_linear_input_mat=train_feature_mat, \n",
    "                          network_weights_vet=reduced_model.weights, \n",
    "                          sandwich_boolean=False)"
   ]
  },
  {
   "cell_type": "code",
   "execution_count": 27,
   "id": "d9bfc505",
   "metadata": {},
   "outputs": [],
   "source": [
    "p_value = score_test.p_value(n_batches=5, batch_size=200)"
   ]
  },
  {
   "cell_type": "code",
   "execution_count": null,
   "id": "500973a4",
   "metadata": {},
   "outputs": [],
   "source": []
  }
 ],
 "metadata": {
  "hide_input": false,
  "kernelspec": {
   "display_name": "Python 3 (ipykernel)",
   "language": "python",
   "name": "python3"
  },
  "language_info": {
   "codemirror_mode": {
    "name": "ipython",
    "version": 3
   },
   "file_extension": ".py",
   "mimetype": "text/x-python",
   "name": "python",
   "nbconvert_exporter": "python",
   "pygments_lexer": "ipython3",
   "version": "3.7.9"
  },
  "toc": {
   "base_numbering": 1,
   "nav_menu": {},
   "number_sections": true,
   "sideBar": true,
   "skip_h1_title": false,
   "title_cell": "Table of Contents",
   "title_sidebar": "Contents",
   "toc_cell": false,
   "toc_position": {},
   "toc_section_display": true,
   "toc_window_display": false
  }
 },
 "nbformat": 4,
 "nbformat_minor": 5
}
