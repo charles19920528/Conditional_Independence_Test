{
 "cells": [
  {
   "cell_type": "code",
   "execution_count": 1,
   "id": "5cda24bf",
   "metadata": {},
   "outputs": [],
   "source": [
    "import adult_data_functions as af\n",
    "import numpy as np\n",
    "import tensorflow as tf\n",
    "from sklearn import preprocessing\n",
    "from sklearn.model_selection import train_test_split"
   ]
  },
  {
   "cell_type": "markdown",
   "id": "7cf3551b",
   "metadata": {},
   "source": [
    "# Process Data"
   ]
  },
  {
   "cell_type": "code",
   "execution_count": 2,
   "id": "cd61ed1c",
   "metadata": {},
   "outputs": [],
   "source": [
    "# Load data\n",
    "categorical_feature_encoder = preprocessing.OneHotEncoder()\n",
    "sex_encoder = preprocessing.LabelEncoder() \n",
    "race_encoder = preprocessing.LabelEncoder()\n",
    "income_encoder = preprocessing.LabelEncoder()\n",
    "train_data_dict = af.preprocess(adult_dt_path=\"data/adult.data\", \n",
    "                                categorical_feature_encoder=categorical_feature_encoder, \n",
    "                                sex_encoder=sex_encoder, race_encoder=race_encoder, \n",
    "                                income_encoder=income_encoder, encoder_fit_boolean=True)"
   ]
  },
  {
   "cell_type": "markdown",
   "id": "b6c4b8a5",
   "metadata": {},
   "source": [
    "## Train Validation Split"
   ]
  },
  {
   "cell_type": "code",
   "execution_count": 3,
   "id": "62fa10b3",
   "metadata": {},
   "outputs": [
    {
     "data": {
      "text/plain": [
       "32561"
      ]
     },
     "execution_count": 3,
     "metadata": {},
     "output_type": "execute_result"
    }
   ],
   "source": [
    "indices_array = np.arange(train_data_dict[\"income-label\"].shape[0])\n",
    "len(indices_array)"
   ]
  },
  {
   "cell_type": "code",
   "execution_count": 4,
   "id": "cd58d8ff",
   "metadata": {},
   "outputs": [],
   "source": [
    "# split based on income\n",
    "train_indices_array, val_indices_array = train_test_split(indices_array, \n",
    "                                                           stratify=train_data_dict[\"income-label\"], \n",
    "                                                           test_size=0.1, \n",
    "                                                           random_state=0)"
   ]
  },
  {
   "cell_type": "code",
   "execution_count": 5,
   "id": "3e4fbd21",
   "metadata": {},
   "outputs": [
    {
     "name": "stderr",
     "output_type": "stream",
     "text": [
      "2022-04-24 00:01:21.947754: I tensorflow/core/common_runtime/gpu/gpu_device.cc:1510] Created device /job:localhost/replica:0/task:0/device:GPU:0 with 10180 MB memory:  -> device: 0, name: GeForce GTX 1080 Ti, pci bus id: 0000:42:00.0, compute capability: 6.1\n"
     ]
    }
   ],
   "source": [
    "categorical_feature_train_dataset = \\\n",
    "    tf.data.Dataset.from_tensor_slices(train_data_dict[\"categorical-features\"][train_indices_array, :].toarray())\n",
    "categorical_feature_val_dataset = \\\n",
    "    tf.data.Dataset.from_tensor_slices(train_data_dict[\"categorical-features\"][val_indices_array, :].toarray())"
   ]
  },
  {
   "cell_type": "code",
   "execution_count": 6,
   "id": "94b3f1e8",
   "metadata": {},
   "outputs": [],
   "source": [
    "continuous_feature_train_dataset = \\\n",
    "    tf.data.Dataset.from_tensor_slices(train_data_dict[\"continuous-features\"].iloc[train_indices_array, :])\n",
    "continuous_feature_val_dataset = \\\n",
    "    tf.data.Dataset.from_tensor_slices(train_data_dict[\"continuous-features\"].iloc[val_indices_array, :])"
   ]
  },
  {
   "cell_type": "code",
   "execution_count": 7,
   "id": "466afb13",
   "metadata": {},
   "outputs": [],
   "source": [
    "feature_train_dataset = tf.data.Dataset.zip((continuous_feature_train_dataset, categorical_feature_train_dataset))\n",
    "feature_val_dataset = tf.data.Dataset.zip((continuous_feature_val_dataset, categorical_feature_val_dataset))"
   ]
  },
  {
   "cell_type": "code",
   "execution_count": 8,
   "id": "e9c7b2ec",
   "metadata": {},
   "outputs": [],
   "source": [
    "# Prepare x_y_mat (sex, income)\n",
    "x_y_mat = np.hstack([train_data_dict[\"sex\"].reshape(-1, 1), train_data_dict[\"income-label\"].reshape(-1, 1)])\n",
    "x_y_mat = 2 * x_y_mat - 1\n",
    "response_train_dataset = tf.data.Dataset.from_tensor_slices(x_y_mat[train_indices_array, :])\n",
    "response_val_dataset = tf.data.Dataset.from_tensor_slices(x_y_mat[val_indices_array, :])"
   ]
  },
  {
   "cell_type": "code",
   "execution_count": 9,
   "id": "c2905c22",
   "metadata": {},
   "outputs": [],
   "source": [
    "train_dataset = tf.data.Dataset.zip((feature_train_dataset, response_train_dataset))\n",
    "val_dataset = tf.data.Dataset.zip((feature_val_dataset, response_val_dataset))"
   ]
  },
  {
   "cell_type": "code",
   "execution_count": 10,
   "id": "4b67f63b",
   "metadata": {},
   "outputs": [],
   "source": [
    "buffer_size = 50000\n",
    "batch_size = 20000\n",
    "train_dataset = train_dataset.shuffle(buffer_size).batch(batch_size)\n",
    "val_dataset = val_dataset.shuffle(buffer_size).batch(batch_size)"
   ]
  },
  {
   "cell_type": "markdown",
   "id": "e4fa3dda",
   "metadata": {},
   "source": [
    "# Training"
   ]
  },
  {
   "cell_type": "code",
   "execution_count": 11,
   "id": "6ea8500c",
   "metadata": {},
   "outputs": [],
   "source": [
    "model = af.BranchesModel(n_shared_layers=1, shared_hidden_dim=0, shared_output_dim=2, \n",
    "                         n_x_layers=0, x_hidden_dim=0, n_y_layers=0, y_hidden_dim=0, \n",
    "                         education_dim=5, occupation_dim=5,\n",
    "                        shared_regularizer=tf.keras.regularizers.L2(0.05), x_regularizer=None, \n",
    "                        y_regularizer=None)\n",
    "\n",
    "# model = af.BranchesModel(n_shared_layers=3, shared_hidden_dim=60, shared_output_dim=60, n_x_layers=2, x_hidden_dim=40,\n",
    "#                       n_y_layers=2, y_hidden_dim=40, education_dim=5, occupation_dim=5)\n",
    "\n",
    "# model = af.ModelNetwork(number_forward_layers=1, hidden_dim=80, final_dim=60, output_dim=2,\n",
    "#                        education_dim=5, occupation_dim=5)\n",
    "# model.initialize();"
   ]
  },
  {
   "cell_type": "code",
   "execution_count": 12,
   "id": "7fb99792",
   "metadata": {},
   "outputs": [],
   "source": [
    "f1_sex_metric = af.Metric(name=\"f1\", response_name=\"sex\")\n",
    "f1_income_metric = af.Metric(name=\"f1\", response_name=\"income-label\")\n",
    "accuracy_sex_metric = af.Metric(name=\"accuracy\", response_name=\"sex\")\n",
    "accuracy_income_metric = af.Metric(name=\"accuracy\", response_name=\"income-label\")\n",
    "model.compile(optimizer=tf.keras.optimizers.Adam(learning_rate=0.1),\n",
    "              loss=af.ising_likelihood, \n",
    "              metrics=[f1_sex_metric, f1_income_metric, accuracy_sex_metric, accuracy_income_metric],\n",
    "              run_eagerly=True)"
   ]
  },
  {
   "cell_type": "code",
   "execution_count": 13,
   "id": "2add18fa",
   "metadata": {},
   "outputs": [],
   "source": [
    "callbacks = [\n",
    "    tf.keras.callbacks.EarlyStopping(\n",
    "        # Stop training when `val_loss` is no longer improving\n",
    "        monitor=\"val_loss\",\n",
    "        # \"no longer improving\" being defined as \"no better than 1e-2 less\"\n",
    "        min_delta=1e-2,\n",
    "        # \"no longer improving\" being further defined as \"for at least 2 epochs\"\n",
    "        patience=1,\n",
    "        verbose=1,\n",
    "    )\n",
    "]\n",
    "\n",
    "#      tf.keras.callbacks.ModelCheckpoint(\n",
    "#         # Path where to save the model\n",
    "#         # The two parameters below mean that we will overwrite\n",
    "#         # the current checkpoint if and only if\n",
    "#         # the `val_loss` score has improved.\n",
    "#         # The saved model name will include the current epoch.\n",
    "#         filepath=\"saved_model/mymodel_{epoch}\",\n",
    "#         save_best_only=True,  # Only save a model if `val_loss` has improved.\n",
    "#         monitor=\"val_loss\",\n",
    "#         verbose=1,\n",
    "#     )"
   ]
  },
  {
   "cell_type": "code",
   "execution_count": 14,
   "id": "a82e4b6f",
   "metadata": {},
   "outputs": [
    {
     "name": "stdout",
     "output_type": "stream",
     "text": [
      "Epoch 1/20\n",
      "2/2 [==============================] - 60s 19s/step - loss: 8.6516 - f1_sex: 0.0000e+00 - f1_income-label: 0.3870 - accuracy_sex: 0.6728 - accuracy_income-label: 0.2399 - val_loss: 2.0973 - val_f1_sex: 0.0000e+00 - val_f1_income-label: 0.3880 - val_accuracy_sex: 0.6810 - val_accuracy_income-label: 0.2407\n",
      "Epoch 2/20\n",
      "2/2 [==============================] - 55s 19s/step - loss: 2.0713 - f1_sex: 0.0000e+00 - f1_income-label: 0.3924 - accuracy_sex: 0.6664 - accuracy_income-label: 0.2441 - val_loss: 2.0973 - val_f1_sex: 0.0000e+00 - val_f1_income-label: 0.3880 - val_accuracy_sex: 0.6810 - val_accuracy_income-label: 0.2407\n",
      "Epoch 3/20\n",
      "2/2 [==============================] - 55s 19s/step - loss: 2.0713 - f1_sex: 0.0000e+00 - f1_income-label: 0.3872 - accuracy_sex: 0.6682 - accuracy_income-label: 0.2401 - val_loss: 2.0973 - val_f1_sex: 0.0000e+00 - val_f1_income-label: 0.3880 - val_accuracy_sex: 0.6810 - val_accuracy_income-label: 0.2407\n",
      "Epoch 00003: early stopping\n"
     ]
    },
    {
     "data": {
      "text/plain": [
       "<keras.callbacks.History at 0x7fa449106f50>"
      ]
     },
     "execution_count": 14,
     "metadata": {},
     "output_type": "execute_result"
    }
   ],
   "source": [
    "model.fit(train_dataset, epochs=20, validation_data=val_dataset, callbacks=callbacks)"
   ]
  },
  {
   "cell_type": "markdown",
   "id": "22417167",
   "metadata": {},
   "source": [
    "# Check Performance on the Test Set"
   ]
  },
  {
   "cell_type": "code",
   "execution_count": 15,
   "id": "406fd969",
   "metadata": {},
   "outputs": [],
   "source": [
    "test_data_dict = af.preprocess(adult_dt_path=\"data/adult.test\", \n",
    "                                categorical_feature_encoder=categorical_feature_encoder, \n",
    "                                sex_encoder=sex_encoder, race_encoder=race_encoder, \n",
    "                                income_encoder=income_encoder, encoder_fit_boolean=True)"
   ]
  },
  {
   "cell_type": "code",
   "execution_count": 16,
   "id": "1f4a55ae",
   "metadata": {},
   "outputs": [
    {
     "data": {
      "text/plain": [
       "0"
      ]
     },
     "execution_count": 16,
     "metadata": {},
     "output_type": "execute_result"
    }
   ],
   "source": [
    "test_data_dict[\"continuous-features\"][\"age\"].isna().sum()"
   ]
  },
  {
   "cell_type": "code",
   "execution_count": 17,
   "id": "3cd0db2b",
   "metadata": {},
   "outputs": [],
   "source": [
    "categorical_feature_test_dataset = \\\n",
    "    tf.data.Dataset.from_tensor_slices(test_data_dict[\"categorical-features\"].toarray())\n",
    "continuous_feature_test_dataset = \\\n",
    "    tf.data.Dataset.from_tensor_slices(test_data_dict[\"continuous-features\"].to_numpy().astype(\"float32\"))\n",
    "feature_test_dataset = tf.data.Dataset.zip((continuous_feature_test_dataset, categorical_feature_test_dataset))\n",
    "feature_test_dataset = feature_test_dataset.batch(batch_size)"
   ]
  },
  {
   "cell_type": "code",
   "execution_count": 18,
   "id": "8fdb5934",
   "metadata": {},
   "outputs": [],
   "source": [
    "test_par_list = []\n",
    "for input in feature_test_dataset:\n",
    "    test_par_list.append(model(input))"
   ]
  },
  {
   "cell_type": "code",
   "execution_count": 19,
   "id": "3b21ad7f",
   "metadata": {},
   "outputs": [],
   "source": [
    "test_par = tf.concat(test_par_list, axis=0)"
   ]
  },
  {
   "cell_type": "code",
   "execution_count": 20,
   "id": "d1621ad0",
   "metadata": {},
   "outputs": [
    {
     "data": {
      "text/plain": [
       "TensorShape([16281, 2])"
      ]
     },
     "execution_count": 20,
     "metadata": {},
     "output_type": "execute_result"
    }
   ],
   "source": [
    "test_par.shape"
   ]
  },
  {
   "cell_type": "code",
   "execution_count": 21,
   "id": "da437048",
   "metadata": {},
   "outputs": [
    {
     "data": {
      "text/plain": [
       "<tf.Tensor: shape=(16281, 2), dtype=float32, numpy=\n",
       "array([[-1., -1.],\n",
       "       [-1., -1.],\n",
       "       [-1., -1.],\n",
       "       ...,\n",
       "       [-1., -1.],\n",
       "       [-1., -1.],\n",
       "       [-1., -1.]], dtype=float32)>"
      ]
     },
     "execution_count": 21,
     "metadata": {},
     "output_type": "execute_result"
    }
   ],
   "source": [
    "test_par"
   ]
  },
  {
   "cell_type": "code",
   "execution_count": 22,
   "id": "d51f351e",
   "metadata": {},
   "outputs": [
    {
     "data": {
      "text/plain": [
       "array([[1, 1],\n",
       "       [1, 1],\n",
       "       [1, 1],\n",
       "       ...,\n",
       "       [1, 1],\n",
       "       [1, 1],\n",
       "       [1, 1]])"
      ]
     },
     "execution_count": 22,
     "metadata": {},
     "output_type": "execute_result"
    }
   ],
   "source": [
    "pred_test_x_y_mat = af.ising_predict(test_par)\n",
    "pred_test_x_y_mat"
   ]
  },
  {
   "cell_type": "code",
   "execution_count": null,
   "id": "2478960c",
   "metadata": {},
   "outputs": [],
   "source": [
    "model(list(train_dataset.take(1))[0][0])"
   ]
  },
  {
   "cell_type": "code",
   "execution_count": null,
   "id": "0e0bfb74",
   "metadata": {},
   "outputs": [],
   "source": [
    "from sklearn.metrics import accuracy_score, f1_score"
   ]
  },
  {
   "cell_type": "markdown",
   "id": "9997ff9b",
   "metadata": {},
   "source": [
    "## Income"
   ]
  },
  {
   "cell_type": "code",
   "execution_count": null,
   "id": "e7af8ad7",
   "metadata": {},
   "outputs": [],
   "source": [
    "income_test_accuracy = accuracy_score(test_data_dict[\"income-label\"], pred_test_x_y_mat[:, 1])\n",
    "sex_test_accuracy = accuracy_score(test_data_dict[\"sex\"], pred_test_x_y_mat[:, 0])\n",
    "\n",
    "print(f\"income test accuracy is {income_test_accuracy}\")\n",
    "print(f\"sex test accuracy is {sex_test_accuracy}\")"
   ]
  },
  {
   "cell_type": "code",
   "execution_count": null,
   "id": "5f765449",
   "metadata": {},
   "outputs": [],
   "source": [
    "income_test_f1 = f1_score(test_data_dict[\"income-label\"], pred_test_x_y_mat[:, 1])\n",
    "sex_test_f1 = f1_score(test_data_dict[\"sex\"], pred_test_x_y_mat[:, 0])\n",
    "\n",
    "print(f\"income test f1 is {income_test_f1}\")\n",
    "print(f\"sex test f1 is {sex_test_f1}\")"
   ]
  },
  {
   "cell_type": "code",
   "execution_count": 28,
   "id": "82b35b16",
   "metadata": {},
   "outputs": [
    {
     "data": {
      "text/plain": [
       "0.2408095574460244"
      ]
     },
     "execution_count": 28,
     "metadata": {},
     "output_type": "execute_result"
    }
   ],
   "source": [
    "1-sum(x_y_mat[:, 1]==-1)/x_y_mat.shape[0]"
   ]
  },
  {
   "cell_type": "code",
   "execution_count": null,
   "id": "dd5d8c93",
   "metadata": {},
   "outputs": [],
   "source": []
  }
 ],
 "metadata": {
  "hide_input": false,
  "kernelspec": {
   "display_name": "Python 3 (ipykernel)",
   "language": "python",
   "name": "python3"
  },
  "language_info": {
   "codemirror_mode": {
    "name": "ipython",
    "version": 3
   },
   "file_extension": ".py",
   "mimetype": "text/x-python",
   "name": "python",
   "nbconvert_exporter": "python",
   "pygments_lexer": "ipython3",
   "version": "3.7.9"
  },
  "toc": {
   "base_numbering": 1,
   "nav_menu": {},
   "number_sections": true,
   "sideBar": true,
   "skip_h1_title": false,
   "title_cell": "Table of Contents",
   "title_sidebar": "Contents",
   "toc_cell": false,
   "toc_position": {},
   "toc_section_display": true,
   "toc_window_display": false
  }
 },
 "nbformat": 4,
 "nbformat_minor": 5
}
